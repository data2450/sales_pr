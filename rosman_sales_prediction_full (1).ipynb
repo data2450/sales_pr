{
  "nbformat": 4,
  "nbformat_minor": 0,
  "metadata": {
    "colab": {
      "name": "rosman_sales prediction_full.ipynb",
      "provenance": [],
      "collapsed_sections": [],
      "toc_visible": true
    },
    "kernelspec": {
      "name": "python3",
      "display_name": "Python 3"
    },
    "language_info": {
      "name": "python"
    }
  },
  "cells": [
    {
      "cell_type": "code",
      "metadata": {
        "id": "ZHSy1o9beaS4"
      },
      "source": [
        "import pandas as pd\n",
        "import numpy as np\n",
        "import matplotlib.pyplot as plt\n",
        "import seaborn as sns\n",
        "import time\n",
        "from datetime import datetime"
      ],
      "execution_count": 41,
      "outputs": []
    },
    {
      "cell_type": "code",
      "metadata": {
        "colab": {
          "base_uri": "https://localhost:8080/"
        },
        "id": "EX_boTqyev_m",
        "outputId": "50fe2c0e-8e32-464a-aa8e-e309c3dbc8e7"
      },
      "source": [
        "tr=pd.read_csv('/content/drive/MyDrive/datasets_for_colab/dataset/TRAIN.csv')\n",
        "test_1=pd.read_csv('/content/drive/MyDrive/datasets_for_colab/dataset/TEST.csv')"
      ],
      "execution_count": 42,
      "outputs": [
        {
          "output_type": "stream",
          "text": [
            "/usr/local/lib/python3.7/dist-packages/IPython/core/interactiveshell.py:2718: DtypeWarning: Columns (7) have mixed types.Specify dtype option on import or set low_memory=False.\n",
            "  interactivity=interactivity, compiler=compiler, result=result)\n"
          ],
          "name": "stderr"
        }
      ]
    },
    {
      "cell_type": "code",
      "metadata": {
        "id": "gBZsS6YigJzN"
      },
      "source": [
        "test_1['index1'] = test_1.index"
      ],
      "execution_count": 43,
      "outputs": []
    },
    {
      "cell_type": "code",
      "metadata": {
        "id": "9irsTksWgsbU"
      },
      "source": [
        "test_Z=test_1.loc[test_1.Open==0]\n",
        "test_w=test_1.loc[test_1.Open==1]"
      ],
      "execution_count": 44,
      "outputs": []
    },
    {
      "cell_type": "code",
      "metadata": {
        "colab": {
          "base_uri": "https://localhost:8080/"
        },
        "id": "23HJcIDAhe8s",
        "outputId": "e5efd59c-a69c-4179-82bf-f5a7a2f254bb"
      },
      "source": [
        "test_w.shape"
      ],
      "execution_count": 45,
      "outputs": [
        {
          "output_type": "execute_result",
          "data": {
            "text/plain": [
              "(254409, 8)"
            ]
          },
          "metadata": {
            "tags": []
          },
          "execution_count": 45
        }
      ]
    },
    {
      "cell_type": "code",
      "metadata": {
        "colab": {
          "base_uri": "https://localhost:8080/"
        },
        "id": "NmcP9-BogvwV",
        "outputId": "ab751a37-defd-4436-fe82-53ecc246eb85"
      },
      "source": [
        "test_Z.shape"
      ],
      "execution_count": 46,
      "outputs": [
        {
          "output_type": "execute_result",
          "data": {
            "text/plain": [
              "(50754, 8)"
            ]
          },
          "metadata": {
            "tags": []
          },
          "execution_count": 46
        }
      ]
    },
    {
      "cell_type": "code",
      "metadata": {
        "id": "rwvEutESh0rg"
      },
      "source": [
        "train_dr=tr[(tr.Open != 0)&(tr.Sales >0)]"
      ],
      "execution_count": 47,
      "outputs": []
    },
    {
      "cell_type": "code",
      "metadata": {
        "colab": {
          "base_uri": "https://localhost:8080/"
        },
        "id": "6Lvh-QIwh7jM",
        "outputId": "dc63d869-ee78-48e8-c79d-86679da40b0f"
      },
      "source": [
        "train_dr.shape"
      ],
      "execution_count": 48,
      "outputs": [
        {
          "output_type": "execute_result",
          "data": {
            "text/plain": [
              "(589948, 9)"
            ]
          },
          "metadata": {
            "tags": []
          },
          "execution_count": 48
        }
      ]
    },
    {
      "cell_type": "markdown",
      "metadata": {
        "id": "phyr2D6qiKTM"
      },
      "source": [
        "# store dataset "
      ]
    },
    {
      "cell_type": "code",
      "metadata": {
        "id": "Jj3j1X2AeyPc"
      },
      "source": [
        "d=pd.read_csv('/content/drive/MyDrive/datasets_for_colab/dataset/store.csv')"
      ],
      "execution_count": 49,
      "outputs": []
    },
    {
      "cell_type": "markdown",
      "metadata": {
        "id": "90oGecpMtPau"
      },
      "source": [
        "# feature engneering"
      ]
    },
    {
      "cell_type": "code",
      "metadata": {
        "id": "GGMTPeaue0TD"
      },
      "source": [
        "d[\"CompetitionDistance\"].fillna(2325.0, inplace = True)"
      ],
      "execution_count": 50,
      "outputs": []
    },
    {
      "cell_type": "code",
      "metadata": {
        "id": "uOP9C6I2iRGO"
      },
      "source": [
        "d['CompetitionOpenSinceYear'] = d.CompetitionOpenSinceYear.fillna(1900).astype(np.int32)\n",
        "d['CompetitionOpenSinceMonth'] = d.CompetitionOpenSinceMonth.fillna(1).astype(np.int32)\n",
        "d['Promo2SinceYear'] = d.Promo2SinceYear.fillna(1900).astype(np.int32)\n",
        "d['Promo2SinceWeek'] = d.Promo2SinceWeek.fillna(1).astype(np.int32)\n",
        "d['PromoInterval'] =d.PromoInterval.fillna(0)"
      ],
      "execution_count": 51,
      "outputs": []
    },
    {
      "cell_type": "code",
      "metadata": {
        "colab": {
          "base_uri": "https://localhost:8080/"
        },
        "id": "cUe8otmAiZyt",
        "outputId": "7175067b-8847-49e5-b460-76df2d0e90ef"
      },
      "source": [
        "d.info()"
      ],
      "execution_count": 52,
      "outputs": [
        {
          "output_type": "stream",
          "text": [
            "<class 'pandas.core.frame.DataFrame'>\n",
            "RangeIndex: 1115 entries, 0 to 1114\n",
            "Data columns (total 10 columns):\n",
            " #   Column                     Non-Null Count  Dtype  \n",
            "---  ------                     --------------  -----  \n",
            " 0   Store                      1115 non-null   int64  \n",
            " 1   StoreType                  1115 non-null   object \n",
            " 2   Assortment                 1115 non-null   object \n",
            " 3   CompetitionDistance        1115 non-null   float64\n",
            " 4   CompetitionOpenSinceMonth  1115 non-null   int32  \n",
            " 5   CompetitionOpenSinceYear   1115 non-null   int32  \n",
            " 6   Promo2                     1115 non-null   int64  \n",
            " 7   Promo2SinceWeek            1115 non-null   int32  \n",
            " 8   Promo2SinceYear            1115 non-null   int32  \n",
            " 9   PromoInterval              1115 non-null   object \n",
            "dtypes: float64(1), int32(4), int64(2), object(3)\n",
            "memory usage: 69.8+ KB\n"
          ],
          "name": "stdout"
        }
      ]
    },
    {
      "cell_type": "code",
      "metadata": {
        "id": "2aBaASSRgir1"
      },
      "source": [
        "joined_tr=pd.merge(train_dr,d,on=['Store'],how='left')"
      ],
      "execution_count": 53,
      "outputs": []
    },
    {
      "cell_type": "code",
      "metadata": {
        "colab": {
          "base_uri": "https://localhost:8080/"
        },
        "id": "qaGgqXEMi3tZ",
        "outputId": "dae513bd-b300-4efa-fc20-942e34ce088d"
      },
      "source": [
        "joined_tr.shape"
      ],
      "execution_count": 54,
      "outputs": [
        {
          "output_type": "execute_result",
          "data": {
            "text/plain": [
              "(589948, 18)"
            ]
          },
          "metadata": {
            "tags": []
          },
          "execution_count": 54
        }
      ]
    },
    {
      "cell_type": "code",
      "metadata": {
        "id": "h6JqOPmBi5T4"
      },
      "source": [
        "joined_tr['SalePerCustomer'] = (joined_tr['Sales']/joined_tr['Customers']).round(2)"
      ],
      "execution_count": 55,
      "outputs": []
    },
    {
      "cell_type": "code",
      "metadata": {
        "id": "czmZqqryjOjx"
      },
      "source": [
        "joined_tr['weekend']=np.where(joined_tr['DayOfWeek']>5,1,0)"
      ],
      "execution_count": 56,
      "outputs": []
    },
    {
      "cell_type": "markdown",
      "metadata": {
        "id": "RaMhj7lQmmCB"
      },
      "source": [
        "# promotion ratio"
      ]
    },
    {
      "cell_type": "code",
      "metadata": {
        "id": "O73DD8pij7pm"
      },
      "source": [
        "b=joined_tr[joined_tr.Promo==1]"
      ],
      "execution_count": 57,
      "outputs": []
    },
    {
      "cell_type": "code",
      "metadata": {
        "id": "7z3sC2V8nJR4"
      },
      "source": [
        "j=b.groupby(['Store'])['Sales'].agg(['median'])"
      ],
      "execution_count": 58,
      "outputs": []
    },
    {
      "cell_type": "code",
      "metadata": {
        "id": "tEG58fCsnPCA"
      },
      "source": [
        "j.reset_index(inplace=True)"
      ],
      "execution_count": 59,
      "outputs": []
    },
    {
      "cell_type": "code",
      "metadata": {
        "id": "xos_pLbfnRAO"
      },
      "source": [
        "j.columns=['Store','promo_med']"
      ],
      "execution_count": 60,
      "outputs": []
    },
    {
      "cell_type": "code",
      "metadata": {
        "colab": {
          "base_uri": "https://localhost:8080/",
          "height": 204
        },
        "id": "HxZEiTr6nS-w",
        "outputId": "0ca12a17-d409-437e-cc9a-5898c3c77795"
      },
      "source": [
        "j.head()"
      ],
      "execution_count": 61,
      "outputs": [
        {
          "output_type": "execute_result",
          "data": {
            "text/html": [
              "<div>\n",
              "<style scoped>\n",
              "    .dataframe tbody tr th:only-of-type {\n",
              "        vertical-align: middle;\n",
              "    }\n",
              "\n",
              "    .dataframe tbody tr th {\n",
              "        vertical-align: top;\n",
              "    }\n",
              "\n",
              "    .dataframe thead th {\n",
              "        text-align: right;\n",
              "    }\n",
              "</style>\n",
              "<table border=\"1\" class=\"dataframe\">\n",
              "  <thead>\n",
              "    <tr style=\"text-align: right;\">\n",
              "      <th></th>\n",
              "      <th>Store</th>\n",
              "      <th>promo_med</th>\n",
              "    </tr>\n",
              "  </thead>\n",
              "  <tbody>\n",
              "    <tr>\n",
              "      <th>0</th>\n",
              "      <td>1</td>\n",
              "      <td>5140.5</td>\n",
              "    </tr>\n",
              "    <tr>\n",
              "      <th>1</th>\n",
              "      <td>2</td>\n",
              "      <td>6308.0</td>\n",
              "    </tr>\n",
              "    <tr>\n",
              "      <th>2</th>\n",
              "      <td>3</td>\n",
              "      <td>8528.5</td>\n",
              "    </tr>\n",
              "    <tr>\n",
              "      <th>3</th>\n",
              "      <td>4</td>\n",
              "      <td>10319.0</td>\n",
              "    </tr>\n",
              "    <tr>\n",
              "      <th>4</th>\n",
              "      <td>5</td>\n",
              "      <td>5899.0</td>\n",
              "    </tr>\n",
              "  </tbody>\n",
              "</table>\n",
              "</div>"
            ],
            "text/plain": [
              "   Store  promo_med\n",
              "0      1     5140.5\n",
              "1      2     6308.0\n",
              "2      3     8528.5\n",
              "3      4    10319.0\n",
              "4      5     5899.0"
            ]
          },
          "metadata": {
            "tags": []
          },
          "execution_count": 61
        }
      ]
    },
    {
      "cell_type": "code",
      "metadata": {
        "id": "oddPviDjnWGa"
      },
      "source": [
        "v=joined_tr[joined_tr.Promo==0]\n",
        "c=v.groupby(['Store'])['Sales'].agg(['median'])"
      ],
      "execution_count": 62,
      "outputs": []
    },
    {
      "cell_type": "code",
      "metadata": {
        "colab": {
          "base_uri": "https://localhost:8080/",
          "height": 204
        },
        "id": "e_DL7FqGnhtZ",
        "outputId": "7a8abb03-eaf2-402a-b31a-0ae0edd68124"
      },
      "source": [
        "c.reset_index(inplace=True)\n",
        "c.columns=['Store','nopr_med']\n",
        "c.head()"
      ],
      "execution_count": 63,
      "outputs": [
        {
          "output_type": "execute_result",
          "data": {
            "text/html": [
              "<div>\n",
              "<style scoped>\n",
              "    .dataframe tbody tr th:only-of-type {\n",
              "        vertical-align: middle;\n",
              "    }\n",
              "\n",
              "    .dataframe tbody tr th {\n",
              "        vertical-align: top;\n",
              "    }\n",
              "\n",
              "    .dataframe thead th {\n",
              "        text-align: right;\n",
              "    }\n",
              "</style>\n",
              "<table border=\"1\" class=\"dataframe\">\n",
              "  <thead>\n",
              "    <tr style=\"text-align: right;\">\n",
              "      <th></th>\n",
              "      <th>Store</th>\n",
              "      <th>nopr_med</th>\n",
              "    </tr>\n",
              "  </thead>\n",
              "  <tbody>\n",
              "    <tr>\n",
              "      <th>0</th>\n",
              "      <td>1</td>\n",
              "      <td>4018.0</td>\n",
              "    </tr>\n",
              "    <tr>\n",
              "      <th>1</th>\n",
              "      <td>2</td>\n",
              "      <td>3981.0</td>\n",
              "    </tr>\n",
              "    <tr>\n",
              "      <th>2</th>\n",
              "      <td>3</td>\n",
              "      <td>5328.5</td>\n",
              "    </tr>\n",
              "    <tr>\n",
              "      <th>3</th>\n",
              "      <td>4</td>\n",
              "      <td>8798.5</td>\n",
              "    </tr>\n",
              "    <tr>\n",
              "      <th>4</th>\n",
              "      <td>5</td>\n",
              "      <td>3710.0</td>\n",
              "    </tr>\n",
              "  </tbody>\n",
              "</table>\n",
              "</div>"
            ],
            "text/plain": [
              "   Store  nopr_med\n",
              "0      1    4018.0\n",
              "1      2    3981.0\n",
              "2      3    5328.5\n",
              "3      4    8798.5\n",
              "4      5    3710.0"
            ]
          },
          "metadata": {
            "tags": []
          },
          "execution_count": 63
        }
      ]
    },
    {
      "cell_type": "code",
      "metadata": {
        "colab": {
          "base_uri": "https://localhost:8080/",
          "height": 204
        },
        "id": "FA6lXxhIoJRi",
        "outputId": "375ac101-f465-4112-a71f-67654c247649"
      },
      "source": [
        "joint=pd.merge(c,j,on='Store')\n",
        "joint['promo_ratio']=(joint['promo_med']/joint['nopr_med']).round(2)\n",
        "joint.head()"
      ],
      "execution_count": 64,
      "outputs": [
        {
          "output_type": "execute_result",
          "data": {
            "text/html": [
              "<div>\n",
              "<style scoped>\n",
              "    .dataframe tbody tr th:only-of-type {\n",
              "        vertical-align: middle;\n",
              "    }\n",
              "\n",
              "    .dataframe tbody tr th {\n",
              "        vertical-align: top;\n",
              "    }\n",
              "\n",
              "    .dataframe thead th {\n",
              "        text-align: right;\n",
              "    }\n",
              "</style>\n",
              "<table border=\"1\" class=\"dataframe\">\n",
              "  <thead>\n",
              "    <tr style=\"text-align: right;\">\n",
              "      <th></th>\n",
              "      <th>Store</th>\n",
              "      <th>nopr_med</th>\n",
              "      <th>promo_med</th>\n",
              "      <th>promo_ratio</th>\n",
              "    </tr>\n",
              "  </thead>\n",
              "  <tbody>\n",
              "    <tr>\n",
              "      <th>0</th>\n",
              "      <td>1</td>\n",
              "      <td>4018.0</td>\n",
              "      <td>5140.5</td>\n",
              "      <td>1.28</td>\n",
              "    </tr>\n",
              "    <tr>\n",
              "      <th>1</th>\n",
              "      <td>2</td>\n",
              "      <td>3981.0</td>\n",
              "      <td>6308.0</td>\n",
              "      <td>1.58</td>\n",
              "    </tr>\n",
              "    <tr>\n",
              "      <th>2</th>\n",
              "      <td>3</td>\n",
              "      <td>5328.5</td>\n",
              "      <td>8528.5</td>\n",
              "      <td>1.60</td>\n",
              "    </tr>\n",
              "    <tr>\n",
              "      <th>3</th>\n",
              "      <td>4</td>\n",
              "      <td>8798.5</td>\n",
              "      <td>10319.0</td>\n",
              "      <td>1.17</td>\n",
              "    </tr>\n",
              "    <tr>\n",
              "      <th>4</th>\n",
              "      <td>5</td>\n",
              "      <td>3710.0</td>\n",
              "      <td>5899.0</td>\n",
              "      <td>1.59</td>\n",
              "    </tr>\n",
              "  </tbody>\n",
              "</table>\n",
              "</div>"
            ],
            "text/plain": [
              "   Store  nopr_med  promo_med  promo_ratio\n",
              "0      1    4018.0     5140.5         1.28\n",
              "1      2    3981.0     6308.0         1.58\n",
              "2      3    5328.5     8528.5         1.60\n",
              "3      4    8798.5    10319.0         1.17\n",
              "4      5    3710.0     5899.0         1.59"
            ]
          },
          "metadata": {
            "tags": []
          },
          "execution_count": 64
        }
      ]
    },
    {
      "cell_type": "code",
      "metadata": {
        "colab": {
          "base_uri": "https://localhost:8080/"
        },
        "id": "TKz5klXGj6QJ",
        "outputId": "6700a906-bf36-4bfb-880d-17f8c19ab5de"
      },
      "source": [
        "first=joint[['Store','promo_ratio']]\n",
        "first.info()"
      ],
      "execution_count": 65,
      "outputs": [
        {
          "output_type": "stream",
          "text": [
            "<class 'pandas.core.frame.DataFrame'>\n",
            "Int64Index: 1115 entries, 0 to 1114\n",
            "Data columns (total 2 columns):\n",
            " #   Column       Non-Null Count  Dtype  \n",
            "---  ------       --------------  -----  \n",
            " 0   Store        1115 non-null   int64  \n",
            " 1   promo_ratio  1115 non-null   float64\n",
            "dtypes: float64(1), int64(1)\n",
            "memory usage: 26.1 KB\n"
          ],
          "name": "stdout"
        }
      ]
    },
    {
      "cell_type": "code",
      "metadata": {
        "id": "1rpaJ2NyCIwK"
      },
      "source": [
        "joined_tr=pd.merge(joined_tr, first , on=['Store'],how='left')"
      ],
      "execution_count": 66,
      "outputs": []
    },
    {
      "cell_type": "code",
      "metadata": {
        "colab": {
          "base_uri": "https://localhost:8080/"
        },
        "id": "ky4-9jk2CP4n",
        "outputId": "fe96977b-1a82-46d4-d7cd-8b68f7296e9f"
      },
      "source": [
        "joined_tr.info()"
      ],
      "execution_count": 67,
      "outputs": [
        {
          "output_type": "stream",
          "text": [
            "<class 'pandas.core.frame.DataFrame'>\n",
            "Int64Index: 589948 entries, 0 to 589947\n",
            "Data columns (total 21 columns):\n",
            " #   Column                     Non-Null Count   Dtype  \n",
            "---  ------                     --------------   -----  \n",
            " 0   Store                      589948 non-null  int64  \n",
            " 1   DayOfWeek                  589948 non-null  int64  \n",
            " 2   Date                       589948 non-null  object \n",
            " 3   Sales                      589948 non-null  int64  \n",
            " 4   Customers                  589948 non-null  int64  \n",
            " 5   Open                       589948 non-null  int64  \n",
            " 6   Promo                      589948 non-null  int64  \n",
            " 7   StateHoliday               589948 non-null  object \n",
            " 8   SchoolHoliday              589948 non-null  int64  \n",
            " 9   StoreType                  589948 non-null  object \n",
            " 10  Assortment                 589948 non-null  object \n",
            " 11  CompetitionDistance        589948 non-null  float64\n",
            " 12  CompetitionOpenSinceMonth  589948 non-null  int32  \n",
            " 13  CompetitionOpenSinceYear   589948 non-null  int32  \n",
            " 14  Promo2                     589948 non-null  int64  \n",
            " 15  Promo2SinceWeek            589948 non-null  int32  \n",
            " 16  Promo2SinceYear            589948 non-null  int32  \n",
            " 17  PromoInterval              589948 non-null  object \n",
            " 18  SalePerCustomer            589948 non-null  float64\n",
            " 19  weekend                    589948 non-null  int64  \n",
            " 20  promo_ratio                589948 non-null  float64\n",
            "dtypes: float64(3), int32(4), int64(9), object(5)\n",
            "memory usage: 90.0+ MB\n"
          ],
          "name": "stdout"
        }
      ]
    },
    {
      "cell_type": "code",
      "metadata": {
        "id": "I4eRKxHCogQ-"
      },
      "source": [
        "def q90(x):\n",
        "    return x.quantile(0.9)\n",
        "\n",
        "\n",
        "def q25(x):\n",
        "    return x.quantile(0.25)\n",
        "\n",
        "def q01(x):\n",
        "    return x.quantile(0.01)"
      ],
      "execution_count": 68,
      "outputs": []
    },
    {
      "cell_type": "code",
      "metadata": {
        "id": "g7phqBOHojkn"
      },
      "source": [
        "dr1=joined_tr.groupby(['Store','Promo','weekend'])['Sales'].agg(['median','std',q90,q25,q01])"
      ],
      "execution_count": 75,
      "outputs": []
    },
    {
      "cell_type": "code",
      "metadata": {
        "colab": {
          "base_uri": "https://localhost:8080/",
          "height": 235
        },
        "id": "Crr7IqYBon7b",
        "outputId": "4a813907-d342-41d2-b698-a2041f07b7ce"
      },
      "source": [
        "dr1.head()"
      ],
      "execution_count": 76,
      "outputs": [
        {
          "output_type": "execute_result",
          "data": {
            "text/html": [
              "<div>\n",
              "<style scoped>\n",
              "    .dataframe tbody tr th:only-of-type {\n",
              "        vertical-align: middle;\n",
              "    }\n",
              "\n",
              "    .dataframe tbody tr th {\n",
              "        vertical-align: top;\n",
              "    }\n",
              "\n",
              "    .dataframe thead th {\n",
              "        text-align: right;\n",
              "    }\n",
              "</style>\n",
              "<table border=\"1\" class=\"dataframe\">\n",
              "  <thead>\n",
              "    <tr style=\"text-align: right;\">\n",
              "      <th></th>\n",
              "      <th></th>\n",
              "      <th></th>\n",
              "      <th>median</th>\n",
              "      <th>std</th>\n",
              "      <th>q90</th>\n",
              "      <th>q25</th>\n",
              "      <th>q01</th>\n",
              "    </tr>\n",
              "    <tr>\n",
              "      <th>Store</th>\n",
              "      <th>Promo</th>\n",
              "      <th>weekend</th>\n",
              "      <th></th>\n",
              "      <th></th>\n",
              "      <th></th>\n",
              "      <th></th>\n",
              "      <th></th>\n",
              "    </tr>\n",
              "  </thead>\n",
              "  <tbody>\n",
              "    <tr>\n",
              "      <th rowspan=\"3\" valign=\"top\">1</th>\n",
              "      <th rowspan=\"2\" valign=\"top\">0</th>\n",
              "      <th>0</th>\n",
              "      <td>3808.0</td>\n",
              "      <td>876.351157</td>\n",
              "      <td>4708.0</td>\n",
              "      <td>3565.50</td>\n",
              "      <td>2619.40</td>\n",
              "    </tr>\n",
              "    <tr>\n",
              "      <th>1</th>\n",
              "      <td>4757.0</td>\n",
              "      <td>893.767196</td>\n",
              "      <td>6032.6</td>\n",
              "      <td>4355.50</td>\n",
              "      <td>3578.88</td>\n",
              "    </tr>\n",
              "    <tr>\n",
              "      <th>1</th>\n",
              "      <th>0</th>\n",
              "      <td>5140.5</td>\n",
              "      <td>870.627603</td>\n",
              "      <td>6255.2</td>\n",
              "      <td>4651.75</td>\n",
              "      <td>3776.62</td>\n",
              "    </tr>\n",
              "    <tr>\n",
              "      <th rowspan=\"2\" valign=\"top\">2</th>\n",
              "      <th rowspan=\"2\" valign=\"top\">0</th>\n",
              "      <th>0</th>\n",
              "      <td>4204.5</td>\n",
              "      <td>848.593817</td>\n",
              "      <td>5205.9</td>\n",
              "      <td>3911.25</td>\n",
              "      <td>2409.70</td>\n",
              "    </tr>\n",
              "    <tr>\n",
              "      <th>1</th>\n",
              "      <td>2847.0</td>\n",
              "      <td>507.292402</td>\n",
              "      <td>3437.8</td>\n",
              "      <td>2583.50</td>\n",
              "      <td>2272.14</td>\n",
              "    </tr>\n",
              "  </tbody>\n",
              "</table>\n",
              "</div>"
            ],
            "text/plain": [
              "                     median         std     q90      q25      q01\n",
              "Store Promo weekend                                              \n",
              "1     0     0        3808.0  876.351157  4708.0  3565.50  2619.40\n",
              "            1        4757.0  893.767196  6032.6  4355.50  3578.88\n",
              "      1     0        5140.5  870.627603  6255.2  4651.75  3776.62\n",
              "2     0     0        4204.5  848.593817  5205.9  3911.25  2409.70\n",
              "            1        2847.0  507.292402  3437.8  2583.50  2272.14"
            ]
          },
          "metadata": {
            "tags": []
          },
          "execution_count": 76
        }
      ]
    },
    {
      "cell_type": "code",
      "metadata": {
        "id": "wSD90I4Toy1f"
      },
      "source": [
        "dr1.reset_index(inplace=True)"
      ],
      "execution_count": 77,
      "outputs": []
    },
    {
      "cell_type": "code",
      "metadata": {
        "id": "8diyiQYGo0xT"
      },
      "source": [
        "dr1.columns=['Store','Promo','weekend','S_median','S_std','S_90','S_25','S_01']"
      ],
      "execution_count": 78,
      "outputs": []
    },
    {
      "cell_type": "code",
      "metadata": {
        "id": "wzueI0TVo3Co",
        "colab": {
          "base_uri": "https://localhost:8080/"
        },
        "outputId": "a996124e-f3ee-45e3-c556-88aa293ba878"
      },
      "source": [
        "dr1.S_std_n=dr1.S_std.round(2)"
      ],
      "execution_count": 79,
      "outputs": [
        {
          "output_type": "stream",
          "text": [
            "/usr/local/lib/python3.7/dist-packages/ipykernel_launcher.py:1: UserWarning: Pandas doesn't allow columns to be created via a new attribute name - see https://pandas.pydata.org/pandas-docs/stable/indexing.html#attribute-access\n",
            "  \"\"\"Entry point for launching an IPython kernel.\n"
          ],
          "name": "stderr"
        }
      ]
    },
    {
      "cell_type": "code",
      "metadata": {
        "colab": {
          "base_uri": "https://localhost:8080/",
          "height": 204
        },
        "id": "up680Pgvo48v",
        "outputId": "31c23b63-74e4-4e2a-a727-f43011e26e0b"
      },
      "source": [
        "dr1.head()"
      ],
      "execution_count": 80,
      "outputs": [
        {
          "output_type": "execute_result",
          "data": {
            "text/html": [
              "<div>\n",
              "<style scoped>\n",
              "    .dataframe tbody tr th:only-of-type {\n",
              "        vertical-align: middle;\n",
              "    }\n",
              "\n",
              "    .dataframe tbody tr th {\n",
              "        vertical-align: top;\n",
              "    }\n",
              "\n",
              "    .dataframe thead th {\n",
              "        text-align: right;\n",
              "    }\n",
              "</style>\n",
              "<table border=\"1\" class=\"dataframe\">\n",
              "  <thead>\n",
              "    <tr style=\"text-align: right;\">\n",
              "      <th></th>\n",
              "      <th>Store</th>\n",
              "      <th>Promo</th>\n",
              "      <th>weekend</th>\n",
              "      <th>S_median</th>\n",
              "      <th>S_std</th>\n",
              "      <th>S_90</th>\n",
              "      <th>S_25</th>\n",
              "      <th>S_01</th>\n",
              "    </tr>\n",
              "  </thead>\n",
              "  <tbody>\n",
              "    <tr>\n",
              "      <th>0</th>\n",
              "      <td>1</td>\n",
              "      <td>0</td>\n",
              "      <td>0</td>\n",
              "      <td>3808.0</td>\n",
              "      <td>876.351157</td>\n",
              "      <td>4708.0</td>\n",
              "      <td>3565.50</td>\n",
              "      <td>2619.40</td>\n",
              "    </tr>\n",
              "    <tr>\n",
              "      <th>1</th>\n",
              "      <td>1</td>\n",
              "      <td>0</td>\n",
              "      <td>1</td>\n",
              "      <td>4757.0</td>\n",
              "      <td>893.767196</td>\n",
              "      <td>6032.6</td>\n",
              "      <td>4355.50</td>\n",
              "      <td>3578.88</td>\n",
              "    </tr>\n",
              "    <tr>\n",
              "      <th>2</th>\n",
              "      <td>1</td>\n",
              "      <td>1</td>\n",
              "      <td>0</td>\n",
              "      <td>5140.5</td>\n",
              "      <td>870.627603</td>\n",
              "      <td>6255.2</td>\n",
              "      <td>4651.75</td>\n",
              "      <td>3776.62</td>\n",
              "    </tr>\n",
              "    <tr>\n",
              "      <th>3</th>\n",
              "      <td>2</td>\n",
              "      <td>0</td>\n",
              "      <td>0</td>\n",
              "      <td>4204.5</td>\n",
              "      <td>848.593817</td>\n",
              "      <td>5205.9</td>\n",
              "      <td>3911.25</td>\n",
              "      <td>2409.70</td>\n",
              "    </tr>\n",
              "    <tr>\n",
              "      <th>4</th>\n",
              "      <td>2</td>\n",
              "      <td>0</td>\n",
              "      <td>1</td>\n",
              "      <td>2847.0</td>\n",
              "      <td>507.292402</td>\n",
              "      <td>3437.8</td>\n",
              "      <td>2583.50</td>\n",
              "      <td>2272.14</td>\n",
              "    </tr>\n",
              "  </tbody>\n",
              "</table>\n",
              "</div>"
            ],
            "text/plain": [
              "   Store  Promo  weekend  S_median       S_std    S_90     S_25     S_01\n",
              "0      1      0        0    3808.0  876.351157  4708.0  3565.50  2619.40\n",
              "1      1      0        1    4757.0  893.767196  6032.6  4355.50  3578.88\n",
              "2      1      1        0    5140.5  870.627603  6255.2  4651.75  3776.62\n",
              "3      2      0        0    4204.5  848.593817  5205.9  3911.25  2409.70\n",
              "4      2      0        1    2847.0  507.292402  3437.8  2583.50  2272.14"
            ]
          },
          "metadata": {
            "tags": []
          },
          "execution_count": 80
        }
      ]
    },
    {
      "cell_type": "code",
      "metadata": {
        "id": "0aiYlctDo6Oi"
      },
      "source": [
        "#dr1.info()"
      ],
      "execution_count": null,
      "outputs": []
    },
    {
      "cell_type": "code",
      "metadata": {
        "id": "10Y5YtWs7Bio"
      },
      "source": [
        "joined_tr=pd.merge(joined_tr, dr1, on=['Store','Promo','weekend'],how='left')"
      ],
      "execution_count": 81,
      "outputs": []
    },
    {
      "cell_type": "code",
      "metadata": {
        "id": "qPLsOW1e7PUz"
      },
      "source": [
        "joined_tr.info()"
      ],
      "execution_count": null,
      "outputs": []
    },
    {
      "cell_type": "markdown",
      "metadata": {
        "id": "hNGCMufupE0v"
      },
      "source": [
        "**sales per coustmer groupby**"
      ]
    },
    {
      "cell_type": "code",
      "metadata": {
        "id": "sCxzA9vyo_Io"
      },
      "source": [
        "dr_new=pd.DataFrame(joined_tr.groupby('Store')['SalePerCustomer'].agg(['median']))"
      ],
      "execution_count": 83,
      "outputs": []
    },
    {
      "cell_type": "code",
      "metadata": {
        "id": "hcqunTWUpUng"
      },
      "source": [
        "dr_new.reset_index(inplace=True)"
      ],
      "execution_count": 84,
      "outputs": []
    },
    {
      "cell_type": "code",
      "metadata": {
        "id": "p_-H2llupWjn"
      },
      "source": [
        "dr_new.columns=['Store','SC_per_med']"
      ],
      "execution_count": 85,
      "outputs": []
    },
    {
      "cell_type": "code",
      "metadata": {
        "id": "Bh6dqs5OpYPP"
      },
      "source": [
        "dr_new.SC_per_med=(dr_new.SC_per_med).round(2)"
      ],
      "execution_count": 86,
      "outputs": []
    },
    {
      "cell_type": "code",
      "metadata": {
        "colab": {
          "base_uri": "https://localhost:8080/",
          "height": 204
        },
        "id": "RJdaSTMtpZ_H",
        "outputId": "bd006c29-79cd-47b8-adfa-bbf26d22d331"
      },
      "source": [
        "dr_new.head()"
      ],
      "execution_count": 87,
      "outputs": [
        {
          "output_type": "execute_result",
          "data": {
            "text/html": [
              "<div>\n",
              "<style scoped>\n",
              "    .dataframe tbody tr th:only-of-type {\n",
              "        vertical-align: middle;\n",
              "    }\n",
              "\n",
              "    .dataframe tbody tr th {\n",
              "        vertical-align: top;\n",
              "    }\n",
              "\n",
              "    .dataframe thead th {\n",
              "        text-align: right;\n",
              "    }\n",
              "</style>\n",
              "<table border=\"1\" class=\"dataframe\">\n",
              "  <thead>\n",
              "    <tr style=\"text-align: right;\">\n",
              "      <th></th>\n",
              "      <th>Store</th>\n",
              "      <th>SC_per_med</th>\n",
              "    </tr>\n",
              "  </thead>\n",
              "  <tbody>\n",
              "    <tr>\n",
              "      <th>0</th>\n",
              "      <td>1</td>\n",
              "      <td>8.41</td>\n",
              "    </tr>\n",
              "    <tr>\n",
              "      <th>1</th>\n",
              "      <td>2</td>\n",
              "      <td>8.40</td>\n",
              "    </tr>\n",
              "    <tr>\n",
              "      <th>2</th>\n",
              "      <td>3</td>\n",
              "      <td>9.15</td>\n",
              "    </tr>\n",
              "    <tr>\n",
              "      <th>3</th>\n",
              "      <td>4</td>\n",
              "      <td>7.28</td>\n",
              "    </tr>\n",
              "    <tr>\n",
              "      <th>4</th>\n",
              "      <td>5</td>\n",
              "      <td>8.68</td>\n",
              "    </tr>\n",
              "  </tbody>\n",
              "</table>\n",
              "</div>"
            ],
            "text/plain": [
              "   Store  SC_per_med\n",
              "0      1        8.41\n",
              "1      2        8.40\n",
              "2      3        9.15\n",
              "3      4        7.28\n",
              "4      5        8.68"
            ]
          },
          "metadata": {
            "tags": []
          },
          "execution_count": 87
        }
      ]
    },
    {
      "cell_type": "code",
      "metadata": {
        "colab": {
          "base_uri": "https://localhost:8080/"
        },
        "id": "8WrvIU6RpeYY",
        "outputId": "9010a043-48f7-4ec8-c295-f80c5793cb59"
      },
      "source": [
        "dr_new.info()"
      ],
      "execution_count": 88,
      "outputs": [
        {
          "output_type": "stream",
          "text": [
            "<class 'pandas.core.frame.DataFrame'>\n",
            "RangeIndex: 1115 entries, 0 to 1114\n",
            "Data columns (total 2 columns):\n",
            " #   Column      Non-Null Count  Dtype  \n",
            "---  ------      --------------  -----  \n",
            " 0   Store       1115 non-null   int64  \n",
            " 1   SC_per_med  1115 non-null   float64\n",
            "dtypes: float64(1), int64(1)\n",
            "memory usage: 17.5 KB\n"
          ],
          "name": "stdout"
        }
      ]
    },
    {
      "cell_type": "code",
      "metadata": {
        "id": "ffI6TRfc7WMB"
      },
      "source": [
        "joined_tr=pd.merge(joined_tr, dr_new, on=['Store'],how='left')"
      ],
      "execution_count": 89,
      "outputs": []
    },
    {
      "cell_type": "code",
      "metadata": {
        "id": "eDX5iXlL7cLr"
      },
      "source": [
        "#joined_tr.info()"
      ],
      "execution_count": null,
      "outputs": []
    },
    {
      "cell_type": "markdown",
      "metadata": {
        "id": "TWGX4nLEq31x"
      },
      "source": [
        "**extracting from date**"
      ]
    },
    {
      "cell_type": "code",
      "metadata": {
        "colab": {
          "base_uri": "https://localhost:8080/"
        },
        "id": "SE6Q6wP9tY6F",
        "outputId": "dae6ef61-f1db-4eaa-9ed6-e222557d97d4"
      },
      "source": [
        "joined_tr[\"day\"] = pd.to_datetime(joined_tr.Date, format=\"%Y/%m/%d\").dt.day\n",
        "\n",
        "joined_tr[\"month\"] = pd.to_datetime(joined_tr.Date, format=\"%Y/%m/%d\").dt.month\n",
        "\n",
        "joined_tr[\"year\"] = pd.to_datetime(joined_tr.Date, format=\"%Y/%m/%d\").dt.year\n",
        "\n",
        "joined_tr[\"WeekOfYear\"] = pd.to_datetime(joined_tr.Date, format=\"%Y/%m/%d\").dt.weekofyear"
      ],
      "execution_count": 90,
      "outputs": [
        {
          "output_type": "stream",
          "text": [
            "/usr/local/lib/python3.7/dist-packages/ipykernel_launcher.py:7: FutureWarning: Series.dt.weekofyear and Series.dt.week have been deprecated.  Please use Series.dt.isocalendar().week instead.\n",
            "  import sys\n"
          ],
          "name": "stderr"
        }
      ]
    },
    {
      "cell_type": "markdown",
      "metadata": {
        "id": "Ztrs1eE0txYu"
      },
      "source": [
        ""
      ]
    },
    {
      "cell_type": "code",
      "metadata": {
        "id": "taCl6v4At3ys"
      },
      "source": [
        "\n",
        "# competition open time (in months)\n",
        "joined_tr['CompetitionOpen'] = 12 * (joined_tr.year - joined_tr.CompetitionOpenSinceYear) + \\\n",
        "        (joined_tr.month - joined_tr.CompetitionOpenSinceMonth)"
      ],
      "execution_count": 91,
      "outputs": []
    },
    {
      "cell_type": "code",
      "metadata": {
        "id": "vLEJ1b0SuQCh"
      },
      "source": [
        "joined_tr['CompetitionOpen'] = joined_tr['CompetitionOpen'].apply(lambda x: x if x > 0 else 0)"
      ],
      "execution_count": 92,
      "outputs": []
    },
    {
      "cell_type": "code",
      "metadata": {
        "id": "87ssF_vLuUwx"
      },
      "source": [
        "joined_tr['PromoOpen'] = 12 * (joined_tr.year - joined_tr.Promo2SinceYear) + \\\n",
        "        (joined_tr.WeekOfYear - joined_tr.Promo2SinceWeek) / 4.0"
      ],
      "execution_count": 93,
      "outputs": []
    },
    {
      "cell_type": "code",
      "metadata": {
        "id": "2mcEUC8fudL5"
      },
      "source": [
        "joined_tr['PromoOpen'] = joined_tr['PromoOpen'].apply(lambda x: x if x > 0 else 0)"
      ],
      "execution_count": 94,
      "outputs": []
    },
    {
      "cell_type": "code",
      "metadata": {
        "id": "jMWnkgA6ttzW"
      },
      "source": [
        "#joined_tr.info()"
      ],
      "execution_count": null,
      "outputs": []
    },
    {
      "cell_type": "code",
      "metadata": {
        "colab": {
          "base_uri": "https://localhost:8080/"
        },
        "id": "yMZZCuFquvsC",
        "outputId": "8a963f34-8fd8-4445-8504-7be14793fa81"
      },
      "source": [
        "joined_tr.StateHoliday.unique()"
      ],
      "execution_count": null,
      "outputs": [
        {
          "output_type": "execute_result",
          "data": {
            "text/plain": [
              "array(['0', 'a', 'b', 'c', 0], dtype=object)"
            ]
          },
          "metadata": {
            "tags": []
          },
          "execution_count": 164
        }
      ]
    },
    {
      "cell_type": "code",
      "metadata": {
        "id": "AgyxLD7AupP-"
      },
      "source": [
        "joined_tr[\"StateHoliday\"].replace(['0','a','b','c',0],[0,1,2,3,0],inplace = True)\n",
        "\n",
        "joined_tr[\"StoreType\"].replace(['a','b','c','d'],[1,2,3,4],inplace = True)\n",
        "\n",
        "joined_tr[\"Assortment\"].replace(['a','b','c','d'],[1,2,3,4],inplace = True)\n",
        "\n",
        "joined_tr[\"PromoInterval\"].replace(['Jan,Apr,Jul,Oct','Feb,May,Aug,Nov','Mar,Jun,Sept,Dec',0],[1,2,3,0],inplace = True)"
      ],
      "execution_count": 95,
      "outputs": []
    },
    {
      "cell_type": "code",
      "metadata": {
        "id": "XlEiuzrBvgbt"
      },
      "source": [
        "joined_tr.info()"
      ],
      "execution_count": null,
      "outputs": []
    },
    {
      "cell_type": "markdown",
      "metadata": {
        "id": "ZkGyXNhHvoGy"
      },
      "source": [
        "**saturday sales ratio**"
      ]
    },
    {
      "cell_type": "code",
      "metadata": {
        "id": "ea3TntQ5wAED"
      },
      "source": [
        "op=joined_tr.loc[joined_tr.DayOfWeek==6]"
      ],
      "execution_count": 97,
      "outputs": []
    },
    {
      "cell_type": "code",
      "metadata": {
        "colab": {
          "base_uri": "https://localhost:8080/",
          "height": 204
        },
        "id": "pYVwaya4xdTT",
        "outputId": "d558eb6d-9a66-4c15-f9e1-d46082da4637"
      },
      "source": [
        "h=op.groupby(['Store'])['Sales'].agg(['median'])\n",
        "h.reset_index(inplace=True)\n",
        "h.columns=['Store','sat_sales']\n",
        "h.head()"
      ],
      "execution_count": 98,
      "outputs": [
        {
          "output_type": "execute_result",
          "data": {
            "text/html": [
              "<div>\n",
              "<style scoped>\n",
              "    .dataframe tbody tr th:only-of-type {\n",
              "        vertical-align: middle;\n",
              "    }\n",
              "\n",
              "    .dataframe tbody tr th {\n",
              "        vertical-align: top;\n",
              "    }\n",
              "\n",
              "    .dataframe thead th {\n",
              "        text-align: right;\n",
              "    }\n",
              "</style>\n",
              "<table border=\"1\" class=\"dataframe\">\n",
              "  <thead>\n",
              "    <tr style=\"text-align: right;\">\n",
              "      <th></th>\n",
              "      <th>Store</th>\n",
              "      <th>sat_sales</th>\n",
              "    </tr>\n",
              "  </thead>\n",
              "  <tbody>\n",
              "    <tr>\n",
              "      <th>0</th>\n",
              "      <td>1</td>\n",
              "      <td>4757.0</td>\n",
              "    </tr>\n",
              "    <tr>\n",
              "      <th>1</th>\n",
              "      <td>2</td>\n",
              "      <td>2847.0</td>\n",
              "    </tr>\n",
              "    <tr>\n",
              "      <th>2</th>\n",
              "      <td>3</td>\n",
              "      <td>4251.0</td>\n",
              "    </tr>\n",
              "    <tr>\n",
              "      <th>3</th>\n",
              "      <td>4</td>\n",
              "      <td>10048.0</td>\n",
              "    </tr>\n",
              "    <tr>\n",
              "      <th>4</th>\n",
              "      <td>5</td>\n",
              "      <td>2041.0</td>\n",
              "    </tr>\n",
              "  </tbody>\n",
              "</table>\n",
              "</div>"
            ],
            "text/plain": [
              "   Store  sat_sales\n",
              "0      1     4757.0\n",
              "1      2     2847.0\n",
              "2      3     4251.0\n",
              "3      4    10048.0\n",
              "4      5     2041.0"
            ]
          },
          "metadata": {
            "tags": []
          },
          "execution_count": 98
        }
      ]
    },
    {
      "cell_type": "code",
      "metadata": {
        "id": "4swP9cOBy8hQ"
      },
      "source": [
        "b=joined_tr.loc[joined_tr.DayOfWeek!=6]\n",
        "k=b.groupby(['Store'])['Sales'].agg(['median'])\n",
        "k.reset_index(inplace=True)\n",
        "k.columns=['Store','non_sales']"
      ],
      "execution_count": 99,
      "outputs": []
    },
    {
      "cell_type": "code",
      "metadata": {
        "colab": {
          "base_uri": "https://localhost:8080/",
          "height": 204
        },
        "id": "lXcAGC1yzD2X",
        "outputId": "786f6314-4a1b-4dab-80c9-08b2d28a169e"
      },
      "source": [
        "joint_1=pd.merge(k,h,on='Store')\n",
        "joint_1['sat_ratio']=(joint_1['sat_sales']/joint_1['non_sales']).round(2)\n",
        "joint_1.head()"
      ],
      "execution_count": 100,
      "outputs": [
        {
          "output_type": "execute_result",
          "data": {
            "text/html": [
              "<div>\n",
              "<style scoped>\n",
              "    .dataframe tbody tr th:only-of-type {\n",
              "        vertical-align: middle;\n",
              "    }\n",
              "\n",
              "    .dataframe tbody tr th {\n",
              "        vertical-align: top;\n",
              "    }\n",
              "\n",
              "    .dataframe thead th {\n",
              "        text-align: right;\n",
              "    }\n",
              "</style>\n",
              "<table border=\"1\" class=\"dataframe\">\n",
              "  <thead>\n",
              "    <tr style=\"text-align: right;\">\n",
              "      <th></th>\n",
              "      <th>Store</th>\n",
              "      <th>non_sales</th>\n",
              "      <th>sat_sales</th>\n",
              "      <th>sat_ratio</th>\n",
              "    </tr>\n",
              "  </thead>\n",
              "  <tbody>\n",
              "    <tr>\n",
              "      <th>0</th>\n",
              "      <td>1</td>\n",
              "      <td>4563.0</td>\n",
              "      <td>4757.0</td>\n",
              "      <td>1.04</td>\n",
              "    </tr>\n",
              "    <tr>\n",
              "      <th>1</th>\n",
              "      <td>2</td>\n",
              "      <td>5149.0</td>\n",
              "      <td>2847.0</td>\n",
              "      <td>0.55</td>\n",
              "    </tr>\n",
              "    <tr>\n",
              "      <th>2</th>\n",
              "      <td>3</td>\n",
              "      <td>7301.0</td>\n",
              "      <td>4251.0</td>\n",
              "      <td>0.58</td>\n",
              "    </tr>\n",
              "    <tr>\n",
              "      <th>3</th>\n",
              "      <td>4</td>\n",
              "      <td>9353.0</td>\n",
              "      <td>10048.0</td>\n",
              "      <td>1.07</td>\n",
              "    </tr>\n",
              "    <tr>\n",
              "      <th>4</th>\n",
              "      <td>5</td>\n",
              "      <td>4990.0</td>\n",
              "      <td>2041.0</td>\n",
              "      <td>0.41</td>\n",
              "    </tr>\n",
              "  </tbody>\n",
              "</table>\n",
              "</div>"
            ],
            "text/plain": [
              "   Store  non_sales  sat_sales  sat_ratio\n",
              "0      1     4563.0     4757.0       1.04\n",
              "1      2     5149.0     2847.0       0.55\n",
              "2      3     7301.0     4251.0       0.58\n",
              "3      4     9353.0    10048.0       1.07\n",
              "4      5     4990.0     2041.0       0.41"
            ]
          },
          "metadata": {
            "tags": []
          },
          "execution_count": 100
        }
      ]
    },
    {
      "cell_type": "code",
      "metadata": {
        "id": "kTFHMke_zibr"
      },
      "source": [
        "joint_1=joint_1[['Store','sat_ratio']]"
      ],
      "execution_count": 101,
      "outputs": []
    },
    {
      "cell_type": "code",
      "metadata": {
        "colab": {
          "base_uri": "https://localhost:8080/",
          "height": 419
        },
        "id": "I3l48Vbn7lGL",
        "outputId": "fd8f4366-ad71-4777-e678-ce9de1fa509a"
      },
      "source": [
        "joint_1"
      ],
      "execution_count": 103,
      "outputs": [
        {
          "output_type": "execute_result",
          "data": {
            "text/html": [
              "<div>\n",
              "<style scoped>\n",
              "    .dataframe tbody tr th:only-of-type {\n",
              "        vertical-align: middle;\n",
              "    }\n",
              "\n",
              "    .dataframe tbody tr th {\n",
              "        vertical-align: top;\n",
              "    }\n",
              "\n",
              "    .dataframe thead th {\n",
              "        text-align: right;\n",
              "    }\n",
              "</style>\n",
              "<table border=\"1\" class=\"dataframe\">\n",
              "  <thead>\n",
              "    <tr style=\"text-align: right;\">\n",
              "      <th></th>\n",
              "      <th>Store</th>\n",
              "      <th>sat_ratio</th>\n",
              "    </tr>\n",
              "  </thead>\n",
              "  <tbody>\n",
              "    <tr>\n",
              "      <th>0</th>\n",
              "      <td>1</td>\n",
              "      <td>1.04</td>\n",
              "    </tr>\n",
              "    <tr>\n",
              "      <th>1</th>\n",
              "      <td>2</td>\n",
              "      <td>0.55</td>\n",
              "    </tr>\n",
              "    <tr>\n",
              "      <th>2</th>\n",
              "      <td>3</td>\n",
              "      <td>0.58</td>\n",
              "    </tr>\n",
              "    <tr>\n",
              "      <th>3</th>\n",
              "      <td>4</td>\n",
              "      <td>1.07</td>\n",
              "    </tr>\n",
              "    <tr>\n",
              "      <th>4</th>\n",
              "      <td>5</td>\n",
              "      <td>0.41</td>\n",
              "    </tr>\n",
              "    <tr>\n",
              "      <th>...</th>\n",
              "      <td>...</td>\n",
              "      <td>...</td>\n",
              "    </tr>\n",
              "    <tr>\n",
              "      <th>1110</th>\n",
              "      <td>1111</td>\n",
              "      <td>0.60</td>\n",
              "    </tr>\n",
              "    <tr>\n",
              "      <th>1111</th>\n",
              "      <td>1112</td>\n",
              "      <td>0.88</td>\n",
              "    </tr>\n",
              "    <tr>\n",
              "      <th>1112</th>\n",
              "      <td>1113</td>\n",
              "      <td>0.84</td>\n",
              "    </tr>\n",
              "    <tr>\n",
              "      <th>1113</th>\n",
              "      <td>1114</td>\n",
              "      <td>1.07</td>\n",
              "    </tr>\n",
              "    <tr>\n",
              "      <th>1114</th>\n",
              "      <td>1115</td>\n",
              "      <td>1.08</td>\n",
              "    </tr>\n",
              "  </tbody>\n",
              "</table>\n",
              "<p>1115 rows × 2 columns</p>\n",
              "</div>"
            ],
            "text/plain": [
              "      Store  sat_ratio\n",
              "0         1       1.04\n",
              "1         2       0.55\n",
              "2         3       0.58\n",
              "3         4       1.07\n",
              "4         5       0.41\n",
              "...     ...        ...\n",
              "1110   1111       0.60\n",
              "1111   1112       0.88\n",
              "1112   1113       0.84\n",
              "1113   1114       1.07\n",
              "1114   1115       1.08\n",
              "\n",
              "[1115 rows x 2 columns]"
            ]
          },
          "metadata": {
            "tags": []
          },
          "execution_count": 103
        }
      ]
    },
    {
      "cell_type": "code",
      "metadata": {
        "id": "JjrqggMw7kq4"
      },
      "source": [
        "joined_tr=pd.merge(joined_tr,joint_1 , on=['Store'],how='left')"
      ],
      "execution_count": 104,
      "outputs": []
    },
    {
      "cell_type": "code",
      "metadata": {
        "id": "vs_yaM_x7rqQ"
      },
      "source": [
        "#joined_tr.info()"
      ],
      "execution_count": null,
      "outputs": []
    },
    {
      "cell_type": "markdown",
      "metadata": {
        "id": "XP1Yhs0py2m-"
      },
      "source": [
        "**state holiday sales**"
      ]
    },
    {
      "cell_type": "code",
      "metadata": {
        "id": "OW4JFxN7zd4R"
      },
      "source": [
        "mk=joined_tr[joined_tr.StateHoliday!=0]"
      ],
      "execution_count": 105,
      "outputs": []
    },
    {
      "cell_type": "code",
      "metadata": {
        "colab": {
          "base_uri": "https://localhost:8080/",
          "height": 419
        },
        "id": "BL7emEgI0Dx0",
        "outputId": "70a474c3-6f70-403f-d7a7-4170c19a3ff4"
      },
      "source": [
        "h1_p1=mk.groupby(['Store'])['Sales'].agg(['mean'])\n",
        "h1_p1.reset_index(inplace=True)\n",
        "h1_p1.columns=['Store','hol_sales']\n",
        "h1_p1"
      ],
      "execution_count": 106,
      "outputs": [
        {
          "output_type": "execute_result",
          "data": {
            "text/html": [
              "<div>\n",
              "<style scoped>\n",
              "    .dataframe tbody tr th:only-of-type {\n",
              "        vertical-align: middle;\n",
              "    }\n",
              "\n",
              "    .dataframe tbody tr th {\n",
              "        vertical-align: top;\n",
              "    }\n",
              "\n",
              "    .dataframe thead th {\n",
              "        text-align: right;\n",
              "    }\n",
              "</style>\n",
              "<table border=\"1\" class=\"dataframe\">\n",
              "  <thead>\n",
              "    <tr style=\"text-align: right;\">\n",
              "      <th></th>\n",
              "      <th>Store</th>\n",
              "      <th>hol_sales</th>\n",
              "    </tr>\n",
              "  </thead>\n",
              "  <tbody>\n",
              "    <tr>\n",
              "      <th>0</th>\n",
              "      <td>2</td>\n",
              "      <td>2672.500000</td>\n",
              "    </tr>\n",
              "    <tr>\n",
              "      <th>1</th>\n",
              "      <td>5</td>\n",
              "      <td>5557.000000</td>\n",
              "    </tr>\n",
              "    <tr>\n",
              "      <th>2</th>\n",
              "      <td>6</td>\n",
              "      <td>5461.000000</td>\n",
              "    </tr>\n",
              "    <tr>\n",
              "      <th>3</th>\n",
              "      <td>7</td>\n",
              "      <td>3177.500000</td>\n",
              "    </tr>\n",
              "    <tr>\n",
              "      <th>4</th>\n",
              "      <td>54</td>\n",
              "      <td>5150.250000</td>\n",
              "    </tr>\n",
              "    <tr>\n",
              "      <th>...</th>\n",
              "      <td>...</td>\n",
              "      <td>...</td>\n",
              "    </tr>\n",
              "    <tr>\n",
              "      <th>125</th>\n",
              "      <td>1093</td>\n",
              "      <td>9296.500000</td>\n",
              "    </tr>\n",
              "    <tr>\n",
              "      <th>126</th>\n",
              "      <td>1097</td>\n",
              "      <td>13437.681818</td>\n",
              "    </tr>\n",
              "    <tr>\n",
              "      <th>127</th>\n",
              "      <td>1098</td>\n",
              "      <td>5954.000000</td>\n",
              "    </tr>\n",
              "    <tr>\n",
              "      <th>128</th>\n",
              "      <td>1099</td>\n",
              "      <td>4806.100000</td>\n",
              "    </tr>\n",
              "    <tr>\n",
              "      <th>129</th>\n",
              "      <td>1108</td>\n",
              "      <td>7220.500000</td>\n",
              "    </tr>\n",
              "  </tbody>\n",
              "</table>\n",
              "<p>130 rows × 2 columns</p>\n",
              "</div>"
            ],
            "text/plain": [
              "     Store     hol_sales\n",
              "0        2   2672.500000\n",
              "1        5   5557.000000\n",
              "2        6   5461.000000\n",
              "3        7   3177.500000\n",
              "4       54   5150.250000\n",
              "..     ...           ...\n",
              "125   1093   9296.500000\n",
              "126   1097  13437.681818\n",
              "127   1098   5954.000000\n",
              "128   1099   4806.100000\n",
              "129   1108   7220.500000\n",
              "\n",
              "[130 rows x 2 columns]"
            ]
          },
          "metadata": {
            "tags": []
          },
          "execution_count": 106
        }
      ]
    },
    {
      "cell_type": "code",
      "metadata": {
        "id": "I-PrfVx_0a2E"
      },
      "source": [
        "h2=joined_tr[joined_tr.StateHoliday==0]"
      ],
      "execution_count": 107,
      "outputs": []
    },
    {
      "cell_type": "code",
      "metadata": {
        "colab": {
          "base_uri": "https://localhost:8080/",
          "height": 419
        },
        "id": "lMRp16PJ0Q80",
        "outputId": "bcec981e-9496-4372-fd91-f19109f07698"
      },
      "source": [
        "h2_p2=h2.groupby(['Store'])['Sales'].agg(['median'])\n",
        "h2_p2.reset_index(inplace=True)\n",
        "h2_p2.columns=['Store','non_h_sales']\n",
        "h2_p2"
      ],
      "execution_count": 108,
      "outputs": [
        {
          "output_type": "execute_result",
          "data": {
            "text/html": [
              "<div>\n",
              "<style scoped>\n",
              "    .dataframe tbody tr th:only-of-type {\n",
              "        vertical-align: middle;\n",
              "    }\n",
              "\n",
              "    .dataframe tbody tr th {\n",
              "        vertical-align: top;\n",
              "    }\n",
              "\n",
              "    .dataframe thead th {\n",
              "        text-align: right;\n",
              "    }\n",
              "</style>\n",
              "<table border=\"1\" class=\"dataframe\">\n",
              "  <thead>\n",
              "    <tr style=\"text-align: right;\">\n",
              "      <th></th>\n",
              "      <th>Store</th>\n",
              "      <th>non_h_sales</th>\n",
              "    </tr>\n",
              "  </thead>\n",
              "  <tbody>\n",
              "    <tr>\n",
              "      <th>0</th>\n",
              "      <td>1</td>\n",
              "      <td>4599.5</td>\n",
              "    </tr>\n",
              "    <tr>\n",
              "      <th>1</th>\n",
              "      <td>2</td>\n",
              "      <td>4846.5</td>\n",
              "    </tr>\n",
              "    <tr>\n",
              "      <th>2</th>\n",
              "      <td>3</td>\n",
              "      <td>6683.5</td>\n",
              "    </tr>\n",
              "    <tr>\n",
              "      <th>3</th>\n",
              "      <td>4</td>\n",
              "      <td>9567.0</td>\n",
              "    </tr>\n",
              "    <tr>\n",
              "      <th>4</th>\n",
              "      <td>5</td>\n",
              "      <td>4622.5</td>\n",
              "    </tr>\n",
              "    <tr>\n",
              "      <th>...</th>\n",
              "      <td>...</td>\n",
              "      <td>...</td>\n",
              "    </tr>\n",
              "    <tr>\n",
              "      <th>1110</th>\n",
              "      <td>1111</td>\n",
              "      <td>5031.0</td>\n",
              "    </tr>\n",
              "    <tr>\n",
              "      <th>1111</th>\n",
              "      <td>1112</td>\n",
              "      <td>8892.0</td>\n",
              "    </tr>\n",
              "    <tr>\n",
              "      <th>1112</th>\n",
              "      <td>1113</td>\n",
              "      <td>6468.0</td>\n",
              "    </tr>\n",
              "    <tr>\n",
              "      <th>1113</th>\n",
              "      <td>1114</td>\n",
              "      <td>20747.0</td>\n",
              "    </tr>\n",
              "    <tr>\n",
              "      <th>1114</th>\n",
              "      <td>1115</td>\n",
              "      <td>6603.0</td>\n",
              "    </tr>\n",
              "  </tbody>\n",
              "</table>\n",
              "<p>1115 rows × 2 columns</p>\n",
              "</div>"
            ],
            "text/plain": [
              "      Store  non_h_sales\n",
              "0         1       4599.5\n",
              "1         2       4846.5\n",
              "2         3       6683.5\n",
              "3         4       9567.0\n",
              "4         5       4622.5\n",
              "...     ...          ...\n",
              "1110   1111       5031.0\n",
              "1111   1112       8892.0\n",
              "1112   1113       6468.0\n",
              "1113   1114      20747.0\n",
              "1114   1115       6603.0\n",
              "\n",
              "[1115 rows x 2 columns]"
            ]
          },
          "metadata": {
            "tags": []
          },
          "execution_count": 108
        }
      ]
    },
    {
      "cell_type": "code",
      "metadata": {
        "id": "L3IdQDK226F1"
      },
      "source": [
        "def hol(x):\n",
        "  if x.hol_sales==0.0:\n",
        "    return (0)\n",
        "  else:\n",
        "    return ((x['hol_sales']/x['non_h_sales']).round(2))  "
      ],
      "execution_count": null,
      "outputs": []
    },
    {
      "cell_type": "code",
      "metadata": {
        "colab": {
          "base_uri": "https://localhost:8080/",
          "height": 419
        },
        "id": "PdBSEoXC1KWe",
        "outputId": "f7dfc760-9439-494c-9672-b62c2c331052"
      },
      "source": [
        "jo2=pd.merge(h2_p2,h1_p1,on='Store',how='left')\n",
        "jo2=jo2.fillna(0)\n",
        "jo2"
      ],
      "execution_count": 109,
      "outputs": [
        {
          "output_type": "execute_result",
          "data": {
            "text/html": [
              "<div>\n",
              "<style scoped>\n",
              "    .dataframe tbody tr th:only-of-type {\n",
              "        vertical-align: middle;\n",
              "    }\n",
              "\n",
              "    .dataframe tbody tr th {\n",
              "        vertical-align: top;\n",
              "    }\n",
              "\n",
              "    .dataframe thead th {\n",
              "        text-align: right;\n",
              "    }\n",
              "</style>\n",
              "<table border=\"1\" class=\"dataframe\">\n",
              "  <thead>\n",
              "    <tr style=\"text-align: right;\">\n",
              "      <th></th>\n",
              "      <th>Store</th>\n",
              "      <th>non_h_sales</th>\n",
              "      <th>hol_sales</th>\n",
              "    </tr>\n",
              "  </thead>\n",
              "  <tbody>\n",
              "    <tr>\n",
              "      <th>0</th>\n",
              "      <td>1</td>\n",
              "      <td>4599.5</td>\n",
              "      <td>0.0</td>\n",
              "    </tr>\n",
              "    <tr>\n",
              "      <th>1</th>\n",
              "      <td>2</td>\n",
              "      <td>4846.5</td>\n",
              "      <td>2672.5</td>\n",
              "    </tr>\n",
              "    <tr>\n",
              "      <th>2</th>\n",
              "      <td>3</td>\n",
              "      <td>6683.5</td>\n",
              "      <td>0.0</td>\n",
              "    </tr>\n",
              "    <tr>\n",
              "      <th>3</th>\n",
              "      <td>4</td>\n",
              "      <td>9567.0</td>\n",
              "      <td>0.0</td>\n",
              "    </tr>\n",
              "    <tr>\n",
              "      <th>4</th>\n",
              "      <td>5</td>\n",
              "      <td>4622.5</td>\n",
              "      <td>5557.0</td>\n",
              "    </tr>\n",
              "    <tr>\n",
              "      <th>...</th>\n",
              "      <td>...</td>\n",
              "      <td>...</td>\n",
              "      <td>...</td>\n",
              "    </tr>\n",
              "    <tr>\n",
              "      <th>1110</th>\n",
              "      <td>1111</td>\n",
              "      <td>5031.0</td>\n",
              "      <td>0.0</td>\n",
              "    </tr>\n",
              "    <tr>\n",
              "      <th>1111</th>\n",
              "      <td>1112</td>\n",
              "      <td>8892.0</td>\n",
              "      <td>0.0</td>\n",
              "    </tr>\n",
              "    <tr>\n",
              "      <th>1112</th>\n",
              "      <td>1113</td>\n",
              "      <td>6468.0</td>\n",
              "      <td>0.0</td>\n",
              "    </tr>\n",
              "    <tr>\n",
              "      <th>1113</th>\n",
              "      <td>1114</td>\n",
              "      <td>20747.0</td>\n",
              "      <td>0.0</td>\n",
              "    </tr>\n",
              "    <tr>\n",
              "      <th>1114</th>\n",
              "      <td>1115</td>\n",
              "      <td>6603.0</td>\n",
              "      <td>0.0</td>\n",
              "    </tr>\n",
              "  </tbody>\n",
              "</table>\n",
              "<p>1115 rows × 3 columns</p>\n",
              "</div>"
            ],
            "text/plain": [
              "      Store  non_h_sales  hol_sales\n",
              "0         1       4599.5        0.0\n",
              "1         2       4846.5     2672.5\n",
              "2         3       6683.5        0.0\n",
              "3         4       9567.0        0.0\n",
              "4         5       4622.5     5557.0\n",
              "...     ...          ...        ...\n",
              "1110   1111       5031.0        0.0\n",
              "1111   1112       8892.0        0.0\n",
              "1112   1113       6468.0        0.0\n",
              "1113   1114      20747.0        0.0\n",
              "1114   1115       6603.0        0.0\n",
              "\n",
              "[1115 rows x 3 columns]"
            ]
          },
          "metadata": {
            "tags": []
          },
          "execution_count": 109
        }
      ]
    },
    {
      "cell_type": "code",
      "metadata": {
        "id": "U4-EhlAP3S9e"
      },
      "source": [
        "jo2['hol_ratio']=(jo2['hol_sales']/jo2['non_h_sales']).round(2)"
      ],
      "execution_count": 110,
      "outputs": []
    },
    {
      "cell_type": "code",
      "metadata": {
        "colab": {
          "base_uri": "https://localhost:8080/",
          "height": 419
        },
        "id": "ySpGM7zQ3zRp",
        "outputId": "00383314-ec88-4d52-fbdb-d9cfc4077266"
      },
      "source": [
        "jo2"
      ],
      "execution_count": 111,
      "outputs": [
        {
          "output_type": "execute_result",
          "data": {
            "text/html": [
              "<div>\n",
              "<style scoped>\n",
              "    .dataframe tbody tr th:only-of-type {\n",
              "        vertical-align: middle;\n",
              "    }\n",
              "\n",
              "    .dataframe tbody tr th {\n",
              "        vertical-align: top;\n",
              "    }\n",
              "\n",
              "    .dataframe thead th {\n",
              "        text-align: right;\n",
              "    }\n",
              "</style>\n",
              "<table border=\"1\" class=\"dataframe\">\n",
              "  <thead>\n",
              "    <tr style=\"text-align: right;\">\n",
              "      <th></th>\n",
              "      <th>Store</th>\n",
              "      <th>non_h_sales</th>\n",
              "      <th>hol_sales</th>\n",
              "      <th>hol_ratio</th>\n",
              "    </tr>\n",
              "  </thead>\n",
              "  <tbody>\n",
              "    <tr>\n",
              "      <th>0</th>\n",
              "      <td>1</td>\n",
              "      <td>4599.5</td>\n",
              "      <td>0.0</td>\n",
              "      <td>0.00</td>\n",
              "    </tr>\n",
              "    <tr>\n",
              "      <th>1</th>\n",
              "      <td>2</td>\n",
              "      <td>4846.5</td>\n",
              "      <td>2672.5</td>\n",
              "      <td>0.55</td>\n",
              "    </tr>\n",
              "    <tr>\n",
              "      <th>2</th>\n",
              "      <td>3</td>\n",
              "      <td>6683.5</td>\n",
              "      <td>0.0</td>\n",
              "      <td>0.00</td>\n",
              "    </tr>\n",
              "    <tr>\n",
              "      <th>3</th>\n",
              "      <td>4</td>\n",
              "      <td>9567.0</td>\n",
              "      <td>0.0</td>\n",
              "      <td>0.00</td>\n",
              "    </tr>\n",
              "    <tr>\n",
              "      <th>4</th>\n",
              "      <td>5</td>\n",
              "      <td>4622.5</td>\n",
              "      <td>5557.0</td>\n",
              "      <td>1.20</td>\n",
              "    </tr>\n",
              "    <tr>\n",
              "      <th>...</th>\n",
              "      <td>...</td>\n",
              "      <td>...</td>\n",
              "      <td>...</td>\n",
              "      <td>...</td>\n",
              "    </tr>\n",
              "    <tr>\n",
              "      <th>1110</th>\n",
              "      <td>1111</td>\n",
              "      <td>5031.0</td>\n",
              "      <td>0.0</td>\n",
              "      <td>0.00</td>\n",
              "    </tr>\n",
              "    <tr>\n",
              "      <th>1111</th>\n",
              "      <td>1112</td>\n",
              "      <td>8892.0</td>\n",
              "      <td>0.0</td>\n",
              "      <td>0.00</td>\n",
              "    </tr>\n",
              "    <tr>\n",
              "      <th>1112</th>\n",
              "      <td>1113</td>\n",
              "      <td>6468.0</td>\n",
              "      <td>0.0</td>\n",
              "      <td>0.00</td>\n",
              "    </tr>\n",
              "    <tr>\n",
              "      <th>1113</th>\n",
              "      <td>1114</td>\n",
              "      <td>20747.0</td>\n",
              "      <td>0.0</td>\n",
              "      <td>0.00</td>\n",
              "    </tr>\n",
              "    <tr>\n",
              "      <th>1114</th>\n",
              "      <td>1115</td>\n",
              "      <td>6603.0</td>\n",
              "      <td>0.0</td>\n",
              "      <td>0.00</td>\n",
              "    </tr>\n",
              "  </tbody>\n",
              "</table>\n",
              "<p>1115 rows × 4 columns</p>\n",
              "</div>"
            ],
            "text/plain": [
              "      Store  non_h_sales  hol_sales  hol_ratio\n",
              "0         1       4599.5        0.0       0.00\n",
              "1         2       4846.5     2672.5       0.55\n",
              "2         3       6683.5        0.0       0.00\n",
              "3         4       9567.0        0.0       0.00\n",
              "4         5       4622.5     5557.0       1.20\n",
              "...     ...          ...        ...        ...\n",
              "1110   1111       5031.0        0.0       0.00\n",
              "1111   1112       8892.0        0.0       0.00\n",
              "1112   1113       6468.0        0.0       0.00\n",
              "1113   1114      20747.0        0.0       0.00\n",
              "1114   1115       6603.0        0.0       0.00\n",
              "\n",
              "[1115 rows x 4 columns]"
            ]
          },
          "metadata": {
            "tags": []
          },
          "execution_count": 111
        }
      ]
    },
    {
      "cell_type": "code",
      "metadata": {
        "id": "O9o7yS3U37D9"
      },
      "source": [
        "holi_day=jo2[['Store','hol_ratio']]"
      ],
      "execution_count": 112,
      "outputs": []
    },
    {
      "cell_type": "code",
      "metadata": {
        "colab": {
          "base_uri": "https://localhost:8080/",
          "height": 204
        },
        "id": "zmPsY1Ia4FN-",
        "outputId": "4457d61e-9e32-4c80-81c1-0e1137c328fd"
      },
      "source": [
        "holi_day.head()"
      ],
      "execution_count": 113,
      "outputs": [
        {
          "output_type": "execute_result",
          "data": {
            "text/html": [
              "<div>\n",
              "<style scoped>\n",
              "    .dataframe tbody tr th:only-of-type {\n",
              "        vertical-align: middle;\n",
              "    }\n",
              "\n",
              "    .dataframe tbody tr th {\n",
              "        vertical-align: top;\n",
              "    }\n",
              "\n",
              "    .dataframe thead th {\n",
              "        text-align: right;\n",
              "    }\n",
              "</style>\n",
              "<table border=\"1\" class=\"dataframe\">\n",
              "  <thead>\n",
              "    <tr style=\"text-align: right;\">\n",
              "      <th></th>\n",
              "      <th>Store</th>\n",
              "      <th>hol_ratio</th>\n",
              "    </tr>\n",
              "  </thead>\n",
              "  <tbody>\n",
              "    <tr>\n",
              "      <th>0</th>\n",
              "      <td>1</td>\n",
              "      <td>0.00</td>\n",
              "    </tr>\n",
              "    <tr>\n",
              "      <th>1</th>\n",
              "      <td>2</td>\n",
              "      <td>0.55</td>\n",
              "    </tr>\n",
              "    <tr>\n",
              "      <th>2</th>\n",
              "      <td>3</td>\n",
              "      <td>0.00</td>\n",
              "    </tr>\n",
              "    <tr>\n",
              "      <th>3</th>\n",
              "      <td>4</td>\n",
              "      <td>0.00</td>\n",
              "    </tr>\n",
              "    <tr>\n",
              "      <th>4</th>\n",
              "      <td>5</td>\n",
              "      <td>1.20</td>\n",
              "    </tr>\n",
              "  </tbody>\n",
              "</table>\n",
              "</div>"
            ],
            "text/plain": [
              "   Store  hol_ratio\n",
              "0      1       0.00\n",
              "1      2       0.55\n",
              "2      3       0.00\n",
              "3      4       0.00\n",
              "4      5       1.20"
            ]
          },
          "metadata": {
            "tags": []
          },
          "execution_count": 113
        }
      ]
    },
    {
      "cell_type": "code",
      "metadata": {
        "id": "cDSZoU3b74AU"
      },
      "source": [
        "joined_tr=pd.merge(joined_tr,holi_day , on=['Store'],how='left')"
      ],
      "execution_count": 114,
      "outputs": []
    },
    {
      "cell_type": "code",
      "metadata": {
        "id": "kHt8zAN077dD"
      },
      "source": [
        "#joined_tr.info()"
      ],
      "execution_count": null,
      "outputs": []
    },
    {
      "cell_type": "markdown",
      "metadata": {
        "id": "bHSDZySE4JAu"
      },
      "source": [
        "**school holiday sales**"
      ]
    },
    {
      "cell_type": "code",
      "metadata": {
        "id": "DjP8c4Ei4IZm"
      },
      "source": [
        "mk=joined_tr[joined_tr.SchoolHoliday==1]"
      ],
      "execution_count": 115,
      "outputs": []
    },
    {
      "cell_type": "code",
      "metadata": {
        "colab": {
          "base_uri": "https://localhost:8080/",
          "height": 419
        },
        "id": "_bMY2mvD4ZyX",
        "outputId": "73a9130b-9699-41f0-bf10-55b9b11b5d17"
      },
      "source": [
        "h1_p1=mk.groupby(['Store'])['Sales'].agg(['median'])\n",
        "h1_p1.reset_index(inplace=True)\n",
        "h1_p1.columns=['Store','hol_sales']\n",
        "h1_p1"
      ],
      "execution_count": 116,
      "outputs": [
        {
          "output_type": "execute_result",
          "data": {
            "text/html": [
              "<div>\n",
              "<style scoped>\n",
              "    .dataframe tbody tr th:only-of-type {\n",
              "        vertical-align: middle;\n",
              "    }\n",
              "\n",
              "    .dataframe tbody tr th {\n",
              "        vertical-align: top;\n",
              "    }\n",
              "\n",
              "    .dataframe thead th {\n",
              "        text-align: right;\n",
              "    }\n",
              "</style>\n",
              "<table border=\"1\" class=\"dataframe\">\n",
              "  <thead>\n",
              "    <tr style=\"text-align: right;\">\n",
              "      <th></th>\n",
              "      <th>Store</th>\n",
              "      <th>hol_sales</th>\n",
              "    </tr>\n",
              "  </thead>\n",
              "  <tbody>\n",
              "    <tr>\n",
              "      <th>0</th>\n",
              "      <td>1</td>\n",
              "      <td>4574.0</td>\n",
              "    </tr>\n",
              "    <tr>\n",
              "      <th>1</th>\n",
              "      <td>2</td>\n",
              "      <td>5274.5</td>\n",
              "    </tr>\n",
              "    <tr>\n",
              "      <th>2</th>\n",
              "      <td>3</td>\n",
              "      <td>7184.5</td>\n",
              "    </tr>\n",
              "    <tr>\n",
              "      <th>3</th>\n",
              "      <td>4</td>\n",
              "      <td>10000.0</td>\n",
              "    </tr>\n",
              "    <tr>\n",
              "      <th>4</th>\n",
              "      <td>5</td>\n",
              "      <td>4685.5</td>\n",
              "    </tr>\n",
              "    <tr>\n",
              "      <th>...</th>\n",
              "      <td>...</td>\n",
              "      <td>...</td>\n",
              "    </tr>\n",
              "    <tr>\n",
              "      <th>1110</th>\n",
              "      <td>1111</td>\n",
              "      <td>4903.5</td>\n",
              "    </tr>\n",
              "    <tr>\n",
              "      <th>1111</th>\n",
              "      <td>1112</td>\n",
              "      <td>9170.0</td>\n",
              "    </tr>\n",
              "    <tr>\n",
              "      <th>1112</th>\n",
              "      <td>1113</td>\n",
              "      <td>6608.0</td>\n",
              "    </tr>\n",
              "    <tr>\n",
              "      <th>1113</th>\n",
              "      <td>1114</td>\n",
              "      <td>21304.0</td>\n",
              "    </tr>\n",
              "    <tr>\n",
              "      <th>1114</th>\n",
              "      <td>1115</td>\n",
              "      <td>6504.0</td>\n",
              "    </tr>\n",
              "  </tbody>\n",
              "</table>\n",
              "<p>1115 rows × 2 columns</p>\n",
              "</div>"
            ],
            "text/plain": [
              "      Store  hol_sales\n",
              "0         1     4574.0\n",
              "1         2     5274.5\n",
              "2         3     7184.5\n",
              "3         4    10000.0\n",
              "4         5     4685.5\n",
              "...     ...        ...\n",
              "1110   1111     4903.5\n",
              "1111   1112     9170.0\n",
              "1112   1113     6608.0\n",
              "1113   1114    21304.0\n",
              "1114   1115     6504.0\n",
              "\n",
              "[1115 rows x 2 columns]"
            ]
          },
          "metadata": {
            "tags": []
          },
          "execution_count": 116
        }
      ]
    },
    {
      "cell_type": "code",
      "metadata": {
        "id": "hRrDnsTK47UA"
      },
      "source": [
        "h2=joined_tr[joined_tr.SchoolHoliday==0]"
      ],
      "execution_count": 117,
      "outputs": []
    },
    {
      "cell_type": "code",
      "metadata": {
        "colab": {
          "base_uri": "https://localhost:8080/",
          "height": 419
        },
        "id": "BkuDg1MR5K-G",
        "outputId": "961529ac-432e-4ef2-bc32-1f23cf5d6078"
      },
      "source": [
        "h2_p2=h2.groupby(['Store'])['Sales'].agg(['median'])\n",
        "h2_p2.reset_index(inplace=True)\n",
        "h2_p2.columns=['Store','non_h_sales']\n",
        "h2_p2"
      ],
      "execution_count": 118,
      "outputs": [
        {
          "output_type": "execute_result",
          "data": {
            "text/html": [
              "<div>\n",
              "<style scoped>\n",
              "    .dataframe tbody tr th:only-of-type {\n",
              "        vertical-align: middle;\n",
              "    }\n",
              "\n",
              "    .dataframe tbody tr th {\n",
              "        vertical-align: top;\n",
              "    }\n",
              "\n",
              "    .dataframe thead th {\n",
              "        text-align: right;\n",
              "    }\n",
              "</style>\n",
              "<table border=\"1\" class=\"dataframe\">\n",
              "  <thead>\n",
              "    <tr style=\"text-align: right;\">\n",
              "      <th></th>\n",
              "      <th>Store</th>\n",
              "      <th>non_h_sales</th>\n",
              "    </tr>\n",
              "  </thead>\n",
              "  <tbody>\n",
              "    <tr>\n",
              "      <th>0</th>\n",
              "      <td>1</td>\n",
              "      <td>4602.0</td>\n",
              "    </tr>\n",
              "    <tr>\n",
              "      <th>1</th>\n",
              "      <td>2</td>\n",
              "      <td>4764.5</td>\n",
              "    </tr>\n",
              "    <tr>\n",
              "      <th>2</th>\n",
              "      <td>3</td>\n",
              "      <td>6519.5</td>\n",
              "    </tr>\n",
              "    <tr>\n",
              "      <th>3</th>\n",
              "      <td>4</td>\n",
              "      <td>9411.0</td>\n",
              "    </tr>\n",
              "    <tr>\n",
              "      <th>4</th>\n",
              "      <td>5</td>\n",
              "      <td>4607.0</td>\n",
              "    </tr>\n",
              "    <tr>\n",
              "      <th>...</th>\n",
              "      <td>...</td>\n",
              "      <td>...</td>\n",
              "    </tr>\n",
              "    <tr>\n",
              "      <th>1110</th>\n",
              "      <td>1111</td>\n",
              "      <td>5041.0</td>\n",
              "    </tr>\n",
              "    <tr>\n",
              "      <th>1111</th>\n",
              "      <td>1112</td>\n",
              "      <td>8762.0</td>\n",
              "    </tr>\n",
              "    <tr>\n",
              "      <th>1112</th>\n",
              "      <td>1113</td>\n",
              "      <td>6453.5</td>\n",
              "    </tr>\n",
              "    <tr>\n",
              "      <th>1113</th>\n",
              "      <td>1114</td>\n",
              "      <td>20569.0</td>\n",
              "    </tr>\n",
              "    <tr>\n",
              "      <th>1114</th>\n",
              "      <td>1115</td>\n",
              "      <td>6617.0</td>\n",
              "    </tr>\n",
              "  </tbody>\n",
              "</table>\n",
              "<p>1115 rows × 2 columns</p>\n",
              "</div>"
            ],
            "text/plain": [
              "      Store  non_h_sales\n",
              "0         1       4602.0\n",
              "1         2       4764.5\n",
              "2         3       6519.5\n",
              "3         4       9411.0\n",
              "4         5       4607.0\n",
              "...     ...          ...\n",
              "1110   1111       5041.0\n",
              "1111   1112       8762.0\n",
              "1112   1113       6453.5\n",
              "1113   1114      20569.0\n",
              "1114   1115       6617.0\n",
              "\n",
              "[1115 rows x 2 columns]"
            ]
          },
          "metadata": {
            "tags": []
          },
          "execution_count": 118
        }
      ]
    },
    {
      "cell_type": "code",
      "metadata": {
        "colab": {
          "base_uri": "https://localhost:8080/",
          "height": 419
        },
        "id": "ziL9novq5QmO",
        "outputId": "a0ed9a53-8f38-4900-aeee-c5c4ac071e9d"
      },
      "source": [
        "jo2=pd.merge(h2_p2,h1_p1,on='Store',how='left')\n",
        "jo2=jo2.fillna(0)\n",
        "jo2"
      ],
      "execution_count": 119,
      "outputs": [
        {
          "output_type": "execute_result",
          "data": {
            "text/html": [
              "<div>\n",
              "<style scoped>\n",
              "    .dataframe tbody tr th:only-of-type {\n",
              "        vertical-align: middle;\n",
              "    }\n",
              "\n",
              "    .dataframe tbody tr th {\n",
              "        vertical-align: top;\n",
              "    }\n",
              "\n",
              "    .dataframe thead th {\n",
              "        text-align: right;\n",
              "    }\n",
              "</style>\n",
              "<table border=\"1\" class=\"dataframe\">\n",
              "  <thead>\n",
              "    <tr style=\"text-align: right;\">\n",
              "      <th></th>\n",
              "      <th>Store</th>\n",
              "      <th>non_h_sales</th>\n",
              "      <th>hol_sales</th>\n",
              "    </tr>\n",
              "  </thead>\n",
              "  <tbody>\n",
              "    <tr>\n",
              "      <th>0</th>\n",
              "      <td>1</td>\n",
              "      <td>4602.0</td>\n",
              "      <td>4574.0</td>\n",
              "    </tr>\n",
              "    <tr>\n",
              "      <th>1</th>\n",
              "      <td>2</td>\n",
              "      <td>4764.5</td>\n",
              "      <td>5274.5</td>\n",
              "    </tr>\n",
              "    <tr>\n",
              "      <th>2</th>\n",
              "      <td>3</td>\n",
              "      <td>6519.5</td>\n",
              "      <td>7184.5</td>\n",
              "    </tr>\n",
              "    <tr>\n",
              "      <th>3</th>\n",
              "      <td>4</td>\n",
              "      <td>9411.0</td>\n",
              "      <td>10000.0</td>\n",
              "    </tr>\n",
              "    <tr>\n",
              "      <th>4</th>\n",
              "      <td>5</td>\n",
              "      <td>4607.0</td>\n",
              "      <td>4685.5</td>\n",
              "    </tr>\n",
              "    <tr>\n",
              "      <th>...</th>\n",
              "      <td>...</td>\n",
              "      <td>...</td>\n",
              "      <td>...</td>\n",
              "    </tr>\n",
              "    <tr>\n",
              "      <th>1110</th>\n",
              "      <td>1111</td>\n",
              "      <td>5041.0</td>\n",
              "      <td>4903.5</td>\n",
              "    </tr>\n",
              "    <tr>\n",
              "      <th>1111</th>\n",
              "      <td>1112</td>\n",
              "      <td>8762.0</td>\n",
              "      <td>9170.0</td>\n",
              "    </tr>\n",
              "    <tr>\n",
              "      <th>1112</th>\n",
              "      <td>1113</td>\n",
              "      <td>6453.5</td>\n",
              "      <td>6608.0</td>\n",
              "    </tr>\n",
              "    <tr>\n",
              "      <th>1113</th>\n",
              "      <td>1114</td>\n",
              "      <td>20569.0</td>\n",
              "      <td>21304.0</td>\n",
              "    </tr>\n",
              "    <tr>\n",
              "      <th>1114</th>\n",
              "      <td>1115</td>\n",
              "      <td>6617.0</td>\n",
              "      <td>6504.0</td>\n",
              "    </tr>\n",
              "  </tbody>\n",
              "</table>\n",
              "<p>1115 rows × 3 columns</p>\n",
              "</div>"
            ],
            "text/plain": [
              "      Store  non_h_sales  hol_sales\n",
              "0         1       4602.0     4574.0\n",
              "1         2       4764.5     5274.5\n",
              "2         3       6519.5     7184.5\n",
              "3         4       9411.0    10000.0\n",
              "4         5       4607.0     4685.5\n",
              "...     ...          ...        ...\n",
              "1110   1111       5041.0     4903.5\n",
              "1111   1112       8762.0     9170.0\n",
              "1112   1113       6453.5     6608.0\n",
              "1113   1114      20569.0    21304.0\n",
              "1114   1115       6617.0     6504.0\n",
              "\n",
              "[1115 rows x 3 columns]"
            ]
          },
          "metadata": {
            "tags": []
          },
          "execution_count": 119
        }
      ]
    },
    {
      "cell_type": "code",
      "metadata": {
        "id": "BN8fl3sC5YTI"
      },
      "source": [
        "jo2['sc_h_ratio']=(jo2['hol_sales']/jo2['non_h_sales']).round(2)"
      ],
      "execution_count": 120,
      "outputs": []
    },
    {
      "cell_type": "code",
      "metadata": {
        "colab": {
          "base_uri": "https://localhost:8080/",
          "height": 419
        },
        "id": "kUpg5-uh5eYP",
        "outputId": "809bdc7e-ade7-4b1a-d6a4-3591a8553b70"
      },
      "source": [
        "sc_day=jo2[['Store','sc_h_ratio']]\n",
        "sc_day"
      ],
      "execution_count": 121,
      "outputs": [
        {
          "output_type": "execute_result",
          "data": {
            "text/html": [
              "<div>\n",
              "<style scoped>\n",
              "    .dataframe tbody tr th:only-of-type {\n",
              "        vertical-align: middle;\n",
              "    }\n",
              "\n",
              "    .dataframe tbody tr th {\n",
              "        vertical-align: top;\n",
              "    }\n",
              "\n",
              "    .dataframe thead th {\n",
              "        text-align: right;\n",
              "    }\n",
              "</style>\n",
              "<table border=\"1\" class=\"dataframe\">\n",
              "  <thead>\n",
              "    <tr style=\"text-align: right;\">\n",
              "      <th></th>\n",
              "      <th>Store</th>\n",
              "      <th>sc_h_ratio</th>\n",
              "    </tr>\n",
              "  </thead>\n",
              "  <tbody>\n",
              "    <tr>\n",
              "      <th>0</th>\n",
              "      <td>1</td>\n",
              "      <td>0.99</td>\n",
              "    </tr>\n",
              "    <tr>\n",
              "      <th>1</th>\n",
              "      <td>2</td>\n",
              "      <td>1.11</td>\n",
              "    </tr>\n",
              "    <tr>\n",
              "      <th>2</th>\n",
              "      <td>3</td>\n",
              "      <td>1.10</td>\n",
              "    </tr>\n",
              "    <tr>\n",
              "      <th>3</th>\n",
              "      <td>4</td>\n",
              "      <td>1.06</td>\n",
              "    </tr>\n",
              "    <tr>\n",
              "      <th>4</th>\n",
              "      <td>5</td>\n",
              "      <td>1.02</td>\n",
              "    </tr>\n",
              "    <tr>\n",
              "      <th>...</th>\n",
              "      <td>...</td>\n",
              "      <td>...</td>\n",
              "    </tr>\n",
              "    <tr>\n",
              "      <th>1110</th>\n",
              "      <td>1111</td>\n",
              "      <td>0.97</td>\n",
              "    </tr>\n",
              "    <tr>\n",
              "      <th>1111</th>\n",
              "      <td>1112</td>\n",
              "      <td>1.05</td>\n",
              "    </tr>\n",
              "    <tr>\n",
              "      <th>1112</th>\n",
              "      <td>1113</td>\n",
              "      <td>1.02</td>\n",
              "    </tr>\n",
              "    <tr>\n",
              "      <th>1113</th>\n",
              "      <td>1114</td>\n",
              "      <td>1.04</td>\n",
              "    </tr>\n",
              "    <tr>\n",
              "      <th>1114</th>\n",
              "      <td>1115</td>\n",
              "      <td>0.98</td>\n",
              "    </tr>\n",
              "  </tbody>\n",
              "</table>\n",
              "<p>1115 rows × 2 columns</p>\n",
              "</div>"
            ],
            "text/plain": [
              "      Store  sc_h_ratio\n",
              "0         1        0.99\n",
              "1         2        1.11\n",
              "2         3        1.10\n",
              "3         4        1.06\n",
              "4         5        1.02\n",
              "...     ...         ...\n",
              "1110   1111        0.97\n",
              "1111   1112        1.05\n",
              "1112   1113        1.02\n",
              "1113   1114        1.04\n",
              "1114   1115        0.98\n",
              "\n",
              "[1115 rows x 2 columns]"
            ]
          },
          "metadata": {
            "tags": []
          },
          "execution_count": 121
        }
      ]
    },
    {
      "cell_type": "code",
      "metadata": {
        "id": "_ab4ZMVl8Ceq"
      },
      "source": [
        "joined_tr=pd.merge(joined_tr,sc_day , on=['Store'],how='left')"
      ],
      "execution_count": 122,
      "outputs": []
    },
    {
      "cell_type": "code",
      "metadata": {
        "id": "-aesgSyi8RjY"
      },
      "source": [
        "#joined_tr.info()"
      ],
      "execution_count": null,
      "outputs": []
    },
    {
      "cell_type": "code",
      "metadata": {
        "id": "NP-p0GIq5yzO"
      },
      "source": [
        "month2str = {1:'Jan', 2:'Feb', 3:'Mar', 4:'Apr', 5:'May', 6:'Jun', \\\n",
        "             7:'Jul', 8:'Aug', 9:'Sept', 10:'Oct', 11:'Nov', 12:'Dec'}\n",
        "joined_tr['month_str'] = joined_tr.month.map(month2str)"
      ],
      "execution_count": 123,
      "outputs": []
    },
    {
      "cell_type": "code",
      "metadata": {
        "id": "xKem3fo76CeL"
      },
      "source": [
        "def check(row):\n",
        "    if isinstance(row['PromoInterval'],str) and row['month_str'] in row['PromoInterval']:\n",
        "          return 1\n",
        "    else:\n",
        "          return 0"
      ],
      "execution_count": 124,
      "outputs": []
    },
    {
      "cell_type": "code",
      "metadata": {
        "id": "v6ZxMLKU6DK3"
      },
      "source": [
        "joined_tr['IsPromoMonth'] =  joined_tr.apply(lambda row: check(row),axis=1) "
      ],
      "execution_count": 125,
      "outputs": []
    },
    {
      "cell_type": "code",
      "metadata": {
        "colab": {
          "base_uri": "https://localhost:8080/"
        },
        "id": "809dcVzh59en",
        "outputId": "582f0b0e-058e-449c-c5b3-fee644a3abc8"
      },
      "source": [
        "joined_tr.info()"
      ],
      "execution_count": 126,
      "outputs": [
        {
          "output_type": "stream",
          "text": [
            "<class 'pandas.core.frame.DataFrame'>\n",
            "Int64Index: 589948 entries, 0 to 589947\n",
            "Data columns (total 38 columns):\n",
            " #   Column                     Non-Null Count   Dtype  \n",
            "---  ------                     --------------   -----  \n",
            " 0   Store                      589948 non-null  int64  \n",
            " 1   DayOfWeek                  589948 non-null  int64  \n",
            " 2   Date                       589948 non-null  object \n",
            " 3   Sales                      589948 non-null  int64  \n",
            " 4   Customers                  589948 non-null  int64  \n",
            " 5   Open                       589948 non-null  int64  \n",
            " 6   Promo                      589948 non-null  int64  \n",
            " 7   StateHoliday               589948 non-null  int64  \n",
            " 8   SchoolHoliday              589948 non-null  int64  \n",
            " 9   StoreType                  589948 non-null  int64  \n",
            " 10  Assortment                 589948 non-null  int64  \n",
            " 11  CompetitionDistance        589948 non-null  float64\n",
            " 12  CompetitionOpenSinceMonth  589948 non-null  int32  \n",
            " 13  CompetitionOpenSinceYear   589948 non-null  int32  \n",
            " 14  Promo2                     589948 non-null  int64  \n",
            " 15  Promo2SinceWeek            589948 non-null  int32  \n",
            " 16  Promo2SinceYear            589948 non-null  int32  \n",
            " 17  PromoInterval              589948 non-null  int64  \n",
            " 18  SalePerCustomer            589948 non-null  float64\n",
            " 19  weekend                    589948 non-null  int64  \n",
            " 20  promo_ratio                589948 non-null  float64\n",
            " 21  S_median                   589948 non-null  float64\n",
            " 22  S_std                      589948 non-null  float64\n",
            " 23  S_90                       589948 non-null  float64\n",
            " 24  S_25                       589948 non-null  float64\n",
            " 25  S_01                       589948 non-null  float64\n",
            " 26  SC_per_med                 589948 non-null  float64\n",
            " 27  day                        589948 non-null  int64  \n",
            " 28  month                      589948 non-null  int64  \n",
            " 29  year                       589948 non-null  int64  \n",
            " 30  WeekOfYear                 589948 non-null  int64  \n",
            " 31  CompetitionOpen            589948 non-null  int64  \n",
            " 32  PromoOpen                  589948 non-null  float64\n",
            " 33  sat_ratio                  589948 non-null  float64\n",
            " 34  hol_ratio                  589948 non-null  float64\n",
            " 35  sc_h_ratio                 589948 non-null  float64\n",
            " 36  month_str                  589948 non-null  object \n",
            " 37  IsPromoMonth               589948 non-null  int64  \n",
            "dtypes: float64(13), int32(4), int64(19), object(2)\n",
            "memory usage: 166.5+ MB\n"
          ],
          "name": "stdout"
        }
      ]
    },
    {
      "cell_type": "markdown",
      "metadata": {
        "id": "RiSvcPQF8zGa"
      },
      "source": [
        "# test dataset"
      ]
    },
    {
      "cell_type": "code",
      "metadata": {
        "colab": {
          "base_uri": "https://localhost:8080/"
        },
        "id": "_j8udEeqlVoB",
        "outputId": "6baf9527-25e0-4284-c4f0-822e0895ef76"
      },
      "source": [
        "X.info()"
      ],
      "execution_count": 209,
      "outputs": [
        {
          "output_type": "stream",
          "text": [
            "<class 'pandas.core.frame.DataFrame'>\n",
            "Int64Index: 589948 entries, 0 to 589947\n",
            "Data columns (total 44 columns):\n",
            " #   Column                     Non-Null Count   Dtype  \n",
            "---  ------                     --------------   -----  \n",
            " 0   Store                      589948 non-null  int64  \n",
            " 1   DayOfWeek                  589948 non-null  int64  \n",
            " 2   Promo                      589948 non-null  int64  \n",
            " 3   StateHoliday               589948 non-null  int64  \n",
            " 4   SchoolHoliday              589948 non-null  int64  \n",
            " 5   StoreType                  589948 non-null  int64  \n",
            " 6   Assortment                 589948 non-null  int64  \n",
            " 7   CompetitionDistance        589948 non-null  float64\n",
            " 8   CompetitionOpenSinceMonth  589948 non-null  int32  \n",
            " 9   CompetitionOpenSinceYear   589948 non-null  int32  \n",
            " 10  Promo2                     589948 non-null  int64  \n",
            " 11  Promo2SinceWeek            589948 non-null  int32  \n",
            " 12  Promo2SinceYear            589948 non-null  int32  \n",
            " 13  PromoInterval              589948 non-null  int64  \n",
            " 14  weekend                    589948 non-null  int64  \n",
            " 15  promo_ratio                589948 non-null  float64\n",
            " 16  S_median                   589948 non-null  float64\n",
            " 17  S_std                      589948 non-null  float64\n",
            " 18  S_90                       589948 non-null  float64\n",
            " 19  S_25                       589948 non-null  float64\n",
            " 20  S_01                       589948 non-null  float64\n",
            " 21  SC_per_med                 589948 non-null  float64\n",
            " 22  day                        589948 non-null  int64  \n",
            " 23  month                      589948 non-null  int64  \n",
            " 24  year                       589948 non-null  int64  \n",
            " 25  WeekOfYear                 589948 non-null  int64  \n",
            " 26  CompetitionOpen            589948 non-null  int64  \n",
            " 27  PromoOpen                  589948 non-null  float64\n",
            " 28  sat_ratio                  589948 non-null  float64\n",
            " 29  hol_ratio                  589948 non-null  float64\n",
            " 30  sc_h_ratio                 589948 non-null  float64\n",
            " 31  IsPromoMonth               589948 non-null  int64  \n",
            " 32  AfterSchoolHoliday         589948 non-null  int64  \n",
            " 33  BeforeSchoolHoliday        589948 non-null  int64  \n",
            " 34  AfterStateHoliday          589948 non-null  int64  \n",
            " 35  BeforeStateHoliday         589948 non-null  int64  \n",
            " 36  AfterPromo                 589948 non-null  int64  \n",
            " 37  BeforePromo                589948 non-null  int64  \n",
            " 38  SchoolHoliday_bw           589948 non-null  float64\n",
            " 39  StateHoliday_bw            589948 non-null  float64\n",
            " 40  Promo_bw                   589948 non-null  float64\n",
            " 41  SchoolHoliday_fw           589948 non-null  float64\n",
            " 42  StateHoliday_fw            589948 non-null  float64\n",
            " 43  Promo_fw                   589948 non-null  float64\n",
            "dtypes: float64(18), int32(4), int64(22)\n",
            "memory usage: 193.5 MB\n"
          ],
          "name": "stdout"
        }
      ]
    },
    {
      "cell_type": "code",
      "metadata": {
        "id": "gdUsu6749T94"
      },
      "source": [
        "joined_test=pd.merge(test_w,d,on=['Store'],how='left')"
      ],
      "execution_count": 218,
      "outputs": []
    },
    {
      "cell_type": "code",
      "metadata": {
        "id": "l8DiUS58lq90"
      },
      "source": [
        "joined_test['weekend']=np.where(joined_test['DayOfWeek']>5,1,0)"
      ],
      "execution_count": 219,
      "outputs": []
    },
    {
      "cell_type": "code",
      "metadata": {
        "id": "Hlqb0rC1Arjh"
      },
      "source": [
        "joined_test=pd.merge(joined_test,first,on=['Store'],how='left')\n",
        "\n",
        "joined_test=pd.merge(joined_test,dr1,on=['Store','Promo','weekend'],how='left')\n",
        "\n",
        "\n",
        "joined_test=pd.merge(joined_test,dr_new,on=['Store'],how='left')\n",
        "\n",
        "\n",
        "\n",
        "\n"
      ],
      "execution_count": 220,
      "outputs": []
    },
    {
      "cell_type": "code",
      "metadata": {
        "colab": {
          "base_uri": "https://localhost:8080/"
        },
        "id": "o1QmWQOR9b9f",
        "outputId": "e4645b68-6e14-4b93-adac-f8fdceca4816"
      },
      "source": [
        "joined_test[\"day\"] = pd.to_datetime(joined_test.Date, format=\"%Y/%m/%d\").dt.day\n",
        "\n",
        "joined_test[\"month\"] = pd.to_datetime(joined_test.Date, format=\"%Y/%m/%d\").dt.month\n",
        "\n",
        "joined_test[\"year\"] = pd.to_datetime(joined_test.Date, format=\"%Y/%m/%d\").dt.year\n",
        "\n",
        "joined_test[\"WeekOfYear\"] = pd.to_datetime(joined_test.Date, format=\"%Y/%m/%d\").dt.weekofyear"
      ],
      "execution_count": 222,
      "outputs": [
        {
          "output_type": "stream",
          "text": [
            "/usr/local/lib/python3.7/dist-packages/ipykernel_launcher.py:7: FutureWarning: Series.dt.weekofyear and Series.dt.week have been deprecated.  Please use Series.dt.isocalendar().week instead.\n",
            "  import sys\n"
          ],
          "name": "stderr"
        }
      ]
    },
    {
      "cell_type": "code",
      "metadata": {
        "id": "p5wRxzWA8tcS"
      },
      "source": [
        "joined_test['CompetitionOpen'] = 12 * (joined_test.year - joined_test.CompetitionOpenSinceYear) + \\\n",
        "        (joined_test.month - joined_test.CompetitionOpenSinceMonth)\n",
        "joined_test['CompetitionOpen'] = joined_test['CompetitionOpen'].apply(lambda x: x if x > 0 else 0)\n",
        "\n"
      ],
      "execution_count": 224,
      "outputs": []
    },
    {
      "cell_type": "code",
      "metadata": {
        "id": "FIKVOhup_99y"
      },
      "source": [
        "joined_test['PromoOpen'] = 12 * (joined_test.year - joined_test.Promo2SinceYear) + \\\n",
        "        (joined_test.WeekOfYear - joined_test.Promo2SinceWeek) / 4.0\n",
        "joined_test['PromoOpen'] = joined_test['PromoOpen'].apply(lambda x: x if x > 0 else 0)        "
      ],
      "execution_count": 225,
      "outputs": []
    },
    {
      "cell_type": "code",
      "metadata": {
        "id": "mURakKfEmXnd"
      },
      "source": [
        "joined_test=pd.merge(joined_test,joint_1,on=['Store'],how='left')\n",
        "\n",
        "joined_test=pd.merge(joined_test,holi_day,on=['Store'],how='left')\n",
        "\n",
        "joined_test=pd.merge(joined_test,sc_day,on=['Store'],how='left')"
      ],
      "execution_count": 227,
      "outputs": []
    },
    {
      "cell_type": "code",
      "metadata": {
        "colab": {
          "base_uri": "https://localhost:8080/"
        },
        "id": "Mp66KEJfmvCZ",
        "outputId": "4cb66960-6718-467d-ba60-a29d3e35356a"
      },
      "source": [
        "joined_test.info()"
      ],
      "execution_count": 228,
      "outputs": [
        {
          "output_type": "stream",
          "text": [
            "<class 'pandas.core.frame.DataFrame'>\n",
            "Int64Index: 254409 entries, 0 to 254408\n",
            "Data columns (total 34 columns):\n",
            " #   Column                     Non-Null Count   Dtype  \n",
            "---  ------                     --------------   -----  \n",
            " 0   Store                      254409 non-null  int64  \n",
            " 1   DayOfWeek                  254409 non-null  int64  \n",
            " 2   Date                       254409 non-null  object \n",
            " 3   Open                       254409 non-null  int64  \n",
            " 4   Promo                      254409 non-null  int64  \n",
            " 5   StateHoliday               254409 non-null  object \n",
            " 6   SchoolHoliday              254409 non-null  int64  \n",
            " 7   index1                     254409 non-null  int64  \n",
            " 8   StoreType                  254409 non-null  object \n",
            " 9   Assortment                 254409 non-null  object \n",
            " 10  CompetitionDistance        254409 non-null  float64\n",
            " 11  CompetitionOpenSinceMonth  254409 non-null  int32  \n",
            " 12  CompetitionOpenSinceYear   254409 non-null  int32  \n",
            " 13  Promo2                     254409 non-null  int64  \n",
            " 14  Promo2SinceWeek            254409 non-null  int32  \n",
            " 15  Promo2SinceYear            254409 non-null  int32  \n",
            " 16  PromoInterval              254409 non-null  object \n",
            " 17  weekend                    254409 non-null  int64  \n",
            " 18  promo_ratio                254409 non-null  float64\n",
            " 19  S_median                   254409 non-null  float64\n",
            " 20  S_std                      254409 non-null  float64\n",
            " 21  S_90                       254409 non-null  float64\n",
            " 22  S_25                       254409 non-null  float64\n",
            " 23  S_01                       254409 non-null  float64\n",
            " 24  SC_per_med                 254409 non-null  float64\n",
            " 25  day                        254409 non-null  int64  \n",
            " 26  month                      254409 non-null  int64  \n",
            " 27  year                       254409 non-null  int64  \n",
            " 28  WeekOfYear                 254409 non-null  int64  \n",
            " 29  CompetitionOpen            254409 non-null  int64  \n",
            " 30  PromoOpen                  254409 non-null  float64\n",
            " 31  sat_ratio                  254409 non-null  float64\n",
            " 32  hol_ratio                  254409 non-null  float64\n",
            " 33  sc_h_ratio                 254409 non-null  float64\n",
            "dtypes: float64(12), int32(4), int64(13), object(5)\n",
            "memory usage: 64.1+ MB\n"
          ],
          "name": "stdout"
        }
      ]
    },
    {
      "cell_type": "code",
      "metadata": {
        "id": "YvX_FVRoALMb"
      },
      "source": [
        "joined_test[\"StateHoliday\"].replace(['0','a','b','c',0],[0,1,2,3,0],inplace = True)\n",
        "\n",
        "joined_test[\"StoreType\"].replace(['a','b','c','d'],[1,2,3,4],inplace = True)\n",
        "\n",
        "joined_test[\"Assortment\"].replace(['a','b','c','d'],[1,2,3,4],inplace = True)\n",
        "\n",
        "joined_test[\"PromoInterval\"].replace(['Jan,Apr,Jul,Oct','Feb,May,Aug,Nov','Mar,Jun,Sept,Dec',0],[1,2,3,0],inplace = True)"
      ],
      "execution_count": 229,
      "outputs": []
    },
    {
      "cell_type": "markdown",
      "metadata": {
        "id": "5_m3pO11E2Hi"
      },
      "source": [
        "['Store','Promo','weekend']"
      ]
    },
    {
      "cell_type": "code",
      "metadata": {
        "id": "SiP-QBIjGOrT"
      },
      "source": [
        "month2str = {1:'Jan', 2:'Feb', 3:'Mar', 4:'Apr', 5:'May', 6:'Jun', \\\n",
        "             7:'Jul', 8:'Aug', 9:'Sept', 10:'Oct', 11:'Nov', 12:'Dec'}\n",
        "joined_test['month_str'] = joined_test.month.map(month2str)"
      ],
      "execution_count": 230,
      "outputs": []
    },
    {
      "cell_type": "code",
      "metadata": {
        "id": "yBOZWqunGSs1"
      },
      "source": [
        "joined_test['IsPromoMonth'] =  joined_test.apply(lambda row: check(row),axis=1) "
      ],
      "execution_count": 231,
      "outputs": []
    },
    {
      "cell_type": "code",
      "metadata": {
        "colab": {
          "base_uri": "https://localhost:8080/"
        },
        "id": "espfUuJgGC7t",
        "outputId": "55ca0098-54e9-441e-94e1-3c313b7fc346"
      },
      "source": [
        "joined_tr.info()"
      ],
      "execution_count": 237,
      "outputs": [
        {
          "output_type": "stream",
          "text": [
            "<class 'pandas.core.frame.DataFrame'>\n",
            "Int64Index: 589948 entries, 0 to 589947\n",
            "Data columns (total 38 columns):\n",
            " #   Column                     Non-Null Count   Dtype         \n",
            "---  ------                     --------------   -----         \n",
            " 0   Store                      589948 non-null  int64         \n",
            " 1   DayOfWeek                  589948 non-null  int64         \n",
            " 2   Date                       589948 non-null  datetime64[ns]\n",
            " 3   Sales                      589948 non-null  int64         \n",
            " 4   Customers                  589948 non-null  int64         \n",
            " 5   Open                       589948 non-null  int64         \n",
            " 6   Promo                      589948 non-null  int64         \n",
            " 7   StateHoliday               589948 non-null  int64         \n",
            " 8   SchoolHoliday              589948 non-null  int64         \n",
            " 9   StoreType                  589948 non-null  int64         \n",
            " 10  Assortment                 589948 non-null  int64         \n",
            " 11  CompetitionDistance        589948 non-null  float64       \n",
            " 12  CompetitionOpenSinceMonth  589948 non-null  int32         \n",
            " 13  CompetitionOpenSinceYear   589948 non-null  int32         \n",
            " 14  Promo2                     589948 non-null  int64         \n",
            " 15  Promo2SinceWeek            589948 non-null  int32         \n",
            " 16  Promo2SinceYear            589948 non-null  int32         \n",
            " 17  PromoInterval              589948 non-null  int64         \n",
            " 18  SalePerCustomer            589948 non-null  float64       \n",
            " 19  weekend                    589948 non-null  int64         \n",
            " 20  promo_ratio                589948 non-null  float64       \n",
            " 21  S_median                   589948 non-null  float64       \n",
            " 22  S_std                      589948 non-null  float64       \n",
            " 23  S_90                       589948 non-null  float64       \n",
            " 24  S_25                       589948 non-null  float64       \n",
            " 25  S_01                       589948 non-null  float64       \n",
            " 26  SC_per_med                 589948 non-null  float64       \n",
            " 27  day                        589948 non-null  int64         \n",
            " 28  month                      589948 non-null  int64         \n",
            " 29  year                       589948 non-null  int64         \n",
            " 30  WeekOfYear                 589948 non-null  int64         \n",
            " 31  CompetitionOpen            589948 non-null  int64         \n",
            " 32  PromoOpen                  589948 non-null  float64       \n",
            " 33  sat_ratio                  589948 non-null  float64       \n",
            " 34  hol_ratio                  589948 non-null  float64       \n",
            " 35  sc_h_ratio                 589948 non-null  float64       \n",
            " 36  month_str                  589948 non-null  object        \n",
            " 37  IsPromoMonth               589948 non-null  int64         \n",
            "dtypes: datetime64[ns](1), float64(13), int32(4), int64(19), object(1)\n",
            "memory usage: 166.5+ MB\n"
          ],
          "name": "stdout"
        }
      ]
    },
    {
      "cell_type": "code",
      "metadata": {
        "id": "_-WJmmacfiS1"
      },
      "source": [
        "joined_tr['Date']=pd.to_datetime(joined_tr.Date, format=\"%Y/%m/%d\")"
      ],
      "execution_count": 146,
      "outputs": []
    },
    {
      "cell_type": "code",
      "metadata": {
        "id": "wGmAhLJipinc"
      },
      "source": [
        "joined_test['Date']=pd.to_datetime(joined_test.Date, format=\"%Y/%m/%d\")"
      ],
      "execution_count": 238,
      "outputs": []
    },
    {
      "cell_type": "markdown",
      "metadata": {
        "id": "DPoEtcQYEM13"
      },
      "source": [
        "# new method"
      ]
    },
    {
      "cell_type": "code",
      "metadata": {
        "id": "wothcjckpnWX"
      },
      "source": [
        "def get_elapsed(fld, pre):\n",
        "    day1 = np.timedelta64(1, 'D')\n",
        "    last_date = np.datetime64()\n",
        "    last_store = 0\n",
        "    res = []\n",
        "\n",
        "    for s,v,d in zip(df.Store.values,df[fld].values, df.Date.values):\n",
        "        if s != last_store:\n",
        "            last_date = np.datetime64()\n",
        "            last_store = s\n",
        "        if v: last_date = d\n",
        "        res.append(((d-last_date).astype('timedelta64[D]') / day1))\n",
        "    df[pre+fld] = res"
      ],
      "execution_count": 233,
      "outputs": []
    },
    {
      "cell_type": "code",
      "metadata": {
        "id": "TMzH_EsX8rwo"
      },
      "source": [
        "columns = [\"Date\", \"Store\", \"Promo\", \"StateHoliday\", \"SchoolHoliday\"]"
      ],
      "execution_count": 234,
      "outputs": []
    },
    {
      "cell_type": "code",
      "metadata": {
        "id": "yc75ulLuETzY"
      },
      "source": [
        "df = joined_tr[columns].append(joined_test[columns])"
      ],
      "execution_count": 239,
      "outputs": []
    },
    {
      "cell_type": "code",
      "metadata": {
        "id": "ScjLCNkTG8A-"
      },
      "source": [
        "fld = 'SchoolHoliday'\n",
        "df = df.sort_values(['Store', 'Date'])\n",
        "get_elapsed(fld, 'After')\n",
        "df = df.sort_values(['Store', 'Date'], ascending=[True, False])\n",
        "get_elapsed(fld, 'Before')"
      ],
      "execution_count": 240,
      "outputs": []
    },
    {
      "cell_type": "code",
      "metadata": {
        "id": "oj636MMXHHBu"
      },
      "source": [
        "fld = 'StateHoliday'\n",
        "df = df.sort_values(['Store', 'Date'])\n",
        "get_elapsed(fld, 'After')\n",
        "df = df.sort_values(['Store', 'Date'], ascending=[True, False])\n",
        "get_elapsed(fld, 'Before')"
      ],
      "execution_count": 241,
      "outputs": []
    },
    {
      "cell_type": "code",
      "metadata": {
        "id": "LmRF48XhHIvq"
      },
      "source": [
        "fld = 'Promo'\n",
        "df = df.sort_values(['Store', 'Date'])\n",
        "get_elapsed(fld, 'After')\n",
        "df = df.sort_values(['Store', 'Date'], ascending=[True, False])\n",
        "get_elapsed(fld, 'Before')"
      ],
      "execution_count": 242,
      "outputs": []
    },
    {
      "cell_type": "code",
      "metadata": {
        "id": "OpKeyHx9HKYr"
      },
      "source": [
        "df = df.set_index(\"Date\")"
      ],
      "execution_count": 243,
      "outputs": []
    },
    {
      "cell_type": "code",
      "metadata": {
        "id": "VFKJ4LuQHNA7"
      },
      "source": [
        "columns = ['SchoolHoliday', 'StateHoliday', 'Promo']"
      ],
      "execution_count": 244,
      "outputs": []
    },
    {
      "cell_type": "code",
      "metadata": {
        "id": "Lw-qjV4xHOxb"
      },
      "source": [
        "for o in ['Before', 'After']:\n",
        "    for p in columns:\n",
        "        a = o+p\n",
        "        df[a] = df[a].fillna(0).astype(int)"
      ],
      "execution_count": 245,
      "outputs": []
    },
    {
      "cell_type": "code",
      "metadata": {
        "id": "DVAoCP_tHQi8"
      },
      "source": [
        "bwd = df[['Store']+columns].sort_index().groupby(\"Store\").rolling(7, min_periods=1).sum()"
      ],
      "execution_count": 246,
      "outputs": []
    },
    {
      "cell_type": "code",
      "metadata": {
        "id": "EaRasx0bHSYX"
      },
      "source": [
        "fwd = df[['Store']+columns].sort_index(ascending=False\n",
        "                                      ).groupby(\"Store\").rolling(7, min_periods=1).sum()"
      ],
      "execution_count": 247,
      "outputs": []
    },
    {
      "cell_type": "code",
      "metadata": {
        "id": "QXgC76QAHT_9"
      },
      "source": [
        "bwd.drop('Store',1,inplace=True)\n",
        "bwd.reset_index(inplace=True)"
      ],
      "execution_count": 248,
      "outputs": []
    },
    {
      "cell_type": "code",
      "metadata": {
        "id": "Op3_07utHVlT"
      },
      "source": [
        "fwd.drop('Store',1,inplace=True)\n",
        "fwd.reset_index(inplace=True)"
      ],
      "execution_count": 249,
      "outputs": []
    },
    {
      "cell_type": "code",
      "metadata": {
        "id": "kTElyvvUHXml"
      },
      "source": [
        "df.reset_index(inplace=True)"
      ],
      "execution_count": 250,
      "outputs": []
    },
    {
      "cell_type": "code",
      "metadata": {
        "id": "ULpG-s44HZRw"
      },
      "source": [
        "df = df.merge(bwd, 'left', ['Date', 'Store'], suffixes=['', '_bw'])\n",
        "df = df.merge(fwd, 'left', ['Date', 'Store'], suffixes=['', '_fw'])"
      ],
      "execution_count": 251,
      "outputs": []
    },
    {
      "cell_type": "code",
      "metadata": {
        "id": "zp6nJU5eHa99"
      },
      "source": [
        "df.drop(columns,1,inplace=True)"
      ],
      "execution_count": 252,
      "outputs": []
    },
    {
      "cell_type": "code",
      "metadata": {
        "colab": {
          "base_uri": "https://localhost:8080/",
          "height": 309
        },
        "id": "Z992Akt1HcTy",
        "outputId": "dcb1f044-9c1f-46f6-eaaa-f21112a49e9d"
      },
      "source": [
        "df.head()"
      ],
      "execution_count": 253,
      "outputs": [
        {
          "output_type": "execute_result",
          "data": {
            "text/html": [
              "<div>\n",
              "<style scoped>\n",
              "    .dataframe tbody tr th:only-of-type {\n",
              "        vertical-align: middle;\n",
              "    }\n",
              "\n",
              "    .dataframe tbody tr th {\n",
              "        vertical-align: top;\n",
              "    }\n",
              "\n",
              "    .dataframe thead th {\n",
              "        text-align: right;\n",
              "    }\n",
              "</style>\n",
              "<table border=\"1\" class=\"dataframe\">\n",
              "  <thead>\n",
              "    <tr style=\"text-align: right;\">\n",
              "      <th></th>\n",
              "      <th>Date</th>\n",
              "      <th>Store</th>\n",
              "      <th>AfterSchoolHoliday</th>\n",
              "      <th>BeforeSchoolHoliday</th>\n",
              "      <th>AfterStateHoliday</th>\n",
              "      <th>BeforeStateHoliday</th>\n",
              "      <th>AfterPromo</th>\n",
              "      <th>BeforePromo</th>\n",
              "      <th>SchoolHoliday_bw</th>\n",
              "      <th>StateHoliday_bw</th>\n",
              "      <th>Promo_bw</th>\n",
              "      <th>SchoolHoliday_fw</th>\n",
              "      <th>StateHoliday_fw</th>\n",
              "      <th>Promo_fw</th>\n",
              "    </tr>\n",
              "  </thead>\n",
              "  <tbody>\n",
              "    <tr>\n",
              "      <th>0</th>\n",
              "      <td>2015-07-31</td>\n",
              "      <td>1</td>\n",
              "      <td>0</td>\n",
              "      <td>0</td>\n",
              "      <td>0</td>\n",
              "      <td>0</td>\n",
              "      <td>0</td>\n",
              "      <td>0</td>\n",
              "      <td>5.0</td>\n",
              "      <td>0.0</td>\n",
              "      <td>5.0</td>\n",
              "      <td>1.0</td>\n",
              "      <td>0.0</td>\n",
              "      <td>1.0</td>\n",
              "    </tr>\n",
              "    <tr>\n",
              "      <th>1</th>\n",
              "      <td>2015-07-30</td>\n",
              "      <td>1</td>\n",
              "      <td>0</td>\n",
              "      <td>0</td>\n",
              "      <td>0</td>\n",
              "      <td>0</td>\n",
              "      <td>0</td>\n",
              "      <td>0</td>\n",
              "      <td>4.0</td>\n",
              "      <td>0.0</td>\n",
              "      <td>4.0</td>\n",
              "      <td>2.0</td>\n",
              "      <td>0.0</td>\n",
              "      <td>2.0</td>\n",
              "    </tr>\n",
              "    <tr>\n",
              "      <th>2</th>\n",
              "      <td>2015-07-29</td>\n",
              "      <td>1</td>\n",
              "      <td>0</td>\n",
              "      <td>0</td>\n",
              "      <td>0</td>\n",
              "      <td>0</td>\n",
              "      <td>0</td>\n",
              "      <td>0</td>\n",
              "      <td>3.0</td>\n",
              "      <td>0.0</td>\n",
              "      <td>3.0</td>\n",
              "      <td>3.0</td>\n",
              "      <td>0.0</td>\n",
              "      <td>3.0</td>\n",
              "    </tr>\n",
              "    <tr>\n",
              "      <th>3</th>\n",
              "      <td>2015-07-28</td>\n",
              "      <td>1</td>\n",
              "      <td>0</td>\n",
              "      <td>0</td>\n",
              "      <td>0</td>\n",
              "      <td>0</td>\n",
              "      <td>0</td>\n",
              "      <td>0</td>\n",
              "      <td>2.0</td>\n",
              "      <td>0.0</td>\n",
              "      <td>2.0</td>\n",
              "      <td>4.0</td>\n",
              "      <td>0.0</td>\n",
              "      <td>4.0</td>\n",
              "    </tr>\n",
              "    <tr>\n",
              "      <th>4</th>\n",
              "      <td>2015-07-27</td>\n",
              "      <td>1</td>\n",
              "      <td>0</td>\n",
              "      <td>0</td>\n",
              "      <td>0</td>\n",
              "      <td>0</td>\n",
              "      <td>0</td>\n",
              "      <td>0</td>\n",
              "      <td>1.0</td>\n",
              "      <td>0.0</td>\n",
              "      <td>1.0</td>\n",
              "      <td>5.0</td>\n",
              "      <td>0.0</td>\n",
              "      <td>5.0</td>\n",
              "    </tr>\n",
              "  </tbody>\n",
              "</table>\n",
              "</div>"
            ],
            "text/plain": [
              "        Date  Store  ...  StateHoliday_fw  Promo_fw\n",
              "0 2015-07-31      1  ...              0.0       1.0\n",
              "1 2015-07-30      1  ...              0.0       2.0\n",
              "2 2015-07-29      1  ...              0.0       3.0\n",
              "3 2015-07-28      1  ...              0.0       4.0\n",
              "4 2015-07-27      1  ...              0.0       5.0\n",
              "\n",
              "[5 rows x 14 columns]"
            ]
          },
          "metadata": {
            "tags": []
          },
          "execution_count": 253
        }
      ]
    },
    {
      "cell_type": "code",
      "metadata": {
        "id": "6BvawsUZHmr2"
      },
      "source": [
        "def join_df(left, right, left_on, right_on=None, suffix='_y'):\n",
        "    if right_on is None: right_on = left_on\n",
        "    return left.merge(right, how='left', left_on=left_on, right_on=right_on, \n",
        "                      suffixes=(\"\", suffix))"
      ],
      "execution_count": 254,
      "outputs": []
    },
    {
      "cell_type": "code",
      "metadata": {
        "id": "C1zw_j9mHnKN"
      },
      "source": [
        "joined_train = join_df(joined_tr, df, ['Store', 'Date'])"
      ],
      "execution_count": 166,
      "outputs": []
    },
    {
      "cell_type": "code",
      "metadata": {
        "colab": {
          "base_uri": "https://localhost:8080/"
        },
        "id": "BuNHpXRmHs0R",
        "outputId": "f4a9399a-a6f9-4cf3-d20f-2cfc5fb638b7"
      },
      "source": [
        "joined_train.info()"
      ],
      "execution_count": 167,
      "outputs": [
        {
          "output_type": "stream",
          "text": [
            "<class 'pandas.core.frame.DataFrame'>\n",
            "Int64Index: 589948 entries, 0 to 589947\n",
            "Data columns (total 50 columns):\n",
            " #   Column                     Non-Null Count   Dtype         \n",
            "---  ------                     --------------   -----         \n",
            " 0   Store                      589948 non-null  int64         \n",
            " 1   DayOfWeek                  589948 non-null  int64         \n",
            " 2   Date                       589948 non-null  datetime64[ns]\n",
            " 3   Sales                      589948 non-null  int64         \n",
            " 4   Customers                  589948 non-null  int64         \n",
            " 5   Open                       589948 non-null  int64         \n",
            " 6   Promo                      589948 non-null  int64         \n",
            " 7   StateHoliday               589948 non-null  int64         \n",
            " 8   SchoolHoliday              589948 non-null  int64         \n",
            " 9   StoreType                  589948 non-null  int64         \n",
            " 10  Assortment                 589948 non-null  int64         \n",
            " 11  CompetitionDistance        589948 non-null  float64       \n",
            " 12  CompetitionOpenSinceMonth  589948 non-null  int32         \n",
            " 13  CompetitionOpenSinceYear   589948 non-null  int32         \n",
            " 14  Promo2                     589948 non-null  int64         \n",
            " 15  Promo2SinceWeek            589948 non-null  int32         \n",
            " 16  Promo2SinceYear            589948 non-null  int32         \n",
            " 17  PromoInterval              589948 non-null  int64         \n",
            " 18  SalePerCustomer            589948 non-null  float64       \n",
            " 19  weekend                    589948 non-null  int64         \n",
            " 20  promo_ratio                589948 non-null  float64       \n",
            " 21  S_median                   589948 non-null  float64       \n",
            " 22  S_std                      589948 non-null  float64       \n",
            " 23  S_90                       589948 non-null  float64       \n",
            " 24  S_25                       589948 non-null  float64       \n",
            " 25  S_01                       589948 non-null  float64       \n",
            " 26  SC_per_med                 589948 non-null  float64       \n",
            " 27  day                        589948 non-null  int64         \n",
            " 28  month                      589948 non-null  int64         \n",
            " 29  year                       589948 non-null  int64         \n",
            " 30  WeekOfYear                 589948 non-null  int64         \n",
            " 31  CompetitionOpen            589948 non-null  int64         \n",
            " 32  PromoOpen                  589948 non-null  float64       \n",
            " 33  sat_ratio                  589948 non-null  float64       \n",
            " 34  hol_ratio                  589948 non-null  float64       \n",
            " 35  sc_h_ratio                 589948 non-null  float64       \n",
            " 36  month_str                  589948 non-null  object        \n",
            " 37  IsPromoMonth               589948 non-null  int64         \n",
            " 38  AfterSchoolHoliday         589948 non-null  int64         \n",
            " 39  BeforeSchoolHoliday        589948 non-null  int64         \n",
            " 40  AfterStateHoliday          589948 non-null  int64         \n",
            " 41  BeforeStateHoliday         589948 non-null  int64         \n",
            " 42  AfterPromo                 589948 non-null  int64         \n",
            " 43  BeforePromo                589948 non-null  int64         \n",
            " 44  SchoolHoliday_bw           589948 non-null  float64       \n",
            " 45  StateHoliday_bw            589948 non-null  float64       \n",
            " 46  Promo_bw                   589948 non-null  float64       \n",
            " 47  SchoolHoliday_fw           589948 non-null  float64       \n",
            " 48  StateHoliday_fw            589948 non-null  float64       \n",
            " 49  Promo_fw                   589948 non-null  float64       \n",
            "dtypes: datetime64[ns](1), float64(19), int32(4), int64(25), object(1)\n",
            "memory usage: 220.5+ MB\n"
          ],
          "name": "stdout"
        }
      ]
    },
    {
      "cell_type": "code",
      "metadata": {
        "id": "WJS1OJdGHuQU"
      },
      "source": [
        "full_test=join_df(joined_test, df, ['Store', 'Date'])"
      ],
      "execution_count": 255,
      "outputs": []
    },
    {
      "cell_type": "code",
      "metadata": {
        "colab": {
          "base_uri": "https://localhost:8080/"
        },
        "id": "DLjtL_32ICUe",
        "outputId": "2bf2ed6f-ffbe-4e43-8d13-9b0f6102ce4e"
      },
      "source": [
        "full_test.info()"
      ],
      "execution_count": 256,
      "outputs": [
        {
          "output_type": "stream",
          "text": [
            "<class 'pandas.core.frame.DataFrame'>\n",
            "Int64Index: 254409 entries, 0 to 254408\n",
            "Data columns (total 48 columns):\n",
            " #   Column                     Non-Null Count   Dtype         \n",
            "---  ------                     --------------   -----         \n",
            " 0   Store                      254409 non-null  int64         \n",
            " 1   DayOfWeek                  254409 non-null  int64         \n",
            " 2   Date                       254409 non-null  datetime64[ns]\n",
            " 3   Open                       254409 non-null  int64         \n",
            " 4   Promo                      254409 non-null  int64         \n",
            " 5   StateHoliday               254409 non-null  int64         \n",
            " 6   SchoolHoliday              254409 non-null  int64         \n",
            " 7   index1                     254409 non-null  int64         \n",
            " 8   StoreType                  254409 non-null  int64         \n",
            " 9   Assortment                 254409 non-null  int64         \n",
            " 10  CompetitionDistance        254409 non-null  float64       \n",
            " 11  CompetitionOpenSinceMonth  254409 non-null  int32         \n",
            " 12  CompetitionOpenSinceYear   254409 non-null  int32         \n",
            " 13  Promo2                     254409 non-null  int64         \n",
            " 14  Promo2SinceWeek            254409 non-null  int32         \n",
            " 15  Promo2SinceYear            254409 non-null  int32         \n",
            " 16  PromoInterval              254409 non-null  int64         \n",
            " 17  weekend                    254409 non-null  int64         \n",
            " 18  promo_ratio                254409 non-null  float64       \n",
            " 19  S_median                   254409 non-null  float64       \n",
            " 20  S_std                      254409 non-null  float64       \n",
            " 21  S_90                       254409 non-null  float64       \n",
            " 22  S_25                       254409 non-null  float64       \n",
            " 23  S_01                       254409 non-null  float64       \n",
            " 24  SC_per_med                 254409 non-null  float64       \n",
            " 25  day                        254409 non-null  int64         \n",
            " 26  month                      254409 non-null  int64         \n",
            " 27  year                       254409 non-null  int64         \n",
            " 28  WeekOfYear                 254409 non-null  int64         \n",
            " 29  CompetitionOpen            254409 non-null  int64         \n",
            " 30  PromoOpen                  254409 non-null  float64       \n",
            " 31  sat_ratio                  254409 non-null  float64       \n",
            " 32  hol_ratio                  254409 non-null  float64       \n",
            " 33  sc_h_ratio                 254409 non-null  float64       \n",
            " 34  month_str                  254409 non-null  object        \n",
            " 35  IsPromoMonth               254409 non-null  int64         \n",
            " 36  AfterSchoolHoliday         254409 non-null  int64         \n",
            " 37  BeforeSchoolHoliday        254409 non-null  int64         \n",
            " 38  AfterStateHoliday          254409 non-null  int64         \n",
            " 39  BeforeStateHoliday         254409 non-null  int64         \n",
            " 40  AfterPromo                 254409 non-null  int64         \n",
            " 41  BeforePromo                254409 non-null  int64         \n",
            " 42  SchoolHoliday_bw           254409 non-null  float64       \n",
            " 43  StateHoliday_bw            254409 non-null  float64       \n",
            " 44  Promo_bw                   254409 non-null  float64       \n",
            " 45  SchoolHoliday_fw           254409 non-null  float64       \n",
            " 46  StateHoliday_fw            254409 non-null  float64       \n",
            " 47  Promo_fw                   254409 non-null  float64       \n",
            "dtypes: datetime64[ns](1), float64(18), int32(4), int64(24), object(1)\n",
            "memory usage: 91.2+ MB\n"
          ],
          "name": "stdout"
        }
      ]
    },
    {
      "cell_type": "markdown",
      "metadata": {
        "id": "RnzIqMj9IMq2"
      },
      "source": [
        "# model"
      ]
    },
    {
      "cell_type": "code",
      "metadata": {
        "id": "BSmqm2sdIECC"
      },
      "source": [
        "train_new_on = joined_train.sort_values(['Date'],ascending = False)"
      ],
      "execution_count": 170,
      "outputs": []
    },
    {
      "cell_type": "code",
      "metadata": {
        "id": "UUp9uat-JMYV"
      },
      "source": [
        "train_new_on['Sales']=np.log1p(train_new_on['Sales'])"
      ],
      "execution_count": 171,
      "outputs": []
    },
    {
      "cell_type": "code",
      "metadata": {
        "colab": {
          "base_uri": "https://localhost:8080/",
          "height": 309
        },
        "id": "c3yz7QTnIfyV",
        "outputId": "6c5448b0-0321-44db-c7cf-21fdf056a10a"
      },
      "source": [
        "train_new_on.head()"
      ],
      "execution_count": 289,
      "outputs": [
        {
          "output_type": "execute_result",
          "data": {
            "text/html": [
              "<div>\n",
              "<style scoped>\n",
              "    .dataframe tbody tr th:only-of-type {\n",
              "        vertical-align: middle;\n",
              "    }\n",
              "\n",
              "    .dataframe tbody tr th {\n",
              "        vertical-align: top;\n",
              "    }\n",
              "\n",
              "    .dataframe thead th {\n",
              "        text-align: right;\n",
              "    }\n",
              "</style>\n",
              "<table border=\"1\" class=\"dataframe\">\n",
              "  <thead>\n",
              "    <tr style=\"text-align: right;\">\n",
              "      <th></th>\n",
              "      <th>Store</th>\n",
              "      <th>DayOfWeek</th>\n",
              "      <th>Date</th>\n",
              "      <th>Sales</th>\n",
              "      <th>Customers</th>\n",
              "      <th>Open</th>\n",
              "      <th>Promo</th>\n",
              "      <th>StateHoliday</th>\n",
              "      <th>SchoolHoliday</th>\n",
              "      <th>StoreType</th>\n",
              "      <th>Assortment</th>\n",
              "      <th>CompetitionDistance</th>\n",
              "      <th>CompetitionOpenSinceMonth</th>\n",
              "      <th>CompetitionOpenSinceYear</th>\n",
              "      <th>Promo2</th>\n",
              "      <th>Promo2SinceWeek</th>\n",
              "      <th>Promo2SinceYear</th>\n",
              "      <th>PromoInterval</th>\n",
              "      <th>SalePerCustomer</th>\n",
              "      <th>weekend</th>\n",
              "      <th>promo_ratio</th>\n",
              "      <th>S_median</th>\n",
              "      <th>S_std</th>\n",
              "      <th>S_90</th>\n",
              "      <th>S_25</th>\n",
              "      <th>S_01</th>\n",
              "      <th>SC_per_med</th>\n",
              "      <th>day</th>\n",
              "      <th>month</th>\n",
              "      <th>year</th>\n",
              "      <th>WeekOfYear</th>\n",
              "      <th>CompetitionOpen</th>\n",
              "      <th>PromoOpen</th>\n",
              "      <th>sat_ratio</th>\n",
              "      <th>hol_ratio</th>\n",
              "      <th>sc_h_ratio</th>\n",
              "      <th>month_str</th>\n",
              "      <th>IsPromoMonth</th>\n",
              "      <th>AfterSchoolHoliday</th>\n",
              "      <th>BeforeSchoolHoliday</th>\n",
              "      <th>AfterStateHoliday</th>\n",
              "      <th>BeforeStateHoliday</th>\n",
              "      <th>AfterPromo</th>\n",
              "      <th>BeforePromo</th>\n",
              "      <th>SchoolHoliday_bw</th>\n",
              "      <th>StateHoliday_bw</th>\n",
              "      <th>Promo_bw</th>\n",
              "      <th>SchoolHoliday_fw</th>\n",
              "      <th>StateHoliday_fw</th>\n",
              "      <th>Promo_fw</th>\n",
              "    </tr>\n",
              "  </thead>\n",
              "  <tbody>\n",
              "    <tr>\n",
              "      <th>0</th>\n",
              "      <td>1</td>\n",
              "      <td>5</td>\n",
              "      <td>2015-07-31</td>\n",
              "      <td>8.568646</td>\n",
              "      <td>555</td>\n",
              "      <td>1</td>\n",
              "      <td>1</td>\n",
              "      <td>0</td>\n",
              "      <td>1</td>\n",
              "      <td>3</td>\n",
              "      <td>1</td>\n",
              "      <td>1270.0</td>\n",
              "      <td>9</td>\n",
              "      <td>2008</td>\n",
              "      <td>0</td>\n",
              "      <td>1</td>\n",
              "      <td>1900</td>\n",
              "      <td>0</td>\n",
              "      <td>9.48</td>\n",
              "      <td>0</td>\n",
              "      <td>1.28</td>\n",
              "      <td>5140.5</td>\n",
              "      <td>870.627603</td>\n",
              "      <td>6255.2</td>\n",
              "      <td>4651.75</td>\n",
              "      <td>3776.62</td>\n",
              "      <td>8.41</td>\n",
              "      <td>31</td>\n",
              "      <td>7</td>\n",
              "      <td>2015</td>\n",
              "      <td>31</td>\n",
              "      <td>82</td>\n",
              "      <td>1387.50</td>\n",
              "      <td>1.04</td>\n",
              "      <td>0.0</td>\n",
              "      <td>0.99</td>\n",
              "      <td>Jul</td>\n",
              "      <td>0</td>\n",
              "      <td>0</td>\n",
              "      <td>0</td>\n",
              "      <td>0</td>\n",
              "      <td>0</td>\n",
              "      <td>0</td>\n",
              "      <td>0</td>\n",
              "      <td>5.0</td>\n",
              "      <td>0.0</td>\n",
              "      <td>5.0</td>\n",
              "      <td>1.0</td>\n",
              "      <td>0.0</td>\n",
              "      <td>1.0</td>\n",
              "    </tr>\n",
              "    <tr>\n",
              "      <th>740</th>\n",
              "      <td>742</td>\n",
              "      <td>5</td>\n",
              "      <td>2015-07-31</td>\n",
              "      <td>9.255409</td>\n",
              "      <td>1016</td>\n",
              "      <td>1</td>\n",
              "      <td>1</td>\n",
              "      <td>0</td>\n",
              "      <td>1</td>\n",
              "      <td>4</td>\n",
              "      <td>3</td>\n",
              "      <td>4380.0</td>\n",
              "      <td>1</td>\n",
              "      <td>1900</td>\n",
              "      <td>0</td>\n",
              "      <td>1</td>\n",
              "      <td>1900</td>\n",
              "      <td>0</td>\n",
              "      <td>10.30</td>\n",
              "      <td>0</td>\n",
              "      <td>1.34</td>\n",
              "      <td>9165.0</td>\n",
              "      <td>1820.418552</td>\n",
              "      <td>12232.2</td>\n",
              "      <td>8390.75</td>\n",
              "      <td>6997.58</td>\n",
              "      <td>9.07</td>\n",
              "      <td>31</td>\n",
              "      <td>7</td>\n",
              "      <td>2015</td>\n",
              "      <td>31</td>\n",
              "      <td>1386</td>\n",
              "      <td>1387.50</td>\n",
              "      <td>0.96</td>\n",
              "      <td>0.0</td>\n",
              "      <td>0.97</td>\n",
              "      <td>Jul</td>\n",
              "      <td>0</td>\n",
              "      <td>0</td>\n",
              "      <td>0</td>\n",
              "      <td>0</td>\n",
              "      <td>0</td>\n",
              "      <td>0</td>\n",
              "      <td>0</td>\n",
              "      <td>6.0</td>\n",
              "      <td>0.0</td>\n",
              "      <td>5.0</td>\n",
              "      <td>1.0</td>\n",
              "      <td>0.0</td>\n",
              "      <td>1.0</td>\n",
              "    </tr>\n",
              "    <tr>\n",
              "      <th>746</th>\n",
              "      <td>748</td>\n",
              "      <td>5</td>\n",
              "      <td>2015-07-31</td>\n",
              "      <td>8.920255</td>\n",
              "      <td>578</td>\n",
              "      <td>1</td>\n",
              "      <td>1</td>\n",
              "      <td>0</td>\n",
              "      <td>1</td>\n",
              "      <td>4</td>\n",
              "      <td>1</td>\n",
              "      <td>2380.0</td>\n",
              "      <td>3</td>\n",
              "      <td>2010</td>\n",
              "      <td>1</td>\n",
              "      <td>14</td>\n",
              "      <td>2011</td>\n",
              "      <td>1</td>\n",
              "      <td>12.94</td>\n",
              "      <td>0</td>\n",
              "      <td>1.42</td>\n",
              "      <td>6708.0</td>\n",
              "      <td>1398.026317</td>\n",
              "      <td>8958.3</td>\n",
              "      <td>6045.50</td>\n",
              "      <td>4929.15</td>\n",
              "      <td>11.68</td>\n",
              "      <td>31</td>\n",
              "      <td>7</td>\n",
              "      <td>2015</td>\n",
              "      <td>31</td>\n",
              "      <td>64</td>\n",
              "      <td>52.25</td>\n",
              "      <td>0.91</td>\n",
              "      <td>0.0</td>\n",
              "      <td>1.02</td>\n",
              "      <td>Jul</td>\n",
              "      <td>0</td>\n",
              "      <td>0</td>\n",
              "      <td>0</td>\n",
              "      <td>0</td>\n",
              "      <td>0</td>\n",
              "      <td>0</td>\n",
              "      <td>0</td>\n",
              "      <td>6.0</td>\n",
              "      <td>0.0</td>\n",
              "      <td>5.0</td>\n",
              "      <td>1.0</td>\n",
              "      <td>0.0</td>\n",
              "      <td>1.0</td>\n",
              "    </tr>\n",
              "    <tr>\n",
              "      <th>745</th>\n",
              "      <td>747</td>\n",
              "      <td>5</td>\n",
              "      <td>2015-07-31</td>\n",
              "      <td>9.278840</td>\n",
              "      <td>826</td>\n",
              "      <td>1</td>\n",
              "      <td>1</td>\n",
              "      <td>0</td>\n",
              "      <td>1</td>\n",
              "      <td>3</td>\n",
              "      <td>3</td>\n",
              "      <td>45740.0</td>\n",
              "      <td>8</td>\n",
              "      <td>2008</td>\n",
              "      <td>0</td>\n",
              "      <td>1</td>\n",
              "      <td>1900</td>\n",
              "      <td>0</td>\n",
              "      <td>12.96</td>\n",
              "      <td>0</td>\n",
              "      <td>1.42</td>\n",
              "      <td>9342.5</td>\n",
              "      <td>1993.908095</td>\n",
              "      <td>12397.8</td>\n",
              "      <td>8544.25</td>\n",
              "      <td>7025.09</td>\n",
              "      <td>11.38</td>\n",
              "      <td>31</td>\n",
              "      <td>7</td>\n",
              "      <td>2015</td>\n",
              "      <td>31</td>\n",
              "      <td>83</td>\n",
              "      <td>1387.50</td>\n",
              "      <td>0.76</td>\n",
              "      <td>0.0</td>\n",
              "      <td>1.13</td>\n",
              "      <td>Jul</td>\n",
              "      <td>0</td>\n",
              "      <td>0</td>\n",
              "      <td>0</td>\n",
              "      <td>0</td>\n",
              "      <td>0</td>\n",
              "      <td>0</td>\n",
              "      <td>0</td>\n",
              "      <td>6.0</td>\n",
              "      <td>0.0</td>\n",
              "      <td>5.0</td>\n",
              "      <td>1.0</td>\n",
              "      <td>0.0</td>\n",
              "      <td>1.0</td>\n",
              "    </tr>\n",
              "    <tr>\n",
              "      <th>744</th>\n",
              "      <td>746</td>\n",
              "      <td>5</td>\n",
              "      <td>2015-07-31</td>\n",
              "      <td>9.114160</td>\n",
              "      <td>638</td>\n",
              "      <td>1</td>\n",
              "      <td>1</td>\n",
              "      <td>0</td>\n",
              "      <td>1</td>\n",
              "      <td>4</td>\n",
              "      <td>3</td>\n",
              "      <td>4330.0</td>\n",
              "      <td>2</td>\n",
              "      <td>2011</td>\n",
              "      <td>1</td>\n",
              "      <td>35</td>\n",
              "      <td>2011</td>\n",
              "      <td>3</td>\n",
              "      <td>14.24</td>\n",
              "      <td>0</td>\n",
              "      <td>1.45</td>\n",
              "      <td>7419.5</td>\n",
              "      <td>1501.732316</td>\n",
              "      <td>9820.3</td>\n",
              "      <td>6553.25</td>\n",
              "      <td>5294.02</td>\n",
              "      <td>11.72</td>\n",
              "      <td>31</td>\n",
              "      <td>7</td>\n",
              "      <td>2015</td>\n",
              "      <td>31</td>\n",
              "      <td>53</td>\n",
              "      <td>47.00</td>\n",
              "      <td>0.96</td>\n",
              "      <td>0.0</td>\n",
              "      <td>1.00</td>\n",
              "      <td>Jul</td>\n",
              "      <td>0</td>\n",
              "      <td>0</td>\n",
              "      <td>0</td>\n",
              "      <td>0</td>\n",
              "      <td>0</td>\n",
              "      <td>0</td>\n",
              "      <td>0</td>\n",
              "      <td>5.0</td>\n",
              "      <td>0.0</td>\n",
              "      <td>5.0</td>\n",
              "      <td>1.0</td>\n",
              "      <td>0.0</td>\n",
              "      <td>1.0</td>\n",
              "    </tr>\n",
              "  </tbody>\n",
              "</table>\n",
              "</div>"
            ],
            "text/plain": [
              "     Store  DayOfWeek       Date  ...  SchoolHoliday_fw  StateHoliday_fw  Promo_fw\n",
              "0        1          5 2015-07-31  ...               1.0              0.0       1.0\n",
              "740    742          5 2015-07-31  ...               1.0              0.0       1.0\n",
              "746    748          5 2015-07-31  ...               1.0              0.0       1.0\n",
              "745    747          5 2015-07-31  ...               1.0              0.0       1.0\n",
              "744    746          5 2015-07-31  ...               1.0              0.0       1.0\n",
              "\n",
              "[5 rows x 50 columns]"
            ]
          },
          "metadata": {
            "tags": []
          },
          "execution_count": 289
        }
      ]
    },
    {
      "cell_type": "code",
      "metadata": {
        "colab": {
          "base_uri": "https://localhost:8080/"
        },
        "id": "l93FwTefIhbX",
        "outputId": "818850dc-6f98-4fcf-f33a-d21dc957712d"
      },
      "source": [
        "%cd \"/content/drive/MyDrive/dok\"\n",
        "train_new_on.to_csv('cleaned_train.csv', index =False)"
      ],
      "execution_count": 290,
      "outputs": [
        {
          "output_type": "stream",
          "text": [
            "/content/drive/MyDrive/dok\n"
          ],
          "name": "stdout"
        }
      ]
    },
    {
      "cell_type": "code",
      "metadata": {
        "id": "mvVoiNBdIp3k"
      },
      "source": [
        "X=train_new_on.drop(['Sales','Customers','Date','Open','month_str','SalePerCustomer','Open'],axis=1)"
      ],
      "execution_count": 174,
      "outputs": []
    },
    {
      "cell_type": "code",
      "metadata": {
        "colab": {
          "base_uri": "https://localhost:8080/"
        },
        "id": "cQONxwR1ItF3",
        "outputId": "50721b4e-d425-4317-c8ea-d7a832405ea0"
      },
      "source": [
        "X.shape"
      ],
      "execution_count": 175,
      "outputs": [
        {
          "output_type": "execute_result",
          "data": {
            "text/plain": [
              "(589948, 44)"
            ]
          },
          "metadata": {
            "tags": []
          },
          "execution_count": 175
        }
      ]
    },
    {
      "cell_type": "code",
      "metadata": {
        "id": "idjIYqrxgZcP"
      },
      "source": [
        "X.head()"
      ],
      "execution_count": null,
      "outputs": []
    },
    {
      "cell_type": "code",
      "metadata": {
        "id": "O3Nr6K3TJYk9"
      },
      "source": [
        "#X.info()"
      ],
      "execution_count": null,
      "outputs": []
    },
    {
      "cell_type": "code",
      "metadata": {
        "colab": {
          "base_uri": "https://localhost:8080/"
        },
        "id": "jhrUkmYZI0EW",
        "outputId": "71f811e0-05e4-4402-e347-ce59c33a4fe8"
      },
      "source": [
        "y=train_new_on.Sales\n",
        "y"
      ],
      "execution_count": 272,
      "outputs": [
        {
          "output_type": "execute_result",
          "data": {
            "text/plain": [
              "0         8.568646\n",
              "740       9.255409\n",
              "746       8.920255\n",
              "745       9.278840\n",
              "744       9.114160\n",
              "            ...   \n",
              "589715    8.356790\n",
              "589714    8.830543\n",
              "589713    8.760923\n",
              "589712    8.382747\n",
              "589947    8.723231\n",
              "Name: Sales, Length: 589948, dtype: float64"
            ]
          },
          "metadata": {
            "tags": []
          },
          "execution_count": 272
        }
      ]
    },
    {
      "cell_type": "code",
      "metadata": {
        "id": "VHxHTlBLJgNH"
      },
      "source": [
        "re_test_in=full_test.sort_values(by='index1',ascending=True)"
      ],
      "execution_count": 257,
      "outputs": []
    },
    {
      "cell_type": "code",
      "metadata": {
        "colab": {
          "base_uri": "https://localhost:8080/",
          "height": 309
        },
        "id": "BS5CetFOJrnL",
        "outputId": "19f19c12-24c4-42e9-951d-6a358d777b65"
      },
      "source": [
        "re_test_in.head()"
      ],
      "execution_count": 258,
      "outputs": [
        {
          "output_type": "execute_result",
          "data": {
            "text/html": [
              "<div>\n",
              "<style scoped>\n",
              "    .dataframe tbody tr th:only-of-type {\n",
              "        vertical-align: middle;\n",
              "    }\n",
              "\n",
              "    .dataframe tbody tr th {\n",
              "        vertical-align: top;\n",
              "    }\n",
              "\n",
              "    .dataframe thead th {\n",
              "        text-align: right;\n",
              "    }\n",
              "</style>\n",
              "<table border=\"1\" class=\"dataframe\">\n",
              "  <thead>\n",
              "    <tr style=\"text-align: right;\">\n",
              "      <th></th>\n",
              "      <th>Store</th>\n",
              "      <th>DayOfWeek</th>\n",
              "      <th>Date</th>\n",
              "      <th>Open</th>\n",
              "      <th>Promo</th>\n",
              "      <th>StateHoliday</th>\n",
              "      <th>SchoolHoliday</th>\n",
              "      <th>index1</th>\n",
              "      <th>StoreType</th>\n",
              "      <th>Assortment</th>\n",
              "      <th>CompetitionDistance</th>\n",
              "      <th>CompetitionOpenSinceMonth</th>\n",
              "      <th>CompetitionOpenSinceYear</th>\n",
              "      <th>Promo2</th>\n",
              "      <th>Promo2SinceWeek</th>\n",
              "      <th>Promo2SinceYear</th>\n",
              "      <th>PromoInterval</th>\n",
              "      <th>weekend</th>\n",
              "      <th>promo_ratio</th>\n",
              "      <th>S_median</th>\n",
              "      <th>S_std</th>\n",
              "      <th>S_90</th>\n",
              "      <th>S_25</th>\n",
              "      <th>S_01</th>\n",
              "      <th>SC_per_med</th>\n",
              "      <th>day</th>\n",
              "      <th>month</th>\n",
              "      <th>year</th>\n",
              "      <th>WeekOfYear</th>\n",
              "      <th>CompetitionOpen</th>\n",
              "      <th>PromoOpen</th>\n",
              "      <th>sat_ratio</th>\n",
              "      <th>hol_ratio</th>\n",
              "      <th>sc_h_ratio</th>\n",
              "      <th>month_str</th>\n",
              "      <th>IsPromoMonth</th>\n",
              "      <th>AfterSchoolHoliday</th>\n",
              "      <th>BeforeSchoolHoliday</th>\n",
              "      <th>AfterStateHoliday</th>\n",
              "      <th>BeforeStateHoliday</th>\n",
              "      <th>AfterPromo</th>\n",
              "      <th>BeforePromo</th>\n",
              "      <th>SchoolHoliday_bw</th>\n",
              "      <th>StateHoliday_bw</th>\n",
              "      <th>Promo_bw</th>\n",
              "      <th>SchoolHoliday_fw</th>\n",
              "      <th>StateHoliday_fw</th>\n",
              "      <th>Promo_fw</th>\n",
              "    </tr>\n",
              "  </thead>\n",
              "  <tbody>\n",
              "    <tr>\n",
              "      <th>0</th>\n",
              "      <td>1111</td>\n",
              "      <td>6</td>\n",
              "      <td>2013-03-16</td>\n",
              "      <td>1</td>\n",
              "      <td>0</td>\n",
              "      <td>0</td>\n",
              "      <td>0</td>\n",
              "      <td>1</td>\n",
              "      <td>1</td>\n",
              "      <td>1</td>\n",
              "      <td>1900.0</td>\n",
              "      <td>6</td>\n",
              "      <td>2014</td>\n",
              "      <td>1</td>\n",
              "      <td>31</td>\n",
              "      <td>2013</td>\n",
              "      <td>1</td>\n",
              "      <td>1</td>\n",
              "      <td>1.51</td>\n",
              "      <td>3236.0</td>\n",
              "      <td>690.695950</td>\n",
              "      <td>4013.9</td>\n",
              "      <td>2732.0</td>\n",
              "      <td>2125.47</td>\n",
              "      <td>11.76</td>\n",
              "      <td>16</td>\n",
              "      <td>3</td>\n",
              "      <td>2013</td>\n",
              "      <td>11</td>\n",
              "      <td>0</td>\n",
              "      <td>0.00</td>\n",
              "      <td>0.60</td>\n",
              "      <td>0.0</td>\n",
              "      <td>0.97</td>\n",
              "      <td>Mar</td>\n",
              "      <td>0</td>\n",
              "      <td>71</td>\n",
              "      <td>-9</td>\n",
              "      <td>0</td>\n",
              "      <td>0</td>\n",
              "      <td>8</td>\n",
              "      <td>-2</td>\n",
              "      <td>0.0</td>\n",
              "      <td>0.0</td>\n",
              "      <td>0.0</td>\n",
              "      <td>0.0</td>\n",
              "      <td>0.0</td>\n",
              "      <td>5.0</td>\n",
              "    </tr>\n",
              "    <tr>\n",
              "      <th>1</th>\n",
              "      <td>45</td>\n",
              "      <td>4</td>\n",
              "      <td>2013-08-01</td>\n",
              "      <td>1</td>\n",
              "      <td>1</td>\n",
              "      <td>0</td>\n",
              "      <td>1</td>\n",
              "      <td>2</td>\n",
              "      <td>4</td>\n",
              "      <td>1</td>\n",
              "      <td>9710.0</td>\n",
              "      <td>2</td>\n",
              "      <td>2014</td>\n",
              "      <td>0</td>\n",
              "      <td>1</td>\n",
              "      <td>1900</td>\n",
              "      <td>0</td>\n",
              "      <td>0</td>\n",
              "      <td>1.32</td>\n",
              "      <td>5882.5</td>\n",
              "      <td>1076.829184</td>\n",
              "      <td>7731.5</td>\n",
              "      <td>5368.5</td>\n",
              "      <td>4366.93</td>\n",
              "      <td>12.74</td>\n",
              "      <td>1</td>\n",
              "      <td>8</td>\n",
              "      <td>2013</td>\n",
              "      <td>31</td>\n",
              "      <td>0</td>\n",
              "      <td>1363.50</td>\n",
              "      <td>1.07</td>\n",
              "      <td>0.0</td>\n",
              "      <td>0.97</td>\n",
              "      <td>Aug</td>\n",
              "      <td>0</td>\n",
              "      <td>0</td>\n",
              "      <td>0</td>\n",
              "      <td>0</td>\n",
              "      <td>0</td>\n",
              "      <td>0</td>\n",
              "      <td>0</td>\n",
              "      <td>6.0</td>\n",
              "      <td>0.0</td>\n",
              "      <td>4.0</td>\n",
              "      <td>6.0</td>\n",
              "      <td>0.0</td>\n",
              "      <td>2.0</td>\n",
              "    </tr>\n",
              "    <tr>\n",
              "      <th>2</th>\n",
              "      <td>500</td>\n",
              "      <td>4</td>\n",
              "      <td>2013-05-23</td>\n",
              "      <td>1</td>\n",
              "      <td>0</td>\n",
              "      <td>0</td>\n",
              "      <td>1</td>\n",
              "      <td>3</td>\n",
              "      <td>4</td>\n",
              "      <td>3</td>\n",
              "      <td>10690.0</td>\n",
              "      <td>9</td>\n",
              "      <td>2007</td>\n",
              "      <td>1</td>\n",
              "      <td>5</td>\n",
              "      <td>2013</td>\n",
              "      <td>1</td>\n",
              "      <td>0</td>\n",
              "      <td>1.09</td>\n",
              "      <td>5023.0</td>\n",
              "      <td>818.362377</td>\n",
              "      <td>5969.2</td>\n",
              "      <td>4579.0</td>\n",
              "      <td>3658.88</td>\n",
              "      <td>13.75</td>\n",
              "      <td>23</td>\n",
              "      <td>5</td>\n",
              "      <td>2013</td>\n",
              "      <td>21</td>\n",
              "      <td>68</td>\n",
              "      <td>4.00</td>\n",
              "      <td>1.18</td>\n",
              "      <td>0.0</td>\n",
              "      <td>0.94</td>\n",
              "      <td>May</td>\n",
              "      <td>0</td>\n",
              "      <td>0</td>\n",
              "      <td>0</td>\n",
              "      <td>0</td>\n",
              "      <td>0</td>\n",
              "      <td>6</td>\n",
              "      <td>-4</td>\n",
              "      <td>3.0</td>\n",
              "      <td>0.0</td>\n",
              "      <td>3.0</td>\n",
              "      <td>6.0</td>\n",
              "      <td>0.0</td>\n",
              "      <td>4.0</td>\n",
              "    </tr>\n",
              "    <tr>\n",
              "      <th>3</th>\n",
              "      <td>82</td>\n",
              "      <td>2</td>\n",
              "      <td>2013-08-06</td>\n",
              "      <td>1</td>\n",
              "      <td>0</td>\n",
              "      <td>0</td>\n",
              "      <td>1</td>\n",
              "      <td>4</td>\n",
              "      <td>1</td>\n",
              "      <td>1</td>\n",
              "      <td>22390.0</td>\n",
              "      <td>4</td>\n",
              "      <td>2008</td>\n",
              "      <td>1</td>\n",
              "      <td>37</td>\n",
              "      <td>2009</td>\n",
              "      <td>1</td>\n",
              "      <td>0</td>\n",
              "      <td>1.56</td>\n",
              "      <td>7582.5</td>\n",
              "      <td>1553.982811</td>\n",
              "      <td>9307.0</td>\n",
              "      <td>6942.0</td>\n",
              "      <td>5092.39</td>\n",
              "      <td>10.62</td>\n",
              "      <td>6</td>\n",
              "      <td>8</td>\n",
              "      <td>2013</td>\n",
              "      <td>32</td>\n",
              "      <td>64</td>\n",
              "      <td>46.75</td>\n",
              "      <td>0.58</td>\n",
              "      <td>0.0</td>\n",
              "      <td>1.08</td>\n",
              "      <td>Aug</td>\n",
              "      <td>0</td>\n",
              "      <td>0</td>\n",
              "      <td>0</td>\n",
              "      <td>0</td>\n",
              "      <td>0</td>\n",
              "      <td>4</td>\n",
              "      <td>-6</td>\n",
              "      <td>6.0</td>\n",
              "      <td>0.0</td>\n",
              "      <td>4.0</td>\n",
              "      <td>6.0</td>\n",
              "      <td>0.0</td>\n",
              "      <td>2.0</td>\n",
              "    </tr>\n",
              "    <tr>\n",
              "      <th>4</th>\n",
              "      <td>1022</td>\n",
              "      <td>5</td>\n",
              "      <td>2013-03-22</td>\n",
              "      <td>1</td>\n",
              "      <td>1</td>\n",
              "      <td>0</td>\n",
              "      <td>0</td>\n",
              "      <td>6</td>\n",
              "      <td>1</td>\n",
              "      <td>3</td>\n",
              "      <td>1520.0</td>\n",
              "      <td>1</td>\n",
              "      <td>1900</td>\n",
              "      <td>0</td>\n",
              "      <td>1</td>\n",
              "      <td>1900</td>\n",
              "      <td>0</td>\n",
              "      <td>0</td>\n",
              "      <td>1.43</td>\n",
              "      <td>8638.5</td>\n",
              "      <td>1991.756915</td>\n",
              "      <td>12162.6</td>\n",
              "      <td>7646.0</td>\n",
              "      <td>6522.22</td>\n",
              "      <td>8.77</td>\n",
              "      <td>22</td>\n",
              "      <td>3</td>\n",
              "      <td>2013</td>\n",
              "      <td>12</td>\n",
              "      <td>1358</td>\n",
              "      <td>1358.75</td>\n",
              "      <td>0.89</td>\n",
              "      <td>0.0</td>\n",
              "      <td>1.01</td>\n",
              "      <td>Mar</td>\n",
              "      <td>0</td>\n",
              "      <td>77</td>\n",
              "      <td>-3</td>\n",
              "      <td>0</td>\n",
              "      <td>0</td>\n",
              "      <td>0</td>\n",
              "      <td>0</td>\n",
              "      <td>0.0</td>\n",
              "      <td>0.0</td>\n",
              "      <td>5.0</td>\n",
              "      <td>4.0</td>\n",
              "      <td>0.0</td>\n",
              "      <td>5.0</td>\n",
              "    </tr>\n",
              "  </tbody>\n",
              "</table>\n",
              "</div>"
            ],
            "text/plain": [
              "   Store  DayOfWeek       Date  ...  SchoolHoliday_fw  StateHoliday_fw  Promo_fw\n",
              "0   1111          6 2013-03-16  ...               0.0              0.0       5.0\n",
              "1     45          4 2013-08-01  ...               6.0              0.0       2.0\n",
              "2    500          4 2013-05-23  ...               6.0              0.0       4.0\n",
              "3     82          2 2013-08-06  ...               6.0              0.0       2.0\n",
              "4   1022          5 2013-03-22  ...               4.0              0.0       5.0\n",
              "\n",
              "[5 rows x 48 columns]"
            ]
          },
          "metadata": {
            "tags": []
          },
          "execution_count": 258
        }
      ]
    },
    {
      "cell_type": "code",
      "metadata": {
        "id": "eOOlEJso6Okv",
        "outputId": "c797bb16-ab73-4f78-b713-c7cc5d58aa23",
        "colab": {
          "base_uri": "https://localhost:8080/"
        }
      },
      "source": [
        "%cd \"/content/drive/MyDrive/dok\"\n",
        "re_test_in.to_csv('cleaned_test.csv', index =False)"
      ],
      "execution_count": 291,
      "outputs": [
        {
          "output_type": "stream",
          "text": [
            "/content/drive/MyDrive/dok\n"
          ],
          "name": "stdout"
        }
      ]
    },
    {
      "cell_type": "code",
      "metadata": {
        "id": "iNAFc_mHJ8mM",
        "colab": {
          "base_uri": "https://localhost:8080/"
        },
        "outputId": "84e83f4a-a8fa-43be-f491-47e01c11b6ac"
      },
      "source": [
        "re_test_in.info()"
      ],
      "execution_count": 259,
      "outputs": [
        {
          "output_type": "stream",
          "text": [
            "<class 'pandas.core.frame.DataFrame'>\n",
            "Int64Index: 254409 entries, 0 to 254408\n",
            "Data columns (total 48 columns):\n",
            " #   Column                     Non-Null Count   Dtype         \n",
            "---  ------                     --------------   -----         \n",
            " 0   Store                      254409 non-null  int64         \n",
            " 1   DayOfWeek                  254409 non-null  int64         \n",
            " 2   Date                       254409 non-null  datetime64[ns]\n",
            " 3   Open                       254409 non-null  int64         \n",
            " 4   Promo                      254409 non-null  int64         \n",
            " 5   StateHoliday               254409 non-null  int64         \n",
            " 6   SchoolHoliday              254409 non-null  int64         \n",
            " 7   index1                     254409 non-null  int64         \n",
            " 8   StoreType                  254409 non-null  int64         \n",
            " 9   Assortment                 254409 non-null  int64         \n",
            " 10  CompetitionDistance        254409 non-null  float64       \n",
            " 11  CompetitionOpenSinceMonth  254409 non-null  int32         \n",
            " 12  CompetitionOpenSinceYear   254409 non-null  int32         \n",
            " 13  Promo2                     254409 non-null  int64         \n",
            " 14  Promo2SinceWeek            254409 non-null  int32         \n",
            " 15  Promo2SinceYear            254409 non-null  int32         \n",
            " 16  PromoInterval              254409 non-null  int64         \n",
            " 17  weekend                    254409 non-null  int64         \n",
            " 18  promo_ratio                254409 non-null  float64       \n",
            " 19  S_median                   254409 non-null  float64       \n",
            " 20  S_std                      254409 non-null  float64       \n",
            " 21  S_90                       254409 non-null  float64       \n",
            " 22  S_25                       254409 non-null  float64       \n",
            " 23  S_01                       254409 non-null  float64       \n",
            " 24  SC_per_med                 254409 non-null  float64       \n",
            " 25  day                        254409 non-null  int64         \n",
            " 26  month                      254409 non-null  int64         \n",
            " 27  year                       254409 non-null  int64         \n",
            " 28  WeekOfYear                 254409 non-null  int64         \n",
            " 29  CompetitionOpen            254409 non-null  int64         \n",
            " 30  PromoOpen                  254409 non-null  float64       \n",
            " 31  sat_ratio                  254409 non-null  float64       \n",
            " 32  hol_ratio                  254409 non-null  float64       \n",
            " 33  sc_h_ratio                 254409 non-null  float64       \n",
            " 34  month_str                  254409 non-null  object        \n",
            " 35  IsPromoMonth               254409 non-null  int64         \n",
            " 36  AfterSchoolHoliday         254409 non-null  int64         \n",
            " 37  BeforeSchoolHoliday        254409 non-null  int64         \n",
            " 38  AfterStateHoliday          254409 non-null  int64         \n",
            " 39  BeforeStateHoliday         254409 non-null  int64         \n",
            " 40  AfterPromo                 254409 non-null  int64         \n",
            " 41  BeforePromo                254409 non-null  int64         \n",
            " 42  SchoolHoliday_bw           254409 non-null  float64       \n",
            " 43  StateHoliday_bw            254409 non-null  float64       \n",
            " 44  Promo_bw                   254409 non-null  float64       \n",
            " 45  SchoolHoliday_fw           254409 non-null  float64       \n",
            " 46  StateHoliday_fw            254409 non-null  float64       \n",
            " 47  Promo_fw                   254409 non-null  float64       \n",
            "dtypes: datetime64[ns](1), float64(18), int32(4), int64(24), object(1)\n",
            "memory usage: 91.2+ MB\n"
          ],
          "name": "stdout"
        }
      ]
    },
    {
      "cell_type": "code",
      "metadata": {
        "id": "_h624MmXJtVY"
      },
      "source": [
        "full_test_no=re_test_in.drop(['index1','Date','month_str','Open'],axis=1)"
      ],
      "execution_count": 260,
      "outputs": []
    },
    {
      "cell_type": "code",
      "metadata": {
        "colab": {
          "base_uri": "https://localhost:8080/",
          "height": 224
        },
        "id": "xvq-XhEhKFsn",
        "outputId": "3a74396c-a615-44f6-e48c-2ad67e06832b"
      },
      "source": [
        "full_test_no.head()"
      ],
      "execution_count": 261,
      "outputs": [
        {
          "output_type": "execute_result",
          "data": {
            "text/html": [
              "<div>\n",
              "<style scoped>\n",
              "    .dataframe tbody tr th:only-of-type {\n",
              "        vertical-align: middle;\n",
              "    }\n",
              "\n",
              "    .dataframe tbody tr th {\n",
              "        vertical-align: top;\n",
              "    }\n",
              "\n",
              "    .dataframe thead th {\n",
              "        text-align: right;\n",
              "    }\n",
              "</style>\n",
              "<table border=\"1\" class=\"dataframe\">\n",
              "  <thead>\n",
              "    <tr style=\"text-align: right;\">\n",
              "      <th></th>\n",
              "      <th>Store</th>\n",
              "      <th>DayOfWeek</th>\n",
              "      <th>Promo</th>\n",
              "      <th>StateHoliday</th>\n",
              "      <th>SchoolHoliday</th>\n",
              "      <th>StoreType</th>\n",
              "      <th>Assortment</th>\n",
              "      <th>CompetitionDistance</th>\n",
              "      <th>CompetitionOpenSinceMonth</th>\n",
              "      <th>CompetitionOpenSinceYear</th>\n",
              "      <th>Promo2</th>\n",
              "      <th>Promo2SinceWeek</th>\n",
              "      <th>Promo2SinceYear</th>\n",
              "      <th>PromoInterval</th>\n",
              "      <th>weekend</th>\n",
              "      <th>promo_ratio</th>\n",
              "      <th>S_median</th>\n",
              "      <th>S_std</th>\n",
              "      <th>S_90</th>\n",
              "      <th>S_25</th>\n",
              "      <th>S_01</th>\n",
              "      <th>SC_per_med</th>\n",
              "      <th>day</th>\n",
              "      <th>month</th>\n",
              "      <th>year</th>\n",
              "      <th>WeekOfYear</th>\n",
              "      <th>CompetitionOpen</th>\n",
              "      <th>PromoOpen</th>\n",
              "      <th>sat_ratio</th>\n",
              "      <th>hol_ratio</th>\n",
              "      <th>sc_h_ratio</th>\n",
              "      <th>IsPromoMonth</th>\n",
              "      <th>AfterSchoolHoliday</th>\n",
              "      <th>BeforeSchoolHoliday</th>\n",
              "      <th>AfterStateHoliday</th>\n",
              "      <th>BeforeStateHoliday</th>\n",
              "      <th>AfterPromo</th>\n",
              "      <th>BeforePromo</th>\n",
              "      <th>SchoolHoliday_bw</th>\n",
              "      <th>StateHoliday_bw</th>\n",
              "      <th>Promo_bw</th>\n",
              "      <th>SchoolHoliday_fw</th>\n",
              "      <th>StateHoliday_fw</th>\n",
              "      <th>Promo_fw</th>\n",
              "    </tr>\n",
              "  </thead>\n",
              "  <tbody>\n",
              "    <tr>\n",
              "      <th>0</th>\n",
              "      <td>1111</td>\n",
              "      <td>6</td>\n",
              "      <td>0</td>\n",
              "      <td>0</td>\n",
              "      <td>0</td>\n",
              "      <td>1</td>\n",
              "      <td>1</td>\n",
              "      <td>1900.0</td>\n",
              "      <td>6</td>\n",
              "      <td>2014</td>\n",
              "      <td>1</td>\n",
              "      <td>31</td>\n",
              "      <td>2013</td>\n",
              "      <td>1</td>\n",
              "      <td>1</td>\n",
              "      <td>1.51</td>\n",
              "      <td>3236.0</td>\n",
              "      <td>690.695950</td>\n",
              "      <td>4013.9</td>\n",
              "      <td>2732.0</td>\n",
              "      <td>2125.47</td>\n",
              "      <td>11.76</td>\n",
              "      <td>16</td>\n",
              "      <td>3</td>\n",
              "      <td>2013</td>\n",
              "      <td>11</td>\n",
              "      <td>0</td>\n",
              "      <td>0.00</td>\n",
              "      <td>0.60</td>\n",
              "      <td>0.0</td>\n",
              "      <td>0.97</td>\n",
              "      <td>0</td>\n",
              "      <td>71</td>\n",
              "      <td>-9</td>\n",
              "      <td>0</td>\n",
              "      <td>0</td>\n",
              "      <td>8</td>\n",
              "      <td>-2</td>\n",
              "      <td>0.0</td>\n",
              "      <td>0.0</td>\n",
              "      <td>0.0</td>\n",
              "      <td>0.0</td>\n",
              "      <td>0.0</td>\n",
              "      <td>5.0</td>\n",
              "    </tr>\n",
              "    <tr>\n",
              "      <th>1</th>\n",
              "      <td>45</td>\n",
              "      <td>4</td>\n",
              "      <td>1</td>\n",
              "      <td>0</td>\n",
              "      <td>1</td>\n",
              "      <td>4</td>\n",
              "      <td>1</td>\n",
              "      <td>9710.0</td>\n",
              "      <td>2</td>\n",
              "      <td>2014</td>\n",
              "      <td>0</td>\n",
              "      <td>1</td>\n",
              "      <td>1900</td>\n",
              "      <td>0</td>\n",
              "      <td>0</td>\n",
              "      <td>1.32</td>\n",
              "      <td>5882.5</td>\n",
              "      <td>1076.829184</td>\n",
              "      <td>7731.5</td>\n",
              "      <td>5368.5</td>\n",
              "      <td>4366.93</td>\n",
              "      <td>12.74</td>\n",
              "      <td>1</td>\n",
              "      <td>8</td>\n",
              "      <td>2013</td>\n",
              "      <td>31</td>\n",
              "      <td>0</td>\n",
              "      <td>1363.50</td>\n",
              "      <td>1.07</td>\n",
              "      <td>0.0</td>\n",
              "      <td>0.97</td>\n",
              "      <td>0</td>\n",
              "      <td>0</td>\n",
              "      <td>0</td>\n",
              "      <td>0</td>\n",
              "      <td>0</td>\n",
              "      <td>0</td>\n",
              "      <td>0</td>\n",
              "      <td>6.0</td>\n",
              "      <td>0.0</td>\n",
              "      <td>4.0</td>\n",
              "      <td>6.0</td>\n",
              "      <td>0.0</td>\n",
              "      <td>2.0</td>\n",
              "    </tr>\n",
              "    <tr>\n",
              "      <th>2</th>\n",
              "      <td>500</td>\n",
              "      <td>4</td>\n",
              "      <td>0</td>\n",
              "      <td>0</td>\n",
              "      <td>1</td>\n",
              "      <td>4</td>\n",
              "      <td>3</td>\n",
              "      <td>10690.0</td>\n",
              "      <td>9</td>\n",
              "      <td>2007</td>\n",
              "      <td>1</td>\n",
              "      <td>5</td>\n",
              "      <td>2013</td>\n",
              "      <td>1</td>\n",
              "      <td>0</td>\n",
              "      <td>1.09</td>\n",
              "      <td>5023.0</td>\n",
              "      <td>818.362377</td>\n",
              "      <td>5969.2</td>\n",
              "      <td>4579.0</td>\n",
              "      <td>3658.88</td>\n",
              "      <td>13.75</td>\n",
              "      <td>23</td>\n",
              "      <td>5</td>\n",
              "      <td>2013</td>\n",
              "      <td>21</td>\n",
              "      <td>68</td>\n",
              "      <td>4.00</td>\n",
              "      <td>1.18</td>\n",
              "      <td>0.0</td>\n",
              "      <td>0.94</td>\n",
              "      <td>0</td>\n",
              "      <td>0</td>\n",
              "      <td>0</td>\n",
              "      <td>0</td>\n",
              "      <td>0</td>\n",
              "      <td>6</td>\n",
              "      <td>-4</td>\n",
              "      <td>3.0</td>\n",
              "      <td>0.0</td>\n",
              "      <td>3.0</td>\n",
              "      <td>6.0</td>\n",
              "      <td>0.0</td>\n",
              "      <td>4.0</td>\n",
              "    </tr>\n",
              "    <tr>\n",
              "      <th>3</th>\n",
              "      <td>82</td>\n",
              "      <td>2</td>\n",
              "      <td>0</td>\n",
              "      <td>0</td>\n",
              "      <td>1</td>\n",
              "      <td>1</td>\n",
              "      <td>1</td>\n",
              "      <td>22390.0</td>\n",
              "      <td>4</td>\n",
              "      <td>2008</td>\n",
              "      <td>1</td>\n",
              "      <td>37</td>\n",
              "      <td>2009</td>\n",
              "      <td>1</td>\n",
              "      <td>0</td>\n",
              "      <td>1.56</td>\n",
              "      <td>7582.5</td>\n",
              "      <td>1553.982811</td>\n",
              "      <td>9307.0</td>\n",
              "      <td>6942.0</td>\n",
              "      <td>5092.39</td>\n",
              "      <td>10.62</td>\n",
              "      <td>6</td>\n",
              "      <td>8</td>\n",
              "      <td>2013</td>\n",
              "      <td>32</td>\n",
              "      <td>64</td>\n",
              "      <td>46.75</td>\n",
              "      <td>0.58</td>\n",
              "      <td>0.0</td>\n",
              "      <td>1.08</td>\n",
              "      <td>0</td>\n",
              "      <td>0</td>\n",
              "      <td>0</td>\n",
              "      <td>0</td>\n",
              "      <td>0</td>\n",
              "      <td>4</td>\n",
              "      <td>-6</td>\n",
              "      <td>6.0</td>\n",
              "      <td>0.0</td>\n",
              "      <td>4.0</td>\n",
              "      <td>6.0</td>\n",
              "      <td>0.0</td>\n",
              "      <td>2.0</td>\n",
              "    </tr>\n",
              "    <tr>\n",
              "      <th>4</th>\n",
              "      <td>1022</td>\n",
              "      <td>5</td>\n",
              "      <td>1</td>\n",
              "      <td>0</td>\n",
              "      <td>0</td>\n",
              "      <td>1</td>\n",
              "      <td>3</td>\n",
              "      <td>1520.0</td>\n",
              "      <td>1</td>\n",
              "      <td>1900</td>\n",
              "      <td>0</td>\n",
              "      <td>1</td>\n",
              "      <td>1900</td>\n",
              "      <td>0</td>\n",
              "      <td>0</td>\n",
              "      <td>1.43</td>\n",
              "      <td>8638.5</td>\n",
              "      <td>1991.756915</td>\n",
              "      <td>12162.6</td>\n",
              "      <td>7646.0</td>\n",
              "      <td>6522.22</td>\n",
              "      <td>8.77</td>\n",
              "      <td>22</td>\n",
              "      <td>3</td>\n",
              "      <td>2013</td>\n",
              "      <td>12</td>\n",
              "      <td>1358</td>\n",
              "      <td>1358.75</td>\n",
              "      <td>0.89</td>\n",
              "      <td>0.0</td>\n",
              "      <td>1.01</td>\n",
              "      <td>0</td>\n",
              "      <td>77</td>\n",
              "      <td>-3</td>\n",
              "      <td>0</td>\n",
              "      <td>0</td>\n",
              "      <td>0</td>\n",
              "      <td>0</td>\n",
              "      <td>0.0</td>\n",
              "      <td>0.0</td>\n",
              "      <td>5.0</td>\n",
              "      <td>4.0</td>\n",
              "      <td>0.0</td>\n",
              "      <td>5.0</td>\n",
              "    </tr>\n",
              "  </tbody>\n",
              "</table>\n",
              "</div>"
            ],
            "text/plain": [
              "   Store  DayOfWeek  Promo  ...  SchoolHoliday_fw  StateHoliday_fw  Promo_fw\n",
              "0   1111          6      0  ...               0.0              0.0       5.0\n",
              "1     45          4      1  ...               6.0              0.0       2.0\n",
              "2    500          4      0  ...               6.0              0.0       4.0\n",
              "3     82          2      0  ...               6.0              0.0       2.0\n",
              "4   1022          5      1  ...               4.0              0.0       5.0\n",
              "\n",
              "[5 rows x 44 columns]"
            ]
          },
          "metadata": {
            "tags": []
          },
          "execution_count": 261
        }
      ]
    },
    {
      "cell_type": "code",
      "metadata": {
        "colab": {
          "base_uri": "https://localhost:8080/",
          "height": 224
        },
        "id": "DSMLGyCgi1C1",
        "outputId": "ae48e418-0d86-4eee-b328-4467c8403c67"
      },
      "source": [
        "X.head()"
      ],
      "execution_count": 208,
      "outputs": [
        {
          "output_type": "execute_result",
          "data": {
            "text/html": [
              "<div>\n",
              "<style scoped>\n",
              "    .dataframe tbody tr th:only-of-type {\n",
              "        vertical-align: middle;\n",
              "    }\n",
              "\n",
              "    .dataframe tbody tr th {\n",
              "        vertical-align: top;\n",
              "    }\n",
              "\n",
              "    .dataframe thead th {\n",
              "        text-align: right;\n",
              "    }\n",
              "</style>\n",
              "<table border=\"1\" class=\"dataframe\">\n",
              "  <thead>\n",
              "    <tr style=\"text-align: right;\">\n",
              "      <th></th>\n",
              "      <th>Store</th>\n",
              "      <th>DayOfWeek</th>\n",
              "      <th>Promo</th>\n",
              "      <th>StateHoliday</th>\n",
              "      <th>SchoolHoliday</th>\n",
              "      <th>StoreType</th>\n",
              "      <th>Assortment</th>\n",
              "      <th>CompetitionDistance</th>\n",
              "      <th>CompetitionOpenSinceMonth</th>\n",
              "      <th>CompetitionOpenSinceYear</th>\n",
              "      <th>Promo2</th>\n",
              "      <th>Promo2SinceWeek</th>\n",
              "      <th>Promo2SinceYear</th>\n",
              "      <th>PromoInterval</th>\n",
              "      <th>weekend</th>\n",
              "      <th>promo_ratio</th>\n",
              "      <th>S_median</th>\n",
              "      <th>S_std</th>\n",
              "      <th>S_90</th>\n",
              "      <th>S_25</th>\n",
              "      <th>S_01</th>\n",
              "      <th>SC_per_med</th>\n",
              "      <th>day</th>\n",
              "      <th>month</th>\n",
              "      <th>year</th>\n",
              "      <th>WeekOfYear</th>\n",
              "      <th>CompetitionOpen</th>\n",
              "      <th>PromoOpen</th>\n",
              "      <th>sat_ratio</th>\n",
              "      <th>hol_ratio</th>\n",
              "      <th>sc_h_ratio</th>\n",
              "      <th>IsPromoMonth</th>\n",
              "      <th>AfterSchoolHoliday</th>\n",
              "      <th>BeforeSchoolHoliday</th>\n",
              "      <th>AfterStateHoliday</th>\n",
              "      <th>BeforeStateHoliday</th>\n",
              "      <th>AfterPromo</th>\n",
              "      <th>BeforePromo</th>\n",
              "      <th>SchoolHoliday_bw</th>\n",
              "      <th>StateHoliday_bw</th>\n",
              "      <th>Promo_bw</th>\n",
              "      <th>SchoolHoliday_fw</th>\n",
              "      <th>StateHoliday_fw</th>\n",
              "      <th>Promo_fw</th>\n",
              "    </tr>\n",
              "  </thead>\n",
              "  <tbody>\n",
              "    <tr>\n",
              "      <th>0</th>\n",
              "      <td>1</td>\n",
              "      <td>5</td>\n",
              "      <td>1</td>\n",
              "      <td>0</td>\n",
              "      <td>1</td>\n",
              "      <td>3</td>\n",
              "      <td>1</td>\n",
              "      <td>1270.0</td>\n",
              "      <td>9</td>\n",
              "      <td>2008</td>\n",
              "      <td>0</td>\n",
              "      <td>1</td>\n",
              "      <td>1900</td>\n",
              "      <td>0</td>\n",
              "      <td>0</td>\n",
              "      <td>1.28</td>\n",
              "      <td>5140.5</td>\n",
              "      <td>870.627603</td>\n",
              "      <td>6255.2</td>\n",
              "      <td>4651.75</td>\n",
              "      <td>3776.62</td>\n",
              "      <td>8.41</td>\n",
              "      <td>31</td>\n",
              "      <td>7</td>\n",
              "      <td>2015</td>\n",
              "      <td>31</td>\n",
              "      <td>82</td>\n",
              "      <td>1387.50</td>\n",
              "      <td>1.04</td>\n",
              "      <td>0.0</td>\n",
              "      <td>0.99</td>\n",
              "      <td>0</td>\n",
              "      <td>0</td>\n",
              "      <td>0</td>\n",
              "      <td>0</td>\n",
              "      <td>0</td>\n",
              "      <td>0</td>\n",
              "      <td>0</td>\n",
              "      <td>5.0</td>\n",
              "      <td>0.0</td>\n",
              "      <td>5.0</td>\n",
              "      <td>1.0</td>\n",
              "      <td>0.0</td>\n",
              "      <td>1.0</td>\n",
              "    </tr>\n",
              "    <tr>\n",
              "      <th>740</th>\n",
              "      <td>742</td>\n",
              "      <td>5</td>\n",
              "      <td>1</td>\n",
              "      <td>0</td>\n",
              "      <td>1</td>\n",
              "      <td>4</td>\n",
              "      <td>3</td>\n",
              "      <td>4380.0</td>\n",
              "      <td>1</td>\n",
              "      <td>1900</td>\n",
              "      <td>0</td>\n",
              "      <td>1</td>\n",
              "      <td>1900</td>\n",
              "      <td>0</td>\n",
              "      <td>0</td>\n",
              "      <td>1.34</td>\n",
              "      <td>9165.0</td>\n",
              "      <td>1820.418552</td>\n",
              "      <td>12232.2</td>\n",
              "      <td>8390.75</td>\n",
              "      <td>6997.58</td>\n",
              "      <td>9.07</td>\n",
              "      <td>31</td>\n",
              "      <td>7</td>\n",
              "      <td>2015</td>\n",
              "      <td>31</td>\n",
              "      <td>1386</td>\n",
              "      <td>1387.50</td>\n",
              "      <td>0.96</td>\n",
              "      <td>0.0</td>\n",
              "      <td>0.97</td>\n",
              "      <td>0</td>\n",
              "      <td>0</td>\n",
              "      <td>0</td>\n",
              "      <td>0</td>\n",
              "      <td>0</td>\n",
              "      <td>0</td>\n",
              "      <td>0</td>\n",
              "      <td>6.0</td>\n",
              "      <td>0.0</td>\n",
              "      <td>5.0</td>\n",
              "      <td>1.0</td>\n",
              "      <td>0.0</td>\n",
              "      <td>1.0</td>\n",
              "    </tr>\n",
              "    <tr>\n",
              "      <th>746</th>\n",
              "      <td>748</td>\n",
              "      <td>5</td>\n",
              "      <td>1</td>\n",
              "      <td>0</td>\n",
              "      <td>1</td>\n",
              "      <td>4</td>\n",
              "      <td>1</td>\n",
              "      <td>2380.0</td>\n",
              "      <td>3</td>\n",
              "      <td>2010</td>\n",
              "      <td>1</td>\n",
              "      <td>14</td>\n",
              "      <td>2011</td>\n",
              "      <td>1</td>\n",
              "      <td>0</td>\n",
              "      <td>1.42</td>\n",
              "      <td>6708.0</td>\n",
              "      <td>1398.026317</td>\n",
              "      <td>8958.3</td>\n",
              "      <td>6045.50</td>\n",
              "      <td>4929.15</td>\n",
              "      <td>11.68</td>\n",
              "      <td>31</td>\n",
              "      <td>7</td>\n",
              "      <td>2015</td>\n",
              "      <td>31</td>\n",
              "      <td>64</td>\n",
              "      <td>52.25</td>\n",
              "      <td>0.91</td>\n",
              "      <td>0.0</td>\n",
              "      <td>1.02</td>\n",
              "      <td>0</td>\n",
              "      <td>0</td>\n",
              "      <td>0</td>\n",
              "      <td>0</td>\n",
              "      <td>0</td>\n",
              "      <td>0</td>\n",
              "      <td>0</td>\n",
              "      <td>6.0</td>\n",
              "      <td>0.0</td>\n",
              "      <td>5.0</td>\n",
              "      <td>1.0</td>\n",
              "      <td>0.0</td>\n",
              "      <td>1.0</td>\n",
              "    </tr>\n",
              "    <tr>\n",
              "      <th>745</th>\n",
              "      <td>747</td>\n",
              "      <td>5</td>\n",
              "      <td>1</td>\n",
              "      <td>0</td>\n",
              "      <td>1</td>\n",
              "      <td>3</td>\n",
              "      <td>3</td>\n",
              "      <td>45740.0</td>\n",
              "      <td>8</td>\n",
              "      <td>2008</td>\n",
              "      <td>0</td>\n",
              "      <td>1</td>\n",
              "      <td>1900</td>\n",
              "      <td>0</td>\n",
              "      <td>0</td>\n",
              "      <td>1.42</td>\n",
              "      <td>9342.5</td>\n",
              "      <td>1993.908095</td>\n",
              "      <td>12397.8</td>\n",
              "      <td>8544.25</td>\n",
              "      <td>7025.09</td>\n",
              "      <td>11.38</td>\n",
              "      <td>31</td>\n",
              "      <td>7</td>\n",
              "      <td>2015</td>\n",
              "      <td>31</td>\n",
              "      <td>83</td>\n",
              "      <td>1387.50</td>\n",
              "      <td>0.76</td>\n",
              "      <td>0.0</td>\n",
              "      <td>1.13</td>\n",
              "      <td>0</td>\n",
              "      <td>0</td>\n",
              "      <td>0</td>\n",
              "      <td>0</td>\n",
              "      <td>0</td>\n",
              "      <td>0</td>\n",
              "      <td>0</td>\n",
              "      <td>6.0</td>\n",
              "      <td>0.0</td>\n",
              "      <td>5.0</td>\n",
              "      <td>1.0</td>\n",
              "      <td>0.0</td>\n",
              "      <td>1.0</td>\n",
              "    </tr>\n",
              "    <tr>\n",
              "      <th>744</th>\n",
              "      <td>746</td>\n",
              "      <td>5</td>\n",
              "      <td>1</td>\n",
              "      <td>0</td>\n",
              "      <td>1</td>\n",
              "      <td>4</td>\n",
              "      <td>3</td>\n",
              "      <td>4330.0</td>\n",
              "      <td>2</td>\n",
              "      <td>2011</td>\n",
              "      <td>1</td>\n",
              "      <td>35</td>\n",
              "      <td>2011</td>\n",
              "      <td>3</td>\n",
              "      <td>0</td>\n",
              "      <td>1.45</td>\n",
              "      <td>7419.5</td>\n",
              "      <td>1501.732316</td>\n",
              "      <td>9820.3</td>\n",
              "      <td>6553.25</td>\n",
              "      <td>5294.02</td>\n",
              "      <td>11.72</td>\n",
              "      <td>31</td>\n",
              "      <td>7</td>\n",
              "      <td>2015</td>\n",
              "      <td>31</td>\n",
              "      <td>53</td>\n",
              "      <td>47.00</td>\n",
              "      <td>0.96</td>\n",
              "      <td>0.0</td>\n",
              "      <td>1.00</td>\n",
              "      <td>0</td>\n",
              "      <td>0</td>\n",
              "      <td>0</td>\n",
              "      <td>0</td>\n",
              "      <td>0</td>\n",
              "      <td>0</td>\n",
              "      <td>0</td>\n",
              "      <td>5.0</td>\n",
              "      <td>0.0</td>\n",
              "      <td>5.0</td>\n",
              "      <td>1.0</td>\n",
              "      <td>0.0</td>\n",
              "      <td>1.0</td>\n",
              "    </tr>\n",
              "  </tbody>\n",
              "</table>\n",
              "</div>"
            ],
            "text/plain": [
              "     Store  DayOfWeek  Promo  ...  SchoolHoliday_fw  StateHoliday_fw  Promo_fw\n",
              "0        1          5      1  ...               1.0              0.0       1.0\n",
              "740    742          5      1  ...               1.0              0.0       1.0\n",
              "746    748          5      1  ...               1.0              0.0       1.0\n",
              "745    747          5      1  ...               1.0              0.0       1.0\n",
              "744    746          5      1  ...               1.0              0.0       1.0\n",
              "\n",
              "[5 rows x 44 columns]"
            ]
          },
          "metadata": {
            "tags": []
          },
          "execution_count": 208
        }
      ]
    },
    {
      "cell_type": "code",
      "metadata": {
        "id": "l5HE5DAXgQoo"
      },
      "source": [
        "#full_test_no.info()"
      ],
      "execution_count": null,
      "outputs": []
    },
    {
      "cell_type": "code",
      "metadata": {
        "id": "mY_Olkb4R7Qd"
      },
      "source": [
        "full_test_no.info()"
      ],
      "execution_count": null,
      "outputs": []
    },
    {
      "cell_type": "code",
      "metadata": {
        "id": "ac8vdjrRt2Fe"
      },
      "source": [
        "X.info()"
      ],
      "execution_count": null,
      "outputs": []
    },
    {
      "cell_type": "code",
      "metadata": {
        "colab": {
          "base_uri": "https://localhost:8080/"
        },
        "id": "edCYRB0CKDwj",
        "outputId": "a192f0b1-6ab3-4244-b9f3-7e48773ca419"
      },
      "source": [
        "full_test_no.shape"
      ],
      "execution_count": 263,
      "outputs": [
        {
          "output_type": "execute_result",
          "data": {
            "text/plain": [
              "(254409, 44)"
            ]
          },
          "metadata": {
            "tags": []
          },
          "execution_count": 263
        }
      ]
    },
    {
      "cell_type": "code",
      "metadata": {
        "id": "4nuQsfcTKFN5"
      },
      "source": [
        "from sklearn.model_selection import train_test_split\n",
        "X_train, X_test, y_train, y_test = train_test_split(X, y, test_size = 0.2, random_state = 42)"
      ],
      "execution_count": 273,
      "outputs": []
    },
    {
      "cell_type": "code",
      "metadata": {
        "id": "g7HfPkI7KMiB"
      },
      "source": [
        "from sklearn.metrics import mean_squared_log_error\n",
        "from math import sqrt"
      ],
      "execution_count": 185,
      "outputs": []
    },
    {
      "cell_type": "code",
      "metadata": {
        "colab": {
          "base_uri": "https://localhost:8080/"
        },
        "id": "lvedEn0TKOGo",
        "outputId": "5b674532-a69b-45b6-84fb-2bc76e7989ca"
      },
      "source": [
        "import lightgbm as lgb\n",
        "train_data = lgb.Dataset(X, label=y)\n",
        "test_data = lgb.Dataset(X_test, label=y_test)\n",
        "\n",
        "param = {'objective': 'regression',\n",
        "         'boosting': 'gbdt',  \n",
        "         'metric': 'l2_root',\n",
        "         'learning_rate': 0.1, \n",
        "         'num_iterations': 3000,\n",
        "         'num_leaves': 69,\n",
        "         'max_depth': -1,\n",
        "         'min_data_in_leaf': 11,\n",
        "         'bagging_fraction': 0.90,\n",
        "         'bagging_freq': 1,\n",
        "         'bagging_seed': 3,\n",
        "         'feature_fraction': 0.90,\n",
        "         'feature_fraction_seed': 2,\n",
        "         'early_stopping_round': 200,\n",
        "         'max_bin': 1000\n",
        "         }\n",
        "\n",
        "lgbm = lgb.train(params=param, verbose_eval=100, train_set=train_data, valid_sets=[test_data])\n",
        "\n",
        "y_pred_lgbm = lgbm.predict(X_test)\n",
        "print('RMSE:', (mean_squared_log_error(np.expm1(y_test), np.expm1(y_pred_lgbm))))"
      ],
      "execution_count": 186,
      "outputs": [
        {
          "output_type": "stream",
          "text": [
            "/usr/local/lib/python3.7/dist-packages/lightgbm/engine.py:118: UserWarning: Found `num_iterations` in params. Will use it instead of argument\n",
            "  warnings.warn(\"Found `{}` in params. Will use it instead of argument\".format(alias))\n",
            "/usr/local/lib/python3.7/dist-packages/lightgbm/engine.py:123: UserWarning: Found `early_stopping_round` in params. Will use it instead of argument\n",
            "  warnings.warn(\"Found `{}` in params. Will use it instead of argument\".format(alias))\n"
          ],
          "name": "stderr"
        },
        {
          "output_type": "stream",
          "text": [
            "Training until validation scores don't improve for 200 rounds.\n",
            "[100]\tvalid_0's rmse: 0.101537\n",
            "[200]\tvalid_0's rmse: 0.0938725\n",
            "[300]\tvalid_0's rmse: 0.0898122\n",
            "[400]\tvalid_0's rmse: 0.0868147\n",
            "[500]\tvalid_0's rmse: 0.0843678\n",
            "[600]\tvalid_0's rmse: 0.0824038\n",
            "[700]\tvalid_0's rmse: 0.0808513\n",
            "[800]\tvalid_0's rmse: 0.0793438\n",
            "[900]\tvalid_0's rmse: 0.0778931\n",
            "[1000]\tvalid_0's rmse: 0.0766555\n",
            "[1100]\tvalid_0's rmse: 0.075471\n",
            "[1200]\tvalid_0's rmse: 0.0744804\n",
            "[1300]\tvalid_0's rmse: 0.0735108\n",
            "[1400]\tvalid_0's rmse: 0.0725665\n",
            "[1500]\tvalid_0's rmse: 0.0717203\n",
            "[1600]\tvalid_0's rmse: 0.0708934\n",
            "[1700]\tvalid_0's rmse: 0.0701202\n",
            "[1800]\tvalid_0's rmse: 0.0693774\n",
            "[1900]\tvalid_0's rmse: 0.0686968\n",
            "[2000]\tvalid_0's rmse: 0.0680465\n",
            "[2100]\tvalid_0's rmse: 0.0674016\n",
            "[2200]\tvalid_0's rmse: 0.0667835\n",
            "[2300]\tvalid_0's rmse: 0.0662125\n",
            "[2400]\tvalid_0's rmse: 0.0656449\n",
            "[2500]\tvalid_0's rmse: 0.0651162\n",
            "[2600]\tvalid_0's rmse: 0.0645957\n",
            "[2700]\tvalid_0's rmse: 0.0641036\n",
            "[2800]\tvalid_0's rmse: 0.0636071\n",
            "[2900]\tvalid_0's rmse: 0.0631332\n",
            "[3000]\tvalid_0's rmse: 0.0626669\n",
            "Did not meet early stopping. Best iteration is:\n",
            "[3000]\tvalid_0's rmse: 0.0626669\n",
            "RMSE: 0.003927143494968413\n"
          ],
          "name": "stdout"
        }
      ]
    },
    {
      "cell_type": "code",
      "metadata": {
        "colab": {
          "base_uri": "https://localhost:8080/"
        },
        "id": "ObosPWUGjyBj",
        "outputId": "7e6bbfa8-1530-4475-e4cf-6f4a3734a56d"
      },
      "source": [
        "y_pred_lgbm"
      ],
      "execution_count": 203,
      "outputs": [
        {
          "output_type": "execute_result",
          "data": {
            "text/plain": [
              "array([9.14636784, 8.85350605, 8.33575189, ..., 8.33837064, 8.753979  ,\n",
              "       9.02742358])"
            ]
          },
          "metadata": {
            "tags": []
          },
          "execution_count": 203
        }
      ]
    },
    {
      "cell_type": "code",
      "metadata": {
        "colab": {
          "base_uri": "https://localhost:8080/"
        },
        "id": "5JeC7agbj72X",
        "outputId": "9366ad98-77c6-4bb8-a23d-438d04e5bce1"
      },
      "source": [
        "y=np.expm1(y_pred_lgbm).round(0)\n",
        "y"
      ],
      "execution_count": 206,
      "outputs": [
        {
          "output_type": "execute_result",
          "data": {
            "text/plain": [
              "array([9379., 6998., 4169., ..., 4180., 6335., 8327.])"
            ]
          },
          "metadata": {
            "tags": []
          },
          "execution_count": 206
        }
      ]
    },
    {
      "cell_type": "code",
      "metadata": {
        "colab": {
          "base_uri": "https://localhost:8080/"
        },
        "id": "h9cIqkzmj0__",
        "outputId": "44a6e69b-57cd-4f07-c8cc-33a675d98e39"
      },
      "source": [
        "y_pred_lgbm_t"
      ],
      "execution_count": 204,
      "outputs": [
        {
          "output_type": "execute_result",
          "data": {
            "text/plain": [
              "array([7.46103316, 7.69278817, 7.77183136, ..., 7.6112512 , 7.52703797,\n",
              "       7.55333764])"
            ]
          },
          "metadata": {
            "tags": []
          },
          "execution_count": 204
        }
      ]
    },
    {
      "cell_type": "code",
      "metadata": {
        "colab": {
          "base_uri": "https://localhost:8080/"
        },
        "id": "B9G2NSiKgm4G",
        "outputId": "4ec1a49a-3950-4af4-8c40-86c41c87d185"
      },
      "source": [
        "y_pred_lgbm_t = lgbm.predict(full_test_no)\n",
        "y_pred_lgbm_t"
      ],
      "execution_count": 265,
      "outputs": [
        {
          "output_type": "execute_result",
          "data": {
            "text/plain": [
              "array([8.13256497, 8.70787395, 8.33818979, ..., 8.20695871, 7.87245881,\n",
              "       8.64700979])"
            ]
          },
          "metadata": {
            "tags": []
          },
          "execution_count": 265
        }
      ]
    },
    {
      "cell_type": "code",
      "metadata": {
        "colab": {
          "base_uri": "https://localhost:8080/"
        },
        "id": "c2DE1gE1gnbJ",
        "outputId": "c53c78d2-ac69-4ff3-810e-cc7b21219b6a"
      },
      "source": [
        "y_lg=np.expm1(y_pred_lgbm_t).round(0)\n",
        "y_lg"
      ],
      "execution_count": 266,
      "outputs": [
        {
          "output_type": "execute_result",
          "data": {
            "text/plain": [
              "array([3403., 6049., 4180., ..., 3665., 2623., 5692.])"
            ]
          },
          "metadata": {
            "tags": []
          },
          "execution_count": 266
        }
      ]
    },
    {
      "cell_type": "code",
      "metadata": {
        "colab": {
          "base_uri": "https://localhost:8080/",
          "height": 729
        },
        "id": "DQ2lzEYGKSy2",
        "outputId": "70be2fef-54a2-450d-b978-4d610789620e"
      },
      "source": [
        "import seaborn as sns\n",
        "feature_imp = pd.DataFrame(sorted(zip(lgbm.feature_importance(), X.columns), reverse=True)[:50], \n",
        "                           columns=['Value','Feature'])\n",
        "plt.figure(figsize=(12, 10))\n",
        "sns.barplot(x=\"Value\", y=\"Feature\", data=feature_imp.sort_values(by=\"Value\", ascending=False))\n",
        "plt.title('LightGBM Features')\n",
        "plt.tight_layout()\n",
        "plt.show()"
      ],
      "execution_count": 267,
      "outputs": [
        {
          "output_type": "display_data",
          "data": {
            "image/png": "[encoded data removed]",
            "text/plain": [
              "<Figure size 864x720 with 1 Axes>"
            ]
          },
          "metadata": {
            "tags": [],
            "needs_background": "light"
          }
        }
      ]
    },
    {
      "cell_type": "code",
      "metadata": {
        "colab": {
          "base_uri": "https://localhost:8080/"
        },
        "id": "zUTvywu1KcVU",
        "outputId": "0063f070-0f38-41c2-ab76-f933da2cafd5"
      },
      "source": [
        "from sklearn.model_selection import KFold\n",
        "from lightgbm import LGBMRegressor\n",
        "\n",
        "errlgb = []\n",
        "y_pred_totlgb = []\n",
        "\n",
        "fold = KFold(n_splits=10, shuffle=True, random_state=101)\n",
        "\n",
        "for train_index, test_index in fold.split(X):\n",
        "    X_train, X_test = X.loc[train_index], X.loc[test_index]\n",
        "    y_train, y_test = y[train_index], y[test_index]\n",
        "\n",
        "    lgbm = LGBMRegressor(**param)\n",
        "    lgbm.fit(X_train, y_train, eval_set=[(X_test, y_test)], verbose=0, early_stopping_rounds=200)\n",
        "\n",
        "    y_pred_lgbm = lgbm.predict(X_test)\n",
        "    print(\"RMSLE LGBM: \", sqrt(mean_squared_log_error(np.exp(y_test), np.exp(y_pred_lgbm))))\n",
        "\n",
        "    errlgb.append(sqrt(mean_squared_log_error(np.exp(y_test), np.exp(y_pred_lgbm))))\n",
        "    p = lgbm.predict(full_test_no)\n",
        "    y_pred_totlgb.append(p)"
      ],
      "execution_count": 274,
      "outputs": [
        {
          "output_type": "stream",
          "text": [
            "/usr/local/lib/python3.7/dist-packages/lightgbm/engine.py:118: UserWarning: Found `num_iterations` in params. Will use it instead of argument\n",
            "  warnings.warn(\"Found `{}` in params. Will use it instead of argument\".format(alias))\n",
            "/usr/local/lib/python3.7/dist-packages/lightgbm/engine.py:123: UserWarning: Found `early_stopping_round` in params. Will use it instead of argument\n",
            "  warnings.warn(\"Found `{}` in params. Will use it instead of argument\".format(alias))\n"
          ],
          "name": "stderr"
        },
        {
          "output_type": "stream",
          "text": [
            "RMSLE LGBM:  0.07885011139199942\n"
          ],
          "name": "stdout"
        },
        {
          "output_type": "stream",
          "text": [
            "/usr/local/lib/python3.7/dist-packages/lightgbm/engine.py:118: UserWarning: Found `num_iterations` in params. Will use it instead of argument\n",
            "  warnings.warn(\"Found `{}` in params. Will use it instead of argument\".format(alias))\n",
            "/usr/local/lib/python3.7/dist-packages/lightgbm/engine.py:123: UserWarning: Found `early_stopping_round` in params. Will use it instead of argument\n",
            "  warnings.warn(\"Found `{}` in params. Will use it instead of argument\".format(alias))\n"
          ],
          "name": "stderr"
        },
        {
          "output_type": "stream",
          "text": [
            "RMSLE LGBM:  0.07909096773416469\n"
          ],
          "name": "stdout"
        },
        {
          "output_type": "stream",
          "text": [
            "/usr/local/lib/python3.7/dist-packages/lightgbm/engine.py:118: UserWarning: Found `num_iterations` in params. Will use it instead of argument\n",
            "  warnings.warn(\"Found `{}` in params. Will use it instead of argument\".format(alias))\n",
            "/usr/local/lib/python3.7/dist-packages/lightgbm/engine.py:123: UserWarning: Found `early_stopping_round` in params. Will use it instead of argument\n",
            "  warnings.warn(\"Found `{}` in params. Will use it instead of argument\".format(alias))\n"
          ],
          "name": "stderr"
        },
        {
          "output_type": "stream",
          "text": [
            "RMSLE LGBM:  0.07905497772566265\n"
          ],
          "name": "stdout"
        },
        {
          "output_type": "stream",
          "text": [
            "/usr/local/lib/python3.7/dist-packages/lightgbm/engine.py:118: UserWarning: Found `num_iterations` in params. Will use it instead of argument\n",
            "  warnings.warn(\"Found `{}` in params. Will use it instead of argument\".format(alias))\n",
            "/usr/local/lib/python3.7/dist-packages/lightgbm/engine.py:123: UserWarning: Found `early_stopping_round` in params. Will use it instead of argument\n",
            "  warnings.warn(\"Found `{}` in params. Will use it instead of argument\".format(alias))\n"
          ],
          "name": "stderr"
        },
        {
          "output_type": "stream",
          "text": [
            "RMSLE LGBM:  0.07800657925229386\n"
          ],
          "name": "stdout"
        },
        {
          "output_type": "stream",
          "text": [
            "/usr/local/lib/python3.7/dist-packages/lightgbm/engine.py:118: UserWarning: Found `num_iterations` in params. Will use it instead of argument\n",
            "  warnings.warn(\"Found `{}` in params. Will use it instead of argument\".format(alias))\n",
            "/usr/local/lib/python3.7/dist-packages/lightgbm/engine.py:123: UserWarning: Found `early_stopping_round` in params. Will use it instead of argument\n",
            "  warnings.warn(\"Found `{}` in params. Will use it instead of argument\".format(alias))\n"
          ],
          "name": "stderr"
        },
        {
          "output_type": "stream",
          "text": [
            "RMSLE LGBM:  0.08067066939233529\n"
          ],
          "name": "stdout"
        },
        {
          "output_type": "stream",
          "text": [
            "/usr/local/lib/python3.7/dist-packages/lightgbm/engine.py:118: UserWarning: Found `num_iterations` in params. Will use it instead of argument\n",
            "  warnings.warn(\"Found `{}` in params. Will use it instead of argument\".format(alias))\n",
            "/usr/local/lib/python3.7/dist-packages/lightgbm/engine.py:123: UserWarning: Found `early_stopping_round` in params. Will use it instead of argument\n",
            "  warnings.warn(\"Found `{}` in params. Will use it instead of argument\".format(alias))\n"
          ],
          "name": "stderr"
        },
        {
          "output_type": "stream",
          "text": [
            "RMSLE LGBM:  0.07796859164124877\n"
          ],
          "name": "stdout"
        },
        {
          "output_type": "stream",
          "text": [
            "/usr/local/lib/python3.7/dist-packages/lightgbm/engine.py:118: UserWarning: Found `num_iterations` in params. Will use it instead of argument\n",
            "  warnings.warn(\"Found `{}` in params. Will use it instead of argument\".format(alias))\n",
            "/usr/local/lib/python3.7/dist-packages/lightgbm/engine.py:123: UserWarning: Found `early_stopping_round` in params. Will use it instead of argument\n",
            "  warnings.warn(\"Found `{}` in params. Will use it instead of argument\".format(alias))\n"
          ],
          "name": "stderr"
        },
        {
          "output_type": "stream",
          "text": [
            "RMSLE LGBM:  0.07933080302988456\n"
          ],
          "name": "stdout"
        },
        {
          "output_type": "stream",
          "text": [
            "/usr/local/lib/python3.7/dist-packages/lightgbm/engine.py:118: UserWarning: Found `num_iterations` in params. Will use it instead of argument\n",
            "  warnings.warn(\"Found `{}` in params. Will use it instead of argument\".format(alias))\n",
            "/usr/local/lib/python3.7/dist-packages/lightgbm/engine.py:123: UserWarning: Found `early_stopping_round` in params. Will use it instead of argument\n",
            "  warnings.warn(\"Found `{}` in params. Will use it instead of argument\".format(alias))\n"
          ],
          "name": "stderr"
        },
        {
          "output_type": "stream",
          "text": [
            "RMSLE LGBM:  0.07784667135361407\n"
          ],
          "name": "stdout"
        },
        {
          "output_type": "stream",
          "text": [
            "/usr/local/lib/python3.7/dist-packages/lightgbm/engine.py:118: UserWarning: Found `num_iterations` in params. Will use it instead of argument\n",
            "  warnings.warn(\"Found `{}` in params. Will use it instead of argument\".format(alias))\n",
            "/usr/local/lib/python3.7/dist-packages/lightgbm/engine.py:123: UserWarning: Found `early_stopping_round` in params. Will use it instead of argument\n",
            "  warnings.warn(\"Found `{}` in params. Will use it instead of argument\".format(alias))\n"
          ],
          "name": "stderr"
        },
        {
          "output_type": "stream",
          "text": [
            "RMSLE LGBM:  0.0791153500307603\n"
          ],
          "name": "stdout"
        },
        {
          "output_type": "stream",
          "text": [
            "/usr/local/lib/python3.7/dist-packages/lightgbm/engine.py:118: UserWarning: Found `num_iterations` in params. Will use it instead of argument\n",
            "  warnings.warn(\"Found `{}` in params. Will use it instead of argument\".format(alias))\n",
            "/usr/local/lib/python3.7/dist-packages/lightgbm/engine.py:123: UserWarning: Found `early_stopping_round` in params. Will use it instead of argument\n",
            "  warnings.warn(\"Found `{}` in params. Will use it instead of argument\".format(alias))\n"
          ],
          "name": "stderr"
        },
        {
          "output_type": "stream",
          "text": [
            "RMSLE LGBM:  0.07898768206498244\n"
          ],
          "name": "stdout"
        }
      ]
    },
    {
      "cell_type": "code",
      "metadata": {
        "colab": {
          "base_uri": "https://localhost:8080/"
        },
        "id": "cOwVmwoGKl92",
        "outputId": "d95da72a-daed-4958-e65c-6bde2f13eb5b"
      },
      "source": [
        "gb_fib = np.expm1(np.mean(y_pred_totlgb,0))\n",
        "gb_fib"
      ],
      "execution_count": 281,
      "outputs": [
        {
          "output_type": "execute_result",
          "data": {
            "text/plain": [
              "array([3430.66627866, 5983.49830731, 4116.9220232 , ..., 3659.27588104,\n",
              "       2705.5253651 , 5858.13963818])"
            ]
          },
          "metadata": {
            "tags": []
          },
          "execution_count": 281
        }
      ]
    },
    {
      "cell_type": "code",
      "metadata": {
        "id": "ePKhuf4dKpwF"
      },
      "source": [
        "final_data1 = {'Index ': re_test_in.index1, 'Response':gb_fib }\n",
        "submission7 = pd.DataFrame(data=final_data1)"
      ],
      "execution_count": 282,
      "outputs": []
    },
    {
      "cell_type": "code",
      "metadata": {
        "id": "fATuDKuHKr_Y"
      },
      "source": [
        "final_data1 = {'Index ':test_Z.index1, 'Response':0 }\n",
        "submission_od = pd.DataFrame(data=final_data1)"
      ],
      "execution_count": 283,
      "outputs": []
    },
    {
      "cell_type": "code",
      "metadata": {
        "id": "YBgg3uqcKt3w"
      },
      "source": [
        "gb_fib_j= pd.concat([submission7, submission_od])"
      ],
      "execution_count": 284,
      "outputs": []
    },
    {
      "cell_type": "code",
      "metadata": {
        "id": "GuUsp_ezKvPo"
      },
      "source": [
        "gb_fib_j= gb_fib_j.sort_values(by=['Index '],ascending=True)"
      ],
      "execution_count": 285,
      "outputs": []
    },
    {
      "cell_type": "code",
      "metadata": {
        "colab": {
          "base_uri": "https://localhost:8080/",
          "height": 419
        },
        "id": "aLnmz-noKwyM",
        "outputId": "ed0e223a-0bf2-4221-bbb5-2d0089385c69"
      },
      "source": [
        "gb_fib_j"
      ],
      "execution_count": 286,
      "outputs": [
        {
          "output_type": "execute_result",
          "data": {
            "text/html": [
              "<div>\n",
              "<style scoped>\n",
              "    .dataframe tbody tr th:only-of-type {\n",
              "        vertical-align: middle;\n",
              "    }\n",
              "\n",
              "    .dataframe tbody tr th {\n",
              "        vertical-align: top;\n",
              "    }\n",
              "\n",
              "    .dataframe thead th {\n",
              "        text-align: right;\n",
              "    }\n",
              "</style>\n",
              "<table border=\"1\" class=\"dataframe\">\n",
              "  <thead>\n",
              "    <tr style=\"text-align: right;\">\n",
              "      <th></th>\n",
              "      <th>Index</th>\n",
              "      <th>Response</th>\n",
              "    </tr>\n",
              "  </thead>\n",
              "  <tbody>\n",
              "    <tr>\n",
              "      <th>0</th>\n",
              "      <td>0</td>\n",
              "      <td>0.000000</td>\n",
              "    </tr>\n",
              "    <tr>\n",
              "      <th>0</th>\n",
              "      <td>1</td>\n",
              "      <td>3430.666279</td>\n",
              "    </tr>\n",
              "    <tr>\n",
              "      <th>1</th>\n",
              "      <td>2</td>\n",
              "      <td>5983.498307</td>\n",
              "    </tr>\n",
              "    <tr>\n",
              "      <th>2</th>\n",
              "      <td>3</td>\n",
              "      <td>4116.922023</td>\n",
              "    </tr>\n",
              "    <tr>\n",
              "      <th>3</th>\n",
              "      <td>4</td>\n",
              "      <td>7062.595282</td>\n",
              "    </tr>\n",
              "    <tr>\n",
              "      <th>...</th>\n",
              "      <td>...</td>\n",
              "      <td>...</td>\n",
              "    </tr>\n",
              "    <tr>\n",
              "      <th>254404</th>\n",
              "      <td>305158</td>\n",
              "      <td>9721.060637</td>\n",
              "    </tr>\n",
              "    <tr>\n",
              "      <th>254405</th>\n",
              "      <td>305159</td>\n",
              "      <td>6910.296432</td>\n",
              "    </tr>\n",
              "    <tr>\n",
              "      <th>254406</th>\n",
              "      <td>305160</td>\n",
              "      <td>3659.275881</td>\n",
              "    </tr>\n",
              "    <tr>\n",
              "      <th>254407</th>\n",
              "      <td>305161</td>\n",
              "      <td>2705.525365</td>\n",
              "    </tr>\n",
              "    <tr>\n",
              "      <th>254408</th>\n",
              "      <td>305162</td>\n",
              "      <td>5858.139638</td>\n",
              "    </tr>\n",
              "  </tbody>\n",
              "</table>\n",
              "<p>305163 rows × 2 columns</p>\n",
              "</div>"
            ],
            "text/plain": [
              "        Index      Response\n",
              "0            0     0.000000\n",
              "0            1  3430.666279\n",
              "1            2  5983.498307\n",
              "2            3  4116.922023\n",
              "3            4  7062.595282\n",
              "...        ...          ...\n",
              "254404  305158  9721.060637\n",
              "254405  305159  6910.296432\n",
              "254406  305160  3659.275881\n",
              "254407  305161  2705.525365\n",
              "254408  305162  5858.139638\n",
              "\n",
              "[305163 rows x 2 columns]"
            ]
          },
          "metadata": {
            "tags": []
          },
          "execution_count": 286
        }
      ]
    },
    {
      "cell_type": "code",
      "metadata": {
        "colab": {
          "base_uri": "https://localhost:8080/"
        },
        "id": "sf-1cfUqkdJQ",
        "outputId": "f9b37623-a8c5-47b2-a9d7-e290983237cc"
      },
      "source": [
        "%cd \"/content/drive/MyDrive/dok\"\n",
        "gb_fib_j.to_csv('up_submission.csv', index =False)"
      ],
      "execution_count": 288,
      "outputs": [
        {
          "output_type": "stream",
          "text": [
            "/content/drive/MyDrive/dok\n"
          ],
          "name": "stdout"
        }
      ]
    }
  ]
}